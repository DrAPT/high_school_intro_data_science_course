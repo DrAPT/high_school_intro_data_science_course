{
 "cells": [
  {
   "cell_type": "markdown",
   "metadata": {},
   "source": [
    "## Summarizing Data\n",
    "### Introduction to Data Science\n",
    "### Last Updated: November 19, 2022\n",
    "---  \n",
    "\n",
    "### PREREQUISITES\n",
    "- variables\n",
    "- data types\n",
    "- pandas\n",
    "- basic statistical quantities: counts, mean, median, standard deviation\n",
    "- visualization\n",
    "\n",
    "### SOURCES \n",
    "- [Pearson correlation](https://en.wikipedia.org/wiki/Pearson_correlation_coefficient)\n",
    "\n",
    "### OBJECTIVES\n",
    "- Explain how best to summarize different types of data\n",
    "- Understand what correlation represents\n",
    "\n",
    "### CONCEPTS\n",
    "- Summarizing categorical data with frequencies (counts)\n",
    "- Summarizing quantitative data with mean, median, standard deviation, quantiles\n",
    "- Summarizing bivariate data with correlation\n",
    "\n",
    "---"
   ]
  },
  {
   "cell_type": "markdown",
   "metadata": {},
   "source": [
    "### I. Summarizing Data\n",
    "\n",
    "There is often too much data to easily draw conclusions.  \n",
    "Visualizations can help understand data.  \n",
    "Summarizing the data can also help.  \n",
    "\n",
    "When deciding on useful summary statistics on data, it can be helpful to think about its data type.\n",
    "\n",
    "For example, the statistics you would compute on a categorical variable would differ from a quantitative variable.\n",
    "\n",
    "Let's import modules and look at the `Country_Happiness` dataset."
   ]
  },
  {
   "cell_type": "code",
   "execution_count": 3,
   "metadata": {},
   "outputs": [],
   "source": [
    "import pandas as pd\n",
    "import seaborn as sns"
   ]
  },
  {
   "cell_type": "code",
   "execution_count": 4,
   "metadata": {},
   "outputs": [
    {
     "data": {
      "text/html": [
       "<div>\n",
       "<style scoped>\n",
       "    .dataframe tbody tr th:only-of-type {\n",
       "        vertical-align: middle;\n",
       "    }\n",
       "\n",
       "    .dataframe tbody tr th {\n",
       "        vertical-align: top;\n",
       "    }\n",
       "\n",
       "    .dataframe thead th {\n",
       "        text-align: right;\n",
       "    }\n",
       "</style>\n",
       "<table border=\"1\" class=\"dataframe\">\n",
       "  <thead>\n",
       "    <tr style=\"text-align: right;\">\n",
       "      <th></th>\n",
       "      <th>Country</th>\n",
       "      <th>Happiness score</th>\n",
       "      <th>Whisker-high</th>\n",
       "      <th>Whisker-low</th>\n",
       "      <th>Dystopia (1.92) + residual</th>\n",
       "      <th>Explained by: GDP per capita</th>\n",
       "      <th>Explained by: Social support</th>\n",
       "      <th>Explained by: Healthy life expectancy</th>\n",
       "      <th>Explained by: Freedom to make life choices</th>\n",
       "      <th>Explained by: Generosity</th>\n",
       "      <th>Explained by: Perceptions of corruption</th>\n",
       "    </tr>\n",
       "  </thead>\n",
       "  <tbody>\n",
       "    <tr>\n",
       "      <th>0</th>\n",
       "      <td>Finland</td>\n",
       "      <td>7.632</td>\n",
       "      <td>7.695</td>\n",
       "      <td>7.569</td>\n",
       "      <td>2.595</td>\n",
       "      <td>1.305</td>\n",
       "      <td>1.592</td>\n",
       "      <td>0.874</td>\n",
       "      <td>0.681</td>\n",
       "      <td>0.192</td>\n",
       "      <td>0.393</td>\n",
       "    </tr>\n",
       "    <tr>\n",
       "      <th>1</th>\n",
       "      <td>Norway</td>\n",
       "      <td>7.594</td>\n",
       "      <td>7.657</td>\n",
       "      <td>7.530</td>\n",
       "      <td>2.383</td>\n",
       "      <td>1.456</td>\n",
       "      <td>1.582</td>\n",
       "      <td>0.861</td>\n",
       "      <td>0.686</td>\n",
       "      <td>0.286</td>\n",
       "      <td>0.340</td>\n",
       "    </tr>\n",
       "    <tr>\n",
       "      <th>2</th>\n",
       "      <td>Denmark</td>\n",
       "      <td>7.555</td>\n",
       "      <td>7.623</td>\n",
       "      <td>7.487</td>\n",
       "      <td>2.370</td>\n",
       "      <td>1.351</td>\n",
       "      <td>1.590</td>\n",
       "      <td>0.868</td>\n",
       "      <td>0.683</td>\n",
       "      <td>0.284</td>\n",
       "      <td>0.408</td>\n",
       "    </tr>\n",
       "  </tbody>\n",
       "</table>\n",
       "</div>"
      ],
      "text/plain": [
       "   Country  Happiness score  Whisker-high  Whisker-low  \\\n",
       "0  Finland            7.632         7.695        7.569   \n",
       "1   Norway            7.594         7.657        7.530   \n",
       "2  Denmark            7.555         7.623        7.487   \n",
       "\n",
       "   Dystopia (1.92) + residual  Explained by: GDP per capita  \\\n",
       "0                       2.595                         1.305   \n",
       "1                       2.383                         1.456   \n",
       "2                       2.370                         1.351   \n",
       "\n",
       "   Explained by: Social support  Explained by: Healthy life expectancy  \\\n",
       "0                         1.592                                  0.874   \n",
       "1                         1.582                                  0.861   \n",
       "2                         1.590                                  0.868   \n",
       "\n",
       "   Explained by: Freedom to make life choices  Explained by: Generosity  \\\n",
       "0                                       0.681                     0.192   \n",
       "1                                       0.686                     0.286   \n",
       "2                                       0.683                     0.284   \n",
       "\n",
       "   Explained by: Perceptions of corruption  \n",
       "0                                    0.393  \n",
       "1                                    0.340  \n",
       "2                                    0.408  "
      ]
     },
     "execution_count": 4,
     "metadata": {},
     "output_type": "execute_result"
    }
   ],
   "source": [
    "df = pd.read_csv('../datasets/Country_Happiness.csv')\n",
    "df.head(3)"
   ]
  },
  {
   "cell_type": "markdown",
   "metadata": {},
   "source": [
    "### II. Categorical Data\n",
    "\n",
    "Country has discrete levels. It doesn't make sense to directly calculate on it (e.g., mean).  \n",
    "Given this information, country is a categorical variable.\n",
    "\n",
    "For categoricals, it can be helpful to count the number of each level."
   ]
  },
  {
   "cell_type": "code",
   "execution_count": 6,
   "metadata": {},
   "outputs": [
    {
     "data": {
      "text/plain": [
       "Finland      1\n",
       "Ghana        1\n",
       "Nepal        1\n",
       "Venezuela    1\n",
       "Gabon        1\n",
       "            ..\n",
       "Latvia       1\n",
       "Japan        1\n",
       "Mauritius    1\n",
       "Jamaica      1\n",
       "Burundi      1\n",
       "Name: Country, Length: 156, dtype: int64"
      ]
     },
     "execution_count": 6,
     "metadata": {},
     "output_type": "execute_result"
    }
   ],
   "source": [
    "df.Country.value_counts()"
   ]
  },
  {
   "cell_type": "markdown",
   "metadata": {},
   "source": [
    "It turns out each country appears once in this dataset.  \n",
    "This makes sense, as each record pertains to a country. The field is a unique identifier."
   ]
  },
  {
   "cell_type": "markdown",
   "metadata": {},
   "source": [
    "## III. Quantitative Data\n",
    "\n",
    "The remaining fields all contain floating point values.  \n",
    "For this data type, it can be helpful to compute numerical summaries.\n",
    "\n",
    "Watch what happens when we call `describe()` on the data.  \n",
    "It computes summary statistics on all of the quantitative fields, ignoring the categorical variable: Country."
   ]
  },
  {
   "cell_type": "code",
   "execution_count": 9,
   "metadata": {},
   "outputs": [
    {
     "data": {
      "text/html": [
       "<div>\n",
       "<style scoped>\n",
       "    .dataframe tbody tr th:only-of-type {\n",
       "        vertical-align: middle;\n",
       "    }\n",
       "\n",
       "    .dataframe tbody tr th {\n",
       "        vertical-align: top;\n",
       "    }\n",
       "\n",
       "    .dataframe thead th {\n",
       "        text-align: right;\n",
       "    }\n",
       "</style>\n",
       "<table border=\"1\" class=\"dataframe\">\n",
       "  <thead>\n",
       "    <tr style=\"text-align: right;\">\n",
       "      <th></th>\n",
       "      <th>Happiness score</th>\n",
       "      <th>Whisker-high</th>\n",
       "      <th>Whisker-low</th>\n",
       "      <th>Dystopia (1.92) + residual</th>\n",
       "      <th>Explained by: GDP per capita</th>\n",
       "      <th>Explained by: Social support</th>\n",
       "      <th>Explained by: Healthy life expectancy</th>\n",
       "      <th>Explained by: Freedom to make life choices</th>\n",
       "      <th>Explained by: Generosity</th>\n",
       "      <th>Explained by: Perceptions of corruption</th>\n",
       "    </tr>\n",
       "  </thead>\n",
       "  <tbody>\n",
       "    <tr>\n",
       "      <th>count</th>\n",
       "      <td>156.000000</td>\n",
       "      <td>156.000000</td>\n",
       "      <td>156.000000</td>\n",
       "      <td>156.000000</td>\n",
       "      <td>156.000000</td>\n",
       "      <td>156.000000</td>\n",
       "      <td>156.000000</td>\n",
       "      <td>156.000000</td>\n",
       "      <td>156.000000</td>\n",
       "      <td>156.000000</td>\n",
       "    </tr>\n",
       "    <tr>\n",
       "      <th>mean</th>\n",
       "      <td>5.375878</td>\n",
       "      <td>5.478654</td>\n",
       "      <td>5.273090</td>\n",
       "      <td>1.922891</td>\n",
       "      <td>0.887417</td>\n",
       "      <td>1.216571</td>\n",
       "      <td>0.598026</td>\n",
       "      <td>0.456981</td>\n",
       "      <td>0.181571</td>\n",
       "      <td>0.112474</td>\n",
       "    </tr>\n",
       "    <tr>\n",
       "      <th>std</th>\n",
       "      <td>1.119507</td>\n",
       "      <td>1.107522</td>\n",
       "      <td>1.132544</td>\n",
       "      <td>0.513760</td>\n",
       "      <td>0.382573</td>\n",
       "      <td>0.300380</td>\n",
       "      <td>0.247925</td>\n",
       "      <td>0.162750</td>\n",
       "      <td>0.098805</td>\n",
       "      <td>0.096362</td>\n",
       "    </tr>\n",
       "    <tr>\n",
       "      <th>min</th>\n",
       "      <td>2.905000</td>\n",
       "      <td>3.074000</td>\n",
       "      <td>2.735000</td>\n",
       "      <td>0.292000</td>\n",
       "      <td>0.000000</td>\n",
       "      <td>0.000000</td>\n",
       "      <td>0.000000</td>\n",
       "      <td>0.000000</td>\n",
       "      <td>0.000000</td>\n",
       "      <td>0.000000</td>\n",
       "    </tr>\n",
       "    <tr>\n",
       "      <th>25%</th>\n",
       "      <td>4.453750</td>\n",
       "      <td>4.589750</td>\n",
       "      <td>4.344750</td>\n",
       "      <td>1.654250</td>\n",
       "      <td>0.616250</td>\n",
       "      <td>1.076750</td>\n",
       "      <td>0.422250</td>\n",
       "      <td>0.358250</td>\n",
       "      <td>0.109500</td>\n",
       "      <td>0.051000</td>\n",
       "    </tr>\n",
       "    <tr>\n",
       "      <th>50%</th>\n",
       "      <td>5.378000</td>\n",
       "      <td>5.477500</td>\n",
       "      <td>5.284500</td>\n",
       "      <td>1.908500</td>\n",
       "      <td>0.949500</td>\n",
       "      <td>1.261500</td>\n",
       "      <td>0.644000</td>\n",
       "      <td>0.494000</td>\n",
       "      <td>0.174000</td>\n",
       "      <td>0.082000</td>\n",
       "    </tr>\n",
       "    <tr>\n",
       "      <th>75%</th>\n",
       "      <td>6.168500</td>\n",
       "      <td>6.260000</td>\n",
       "      <td>6.051250</td>\n",
       "      <td>2.270250</td>\n",
       "      <td>1.197750</td>\n",
       "      <td>1.463000</td>\n",
       "      <td>0.777250</td>\n",
       "      <td>0.580000</td>\n",
       "      <td>0.242250</td>\n",
       "      <td>0.139000</td>\n",
       "    </tr>\n",
       "    <tr>\n",
       "      <th>max</th>\n",
       "      <td>7.632000</td>\n",
       "      <td>7.695000</td>\n",
       "      <td>7.569000</td>\n",
       "      <td>2.961000</td>\n",
       "      <td>1.649000</td>\n",
       "      <td>1.644000</td>\n",
       "      <td>1.030000</td>\n",
       "      <td>0.724000</td>\n",
       "      <td>0.598000</td>\n",
       "      <td>0.457000</td>\n",
       "    </tr>\n",
       "  </tbody>\n",
       "</table>\n",
       "</div>"
      ],
      "text/plain": [
       "       Happiness score  Whisker-high  Whisker-low  Dystopia (1.92) + residual  \\\n",
       "count       156.000000    156.000000   156.000000                  156.000000   \n",
       "mean          5.375878      5.478654     5.273090                    1.922891   \n",
       "std           1.119507      1.107522     1.132544                    0.513760   \n",
       "min           2.905000      3.074000     2.735000                    0.292000   \n",
       "25%           4.453750      4.589750     4.344750                    1.654250   \n",
       "50%           5.378000      5.477500     5.284500                    1.908500   \n",
       "75%           6.168500      6.260000     6.051250                    2.270250   \n",
       "max           7.632000      7.695000     7.569000                    2.961000   \n",
       "\n",
       "       Explained by: GDP per capita  Explained by: Social support  \\\n",
       "count                    156.000000                    156.000000   \n",
       "mean                       0.887417                      1.216571   \n",
       "std                        0.382573                      0.300380   \n",
       "min                        0.000000                      0.000000   \n",
       "25%                        0.616250                      1.076750   \n",
       "50%                        0.949500                      1.261500   \n",
       "75%                        1.197750                      1.463000   \n",
       "max                        1.649000                      1.644000   \n",
       "\n",
       "       Explained by: Healthy life expectancy  \\\n",
       "count                             156.000000   \n",
       "mean                                0.598026   \n",
       "std                                 0.247925   \n",
       "min                                 0.000000   \n",
       "25%                                 0.422250   \n",
       "50%                                 0.644000   \n",
       "75%                                 0.777250   \n",
       "max                                 1.030000   \n",
       "\n",
       "       Explained by: Freedom to make life choices  Explained by: Generosity  \\\n",
       "count                                  156.000000                156.000000   \n",
       "mean                                     0.456981                  0.181571   \n",
       "std                                      0.162750                  0.098805   \n",
       "min                                      0.000000                  0.000000   \n",
       "25%                                      0.358250                  0.109500   \n",
       "50%                                      0.494000                  0.174000   \n",
       "75%                                      0.580000                  0.242250   \n",
       "max                                      0.724000                  0.598000   \n",
       "\n",
       "       Explained by: Perceptions of corruption  \n",
       "count                               156.000000  \n",
       "mean                                  0.112474  \n",
       "std                                   0.096362  \n",
       "min                                   0.000000  \n",
       "25%                                   0.051000  \n",
       "50%                                   0.082000  \n",
       "75%                                   0.139000  \n",
       "max                                   0.457000  "
      ]
     },
     "execution_count": 9,
     "metadata": {},
     "output_type": "execute_result"
    }
   ],
   "source": [
    "df.describe()"
   ]
  },
  {
   "cell_type": "markdown",
   "metadata": {},
   "source": [
    "You can summarize specific columns by placing them in a list and subsetting like this:"
   ]
  },
  {
   "cell_type": "code",
   "execution_count": 12,
   "metadata": {},
   "outputs": [
    {
     "data": {
      "text/html": [
       "<div>\n",
       "<style scoped>\n",
       "    .dataframe tbody tr th:only-of-type {\n",
       "        vertical-align: middle;\n",
       "    }\n",
       "\n",
       "    .dataframe tbody tr th {\n",
       "        vertical-align: top;\n",
       "    }\n",
       "\n",
       "    .dataframe thead th {\n",
       "        text-align: right;\n",
       "    }\n",
       "</style>\n",
       "<table border=\"1\" class=\"dataframe\">\n",
       "  <thead>\n",
       "    <tr style=\"text-align: right;\">\n",
       "      <th></th>\n",
       "      <th>Happiness score</th>\n",
       "      <th>Whisker-low</th>\n",
       "    </tr>\n",
       "  </thead>\n",
       "  <tbody>\n",
       "    <tr>\n",
       "      <th>count</th>\n",
       "      <td>156.000000</td>\n",
       "      <td>156.000000</td>\n",
       "    </tr>\n",
       "    <tr>\n",
       "      <th>mean</th>\n",
       "      <td>5.375878</td>\n",
       "      <td>5.273090</td>\n",
       "    </tr>\n",
       "    <tr>\n",
       "      <th>std</th>\n",
       "      <td>1.119507</td>\n",
       "      <td>1.132544</td>\n",
       "    </tr>\n",
       "    <tr>\n",
       "      <th>min</th>\n",
       "      <td>2.905000</td>\n",
       "      <td>2.735000</td>\n",
       "    </tr>\n",
       "    <tr>\n",
       "      <th>25%</th>\n",
       "      <td>4.453750</td>\n",
       "      <td>4.344750</td>\n",
       "    </tr>\n",
       "    <tr>\n",
       "      <th>50%</th>\n",
       "      <td>5.378000</td>\n",
       "      <td>5.284500</td>\n",
       "    </tr>\n",
       "    <tr>\n",
       "      <th>75%</th>\n",
       "      <td>6.168500</td>\n",
       "      <td>6.051250</td>\n",
       "    </tr>\n",
       "    <tr>\n",
       "      <th>max</th>\n",
       "      <td>7.632000</td>\n",
       "      <td>7.569000</td>\n",
       "    </tr>\n",
       "  </tbody>\n",
       "</table>\n",
       "</div>"
      ],
      "text/plain": [
       "       Happiness score  Whisker-low\n",
       "count       156.000000   156.000000\n",
       "mean          5.375878     5.273090\n",
       "std           1.119507     1.132544\n",
       "min           2.905000     2.735000\n",
       "25%           4.453750     4.344750\n",
       "50%           5.378000     5.284500\n",
       "75%           6.168500     6.051250\n",
       "max           7.632000     7.569000"
      ]
     },
     "execution_count": 12,
     "metadata": {},
     "output_type": "execute_result"
    }
   ],
   "source": [
    "df[['Happiness score','Whisker-low']].describe()"
   ]
  },
  {
   "cell_type": "markdown",
   "metadata": {},
   "source": [
    "**Central Tendency**  \n",
    "You might recall that the mean is sensitive to outliers, while the median is not.  \n",
    "For data with outliers, the median is preferable for measuring central tendency.\n",
    "\n",
    "The mean and median (denoted 50%) of the Happiness score are similar, which indicates the data is not being skewed by outliers.  \n",
    "Let's look at the histogram of Happiness score to better understand the distribution:"
   ]
  },
  {
   "cell_type": "code",
   "execution_count": 10,
   "metadata": {},
   "outputs": [
    {
     "data": {
      "text/plain": [
       "<AxesSubplot:xlabel='Happiness score', ylabel='Count'>"
      ]
     },
     "execution_count": 10,
     "metadata": {},
     "output_type": "execute_result"
    },
    {
     "data": {
      "image/png": "[encoded data removed]",
      "text/plain": [
       "<Figure size 432x288 with 1 Axes>"
      ]
     },
     "metadata": {
      "needs_background": "light"
     },
     "output_type": "display_data"
    }
   ],
   "source": [
    "sns.histplot(df['Happiness score'], bins=20)"
   ]
  },
  {
   "cell_type": "markdown",
   "metadata": {},
   "source": [
    "The distribution is fairly symmetric, without outliers, and ranging from approximately 3 to 8. "
   ]
  },
  {
   "cell_type": "markdown",
   "metadata": {},
   "source": [
    "**Spread**  \n",
    "The standard deviation of the Happiness score is 1.12  \n",
    "To understand this in relative terms, sometimes the ratio of the standard deviation to the mean is computed.  \n",
    "This is called the *coefficient of variation (c.v.)*."
   ]
  },
  {
   "cell_type": "code",
   "execution_count": 14,
   "metadata": {},
   "outputs": [
    {
     "name": "stdout",
     "output_type": "stream",
     "text": [
      "cv: 0.20824626834815463\n"
     ]
    }
   ],
   "source": [
    "cv = df['Happiness score'].std() / df['Happiness score'].mean()\n",
    "print('cv:', cv)"
   ]
  },
  {
   "cell_type": "markdown",
   "metadata": {},
   "source": [
    "**Quantiles**  \n",
    "Calling `describe()` on the dataframe shows many quantile points. For example:   \n",
    "The `50%` row denotes the median. Half of the Happiness scores fall below 5.378000.  \n",
    "The `75%` row denotes the 75th percentile. 75% of the Happiness scores fall below 6.168500."
   ]
  },
  {
   "cell_type": "markdown",
   "metadata": {},
   "source": [
    "---"
   ]
  },
  {
   "cell_type": "markdown",
   "metadata": {},
   "source": [
    "#### TRY FOR YOURSELF\n",
    "1) For the `GDP` variable, calculate the 99.5 percentile"
   ]
  },
  {
   "cell_type": "code",
   "execution_count": null,
   "metadata": {},
   "outputs": [],
   "source": []
  },
  {
   "cell_type": "markdown",
   "metadata": {},
   "source": [
    "---"
   ]
  },
  {
   "cell_type": "markdown",
   "metadata": {},
   "source": [
    "### IV. Bivariate Relationships in Quantitative Data\n",
    "\n",
    "Studying bivariate relationships in quantitative data can be both interesting and useful in modeling.  \n",
    "As we saw earlier, scatterplots can show the association between two variables.\n",
    "\n",
    "Let's look at the relationship between Freedom and Happiness score:"
   ]
  },
  {
   "cell_type": "code",
   "execution_count": 24,
   "metadata": {},
   "outputs": [
    {
     "data": {
      "text/plain": [
       "<AxesSubplot:xlabel='Explained by: Freedom to make life choices', ylabel='Happiness score'>"
      ]
     },
     "execution_count": 24,
     "metadata": {},
     "output_type": "execute_result"
    },
    {
     "data": {
      "image/png": "[encoded data removed]",
      "text/plain": [
       "<Figure size 432x288 with 1 Axes>"
      ]
     },
     "metadata": {
      "needs_background": "light"
     },
     "output_type": "display_data"
    }
   ],
   "source": [
    "sns.scatterplot(x='Explained by: Freedom to make life choices', y='Happiness score', data=df)"
   ]
  },
  {
   "cell_type": "markdown",
   "metadata": {},
   "source": [
    "**What is the relationship between these variables?**  "
   ]
  },
  {
   "cell_type": "markdown",
   "metadata": {
    "jupyter": {
     "source_hidden": true
    },
    "tags": []
   },
   "source": [
    "Answer: Roughly, there is a positive association."
   ]
  },
  {
   "cell_type": "markdown",
   "metadata": {},
   "source": [
    "**Correlation**  \n",
    "It can be helpful to quantify the association between two quantitative variables and express the value in a defined range.  \n",
    "The *Pearson correlation coefficient*, sometimes simply called *correlation*, is a measure that does this, and it takes a value in $[-1, 1]$.\n",
    "\n",
    "Formally, correlation is the ratio between the covariance of two variables and the product of their standard deviations:\n",
    "\n",
    "$\\rho_{XY} = \\frac{Cov(X,Y)}{\\sigma_X \\sigma_Y}$\n",
    "\n",
    "Correlation = 1 => strong positive (linear) association. X and Y increase together.  \n",
    "Correlation = 0 => no association  \n",
    "Correlation = -1 => strong negative association. X and Y move in opposite directions.\n",
    "\n",
    "Next, let's compute the correlation between Happiness and Freedom:"
   ]
  },
  {
   "cell_type": "code",
   "execution_count": 22,
   "metadata": {},
   "outputs": [
    {
     "data": {
      "text/html": [
       "<div>\n",
       "<style scoped>\n",
       "    .dataframe tbody tr th:only-of-type {\n",
       "        vertical-align: middle;\n",
       "    }\n",
       "\n",
       "    .dataframe tbody tr th {\n",
       "        vertical-align: top;\n",
       "    }\n",
       "\n",
       "    .dataframe thead th {\n",
       "        text-align: right;\n",
       "    }\n",
       "</style>\n",
       "<table border=\"1\" class=\"dataframe\">\n",
       "  <thead>\n",
       "    <tr style=\"text-align: right;\">\n",
       "      <th></th>\n",
       "      <th>Explained by: Freedom to make life choices</th>\n",
       "      <th>Happiness score</th>\n",
       "    </tr>\n",
       "  </thead>\n",
       "  <tbody>\n",
       "    <tr>\n",
       "      <th>Explained by: Freedom to make life choices</th>\n",
       "      <td>1.00000</td>\n",
       "      <td>0.56229</td>\n",
       "    </tr>\n",
       "    <tr>\n",
       "      <th>Happiness score</th>\n",
       "      <td>0.56229</td>\n",
       "      <td>1.00000</td>\n",
       "    </tr>\n",
       "  </tbody>\n",
       "</table>\n",
       "</div>"
      ],
      "text/plain": [
       "                                            Explained by: Freedom to make life choices  \\\n",
       "Explained by: Freedom to make life choices                                     1.00000   \n",
       "Happiness score                                                                0.56229   \n",
       "\n",
       "                                            Happiness score  \n",
       "Explained by: Freedom to make life choices          0.56229  \n",
       "Happiness score                                     1.00000  "
      ]
     },
     "execution_count": 22,
     "metadata": {},
     "output_type": "execute_result"
    }
   ],
   "source": [
    "df[['Explained by: Freedom to make life choices','Happiness score']].corr()"
   ]
  },
  {
   "cell_type": "markdown",
   "metadata": {},
   "source": [
    "We see that the correlation is 0.56, which indicates a positive association.  This agrees with the scatterplot."
   ]
  },
  {
   "cell_type": "markdown",
   "metadata": {},
   "source": [
    "### V. Summary\n",
    "\n"
   ]
  },
  {
   "cell_type": "markdown",
   "metadata": {},
   "source": [
    "In this notebook, you learned:\n",
    "\n",
    "- methods for summarizing categorical and quantitative data\n",
    "- methods for studying the relationship in bivariate data\n",
    "\n",
    "These techniques will be crucial as you make sense of data."
   ]
  },
  {
   "cell_type": "markdown",
   "metadata": {},
   "source": [
    "---"
   ]
  }
 ],
 "metadata": {
  "anaconda-cloud": {},
  "kernelspec": {
   "display_name": "Python 3 (ipykernel)",
   "language": "python",
   "name": "python3"
  },
  "language_info": {
   "codemirror_mode": {
    "name": "ipython",
    "version": 3
   },
   "file_extension": ".py",
   "mimetype": "text/x-python",
   "name": "python",
   "nbconvert_exporter": "python",
   "pygments_lexer": "ipython3",
   "version": "3.9.12"
  }
 },
 "nbformat": 4,
 "nbformat_minor": 4
}
