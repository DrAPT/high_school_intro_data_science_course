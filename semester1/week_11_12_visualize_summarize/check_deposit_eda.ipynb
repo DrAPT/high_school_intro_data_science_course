{
 "cells": [
  {
   "cell_type": "markdown",
   "id": "9aed4670-146e-4e5f-b6b9-5360d3a4ce24",
   "metadata": {},
   "source": [
    "## Check Deposit Fraud with Synthetic Data\n",
    "### Supplementary Exercise on Exploratory Data Analysis\n",
    "\n",
    "Last updated: January 6, 2023"
   ]
  },
  {
   "cell_type": "markdown",
   "id": "23cc7a07-3809-44ff-a9bc-832414efb201",
   "metadata": {},
   "source": [
    "Purpose:  \n",
    "\n",
    "Banks need to detect if checks are fraudulent, and properties of the check (amount, whether it is signed, ...) can be useful predictors.\n",
    "\n",
    "This is a short EDA analysis used in the book: *From Concepts to Code: Introduction to Data Science.*   \n",
    "A synthetic check dataset is generated below, and then analysis proceeds. Don't change the dataset generation code!"
   ]
  },
  {
   "cell_type": "code",
   "execution_count": 21,
   "id": "f506e733-c49a-43d1-8249-23df070bca9f",
   "metadata": {},
   "outputs": [],
   "source": [
    "import numpy as np\n",
    "import pandas as pd\n",
    "import seaborn as sns\n",
    "import matplotlib.pyplot as plt"
   ]
  },
  {
   "cell_type": "markdown",
   "id": "5b0044da-8331-4549-b95c-e0e2cac26fb4",
   "metadata": {},
   "source": [
    "### Create Dataset"
   ]
  },
  {
   "cell_type": "code",
   "execution_count": 22,
   "id": "bcebc78f-36a3-4c88-b4b7-28489731bf19",
   "metadata": {},
   "outputs": [],
   "source": [
    "rows = 1100\n",
    "df = pd.DataFrame(columns=['checkid','check_amount','check_signed','is_fraud'])\n",
    "df['checkid'] = range(rows)\n",
    "df['check_amount'] = np.random.uniform(1,10000,rows).round(2)\n",
    "df['check_signed'] = 1\n",
    "df['is_fraud'] = 0"
   ]
  },
  {
   "cell_type": "code",
   "execution_count": 23,
   "id": "1d18870d-a1c9-4c70-908d-c438d23350df",
   "metadata": {},
   "outputs": [],
   "source": [
    "# set up fraud records\n",
    "fraud_rows = [22, 101, 510, 778, 901]\n",
    "df.loc[fraud_rows, 'check_signed'] = 0\n",
    "df.loc[fraud_rows, 'is_fraud'] = 1\n",
    "\n",
    "df.loc[101, 'check_amount'] = 10000\n",
    "df.loc[510, 'check_amount'] = 5000\n",
    "df.loc[778, 'check_amount'] = 1000\n",
    "\n",
    "# walk back some values to not make predictors so obvious\n",
    "df.loc[22, 'is_fraud'] = 0\n",
    "df.loc[101, 'check_signed'] = 1\n"
   ]
  },
  {
   "cell_type": "code",
   "execution_count": 24,
   "id": "7e80e997-7496-4db4-a82e-00c7f5a4c2b1",
   "metadata": {},
   "outputs": [
    {
     "data": {
      "text/html": [
       "<div>\n",
       "<style scoped>\n",
       "    .dataframe tbody tr th:only-of-type {\n",
       "        vertical-align: middle;\n",
       "    }\n",
       "\n",
       "    .dataframe tbody tr th {\n",
       "        vertical-align: top;\n",
       "    }\n",
       "\n",
       "    .dataframe thead th {\n",
       "        text-align: right;\n",
       "    }\n",
       "</style>\n",
       "<table border=\"1\" class=\"dataframe\">\n",
       "  <thead>\n",
       "    <tr style=\"text-align: right;\">\n",
       "      <th></th>\n",
       "      <th>checkid</th>\n",
       "      <th>check_amount</th>\n",
       "      <th>check_signed</th>\n",
       "      <th>is_fraud</th>\n",
       "    </tr>\n",
       "  </thead>\n",
       "  <tbody>\n",
       "    <tr>\n",
       "      <th>22</th>\n",
       "      <td>22</td>\n",
       "      <td>8493.40</td>\n",
       "      <td>0</td>\n",
       "      <td>0</td>\n",
       "    </tr>\n",
       "    <tr>\n",
       "      <th>101</th>\n",
       "      <td>101</td>\n",
       "      <td>10000.00</td>\n",
       "      <td>1</td>\n",
       "      <td>1</td>\n",
       "    </tr>\n",
       "    <tr>\n",
       "      <th>510</th>\n",
       "      <td>510</td>\n",
       "      <td>5000.00</td>\n",
       "      <td>0</td>\n",
       "      <td>1</td>\n",
       "    </tr>\n",
       "    <tr>\n",
       "      <th>778</th>\n",
       "      <td>778</td>\n",
       "      <td>1000.00</td>\n",
       "      <td>0</td>\n",
       "      <td>1</td>\n",
       "    </tr>\n",
       "    <tr>\n",
       "      <th>901</th>\n",
       "      <td>901</td>\n",
       "      <td>4615.59</td>\n",
       "      <td>0</td>\n",
       "      <td>1</td>\n",
       "    </tr>\n",
       "  </tbody>\n",
       "</table>\n",
       "</div>"
      ],
      "text/plain": [
       "     checkid  check_amount  check_signed  is_fraud\n",
       "22        22       8493.40             0         0\n",
       "101      101      10000.00             1         1\n",
       "510      510       5000.00             0         1\n",
       "778      778       1000.00             0         1\n",
       "901      901       4615.59             0         1"
      ]
     },
     "execution_count": 24,
     "metadata": {},
     "output_type": "execute_result"
    }
   ],
   "source": [
    "df.loc[fraud_rows]"
   ]
  },
  {
   "cell_type": "code",
   "execution_count": 25,
   "id": "b03659c3-b765-4a1d-8996-78b04d425bd2",
   "metadata": {},
   "outputs": [],
   "source": [
    "df.to_csv('../datasets/check_deposit_fraud.csv', index=False)"
   ]
  },
  {
   "cell_type": "markdown",
   "id": "bdb4d3c2-f6bc-4c6e-83d9-549e9e2be07e",
   "metadata": {},
   "source": [
    "### Import data"
   ]
  },
  {
   "cell_type": "code",
   "execution_count": 4,
   "id": "c833e8a8-36fd-43f6-9d00-9daa67084142",
   "metadata": {},
   "outputs": [
    {
     "data": {
      "text/html": [
       "<div>\n",
       "<style scoped>\n",
       "    .dataframe tbody tr th:only-of-type {\n",
       "        vertical-align: middle;\n",
       "    }\n",
       "\n",
       "    .dataframe tbody tr th {\n",
       "        vertical-align: top;\n",
       "    }\n",
       "\n",
       "    .dataframe thead th {\n",
       "        text-align: right;\n",
       "    }\n",
       "</style>\n",
       "<table border=\"1\" class=\"dataframe\">\n",
       "  <thead>\n",
       "    <tr style=\"text-align: right;\">\n",
       "      <th></th>\n",
       "      <th>checkid</th>\n",
       "      <th>check_amount</th>\n",
       "      <th>check_signed</th>\n",
       "      <th>is_fraud</th>\n",
       "    </tr>\n",
       "  </thead>\n",
       "  <tbody>\n",
       "    <tr>\n",
       "      <th>0</th>\n",
       "      <td>0</td>\n",
       "      <td>4771.89</td>\n",
       "      <td>1</td>\n",
       "      <td>0</td>\n",
       "    </tr>\n",
       "    <tr>\n",
       "      <th>1</th>\n",
       "      <td>1</td>\n",
       "      <td>2300.20</td>\n",
       "      <td>1</td>\n",
       "      <td>0</td>\n",
       "    </tr>\n",
       "    <tr>\n",
       "      <th>2</th>\n",
       "      <td>2</td>\n",
       "      <td>2791.96</td>\n",
       "      <td>1</td>\n",
       "      <td>0</td>\n",
       "    </tr>\n",
       "  </tbody>\n",
       "</table>\n",
       "</div>"
      ],
      "text/plain": [
       "   checkid  check_amount  check_signed  is_fraud\n",
       "0        0       4771.89             1         0\n",
       "1        1       2300.20             1         0\n",
       "2        2       2791.96             1         0"
      ]
     },
     "execution_count": 4,
     "metadata": {},
     "output_type": "execute_result"
    }
   ],
   "source": [
    "df = pd.read_csv('../datasets/check_deposit_fraud.csv')\n",
    "df.head(3)"
   ]
  },
  {
   "cell_type": "code",
   "execution_count": 5,
   "id": "506e8c84-d920-4370-a650-8fdf27165219",
   "metadata": {},
   "outputs": [
    {
     "name": "stdout",
     "output_type": "stream",
     "text": [
      "<class 'pandas.core.frame.DataFrame'>\n",
      "RangeIndex: 1100 entries, 0 to 1099\n",
      "Data columns (total 4 columns):\n",
      " #   Column        Non-Null Count  Dtype  \n",
      "---  ------        --------------  -----  \n",
      " 0   checkid       1100 non-null   int64  \n",
      " 1   check_amount  1100 non-null   float64\n",
      " 2   check_signed  1100 non-null   int64  \n",
      " 3   is_fraud      1100 non-null   int64  \n",
      "dtypes: float64(1), int64(3)\n",
      "memory usage: 34.5 KB\n"
     ]
    }
   ],
   "source": [
    "df.info()"
   ]
  },
  {
   "cell_type": "code",
   "execution_count": 28,
   "id": "2c05e47d-8f48-4156-abf9-f4d0fa19d1ef",
   "metadata": {},
   "outputs": [
    {
     "data": {
      "text/html": [
       "<div>\n",
       "<style scoped>\n",
       "    .dataframe tbody tr th:only-of-type {\n",
       "        vertical-align: middle;\n",
       "    }\n",
       "\n",
       "    .dataframe tbody tr th {\n",
       "        vertical-align: top;\n",
       "    }\n",
       "\n",
       "    .dataframe thead th {\n",
       "        text-align: right;\n",
       "    }\n",
       "</style>\n",
       "<table border=\"1\" class=\"dataframe\">\n",
       "  <thead>\n",
       "    <tr style=\"text-align: right;\">\n",
       "      <th></th>\n",
       "      <th>checkid</th>\n",
       "      <th>check_amount</th>\n",
       "      <th>check_signed</th>\n",
       "      <th>is_fraud</th>\n",
       "    </tr>\n",
       "  </thead>\n",
       "  <tbody>\n",
       "    <tr>\n",
       "      <th>count</th>\n",
       "      <td>1100.000000</td>\n",
       "      <td>1100.000000</td>\n",
       "      <td>1100.000000</td>\n",
       "      <td>1100.000000</td>\n",
       "    </tr>\n",
       "    <tr>\n",
       "      <th>mean</th>\n",
       "      <td>549.500000</td>\n",
       "      <td>5071.434100</td>\n",
       "      <td>0.996364</td>\n",
       "      <td>0.003636</td>\n",
       "    </tr>\n",
       "    <tr>\n",
       "      <th>std</th>\n",
       "      <td>317.686953</td>\n",
       "      <td>2934.500657</td>\n",
       "      <td>0.060220</td>\n",
       "      <td>0.060220</td>\n",
       "    </tr>\n",
       "    <tr>\n",
       "      <th>min</th>\n",
       "      <td>0.000000</td>\n",
       "      <td>2.710000</td>\n",
       "      <td>0.000000</td>\n",
       "      <td>0.000000</td>\n",
       "    </tr>\n",
       "    <tr>\n",
       "      <th>25%</th>\n",
       "      <td>274.750000</td>\n",
       "      <td>2484.380000</td>\n",
       "      <td>1.000000</td>\n",
       "      <td>0.000000</td>\n",
       "    </tr>\n",
       "    <tr>\n",
       "      <th>50%</th>\n",
       "      <td>549.500000</td>\n",
       "      <td>5077.185000</td>\n",
       "      <td>1.000000</td>\n",
       "      <td>0.000000</td>\n",
       "    </tr>\n",
       "    <tr>\n",
       "      <th>75%</th>\n",
       "      <td>824.250000</td>\n",
       "      <td>7662.152500</td>\n",
       "      <td>1.000000</td>\n",
       "      <td>0.000000</td>\n",
       "    </tr>\n",
       "    <tr>\n",
       "      <th>max</th>\n",
       "      <td>1099.000000</td>\n",
       "      <td>10000.000000</td>\n",
       "      <td>1.000000</td>\n",
       "      <td>1.000000</td>\n",
       "    </tr>\n",
       "  </tbody>\n",
       "</table>\n",
       "</div>"
      ],
      "text/plain": [
       "           checkid  check_amount  check_signed     is_fraud\n",
       "count  1100.000000   1100.000000   1100.000000  1100.000000\n",
       "mean    549.500000   5071.434100      0.996364     0.003636\n",
       "std     317.686953   2934.500657      0.060220     0.060220\n",
       "min       0.000000      2.710000      0.000000     0.000000\n",
       "25%     274.750000   2484.380000      1.000000     0.000000\n",
       "50%     549.500000   5077.185000      1.000000     0.000000\n",
       "75%     824.250000   7662.152500      1.000000     0.000000\n",
       "max    1099.000000  10000.000000      1.000000     1.000000"
      ]
     },
     "execution_count": 28,
     "metadata": {},
     "output_type": "execute_result"
    }
   ],
   "source": [
    "df.describe()"
   ]
  },
  {
   "cell_type": "markdown",
   "id": "8a337834-8780-4a40-bab3-447fda354094",
   "metadata": {},
   "source": [
    "Look at the fraud checks"
   ]
  },
  {
   "cell_type": "code",
   "execution_count": 46,
   "id": "50fdce4f-e428-4445-8074-1bee47d3e040",
   "metadata": {},
   "outputs": [
    {
     "data": {
      "text/html": [
       "<div>\n",
       "<style scoped>\n",
       "    .dataframe tbody tr th:only-of-type {\n",
       "        vertical-align: middle;\n",
       "    }\n",
       "\n",
       "    .dataframe tbody tr th {\n",
       "        vertical-align: top;\n",
       "    }\n",
       "\n",
       "    .dataframe thead th {\n",
       "        text-align: right;\n",
       "    }\n",
       "</style>\n",
       "<table border=\"1\" class=\"dataframe\">\n",
       "  <thead>\n",
       "    <tr style=\"text-align: right;\">\n",
       "      <th></th>\n",
       "      <th>checkid</th>\n",
       "      <th>check_amount</th>\n",
       "      <th>check_signed</th>\n",
       "      <th>is_fraud</th>\n",
       "    </tr>\n",
       "  </thead>\n",
       "  <tbody>\n",
       "    <tr>\n",
       "      <th>101</th>\n",
       "      <td>101</td>\n",
       "      <td>10000.00</td>\n",
       "      <td>1</td>\n",
       "      <td>1</td>\n",
       "    </tr>\n",
       "    <tr>\n",
       "      <th>510</th>\n",
       "      <td>510</td>\n",
       "      <td>5000.00</td>\n",
       "      <td>0</td>\n",
       "      <td>1</td>\n",
       "    </tr>\n",
       "    <tr>\n",
       "      <th>778</th>\n",
       "      <td>778</td>\n",
       "      <td>1000.00</td>\n",
       "      <td>0</td>\n",
       "      <td>1</td>\n",
       "    </tr>\n",
       "    <tr>\n",
       "      <th>901</th>\n",
       "      <td>901</td>\n",
       "      <td>4615.59</td>\n",
       "      <td>0</td>\n",
       "      <td>1</td>\n",
       "    </tr>\n",
       "  </tbody>\n",
       "</table>\n",
       "</div>"
      ],
      "text/plain": [
       "     checkid  check_amount  check_signed  is_fraud\n",
       "101      101      10000.00             1         1\n",
       "510      510       5000.00             0         1\n",
       "778      778       1000.00             0         1\n",
       "901      901       4615.59             0         1"
      ]
     },
     "execution_count": 46,
     "metadata": {},
     "output_type": "execute_result"
    }
   ],
   "source": [
    "df[df.is_fraud==1]"
   ]
  },
  {
   "cell_type": "markdown",
   "id": "b87f1c23-6e12-4dba-aacc-3bea6eb948f4",
   "metadata": {},
   "source": [
    "Look at the unsigned checks"
   ]
  },
  {
   "cell_type": "code",
   "execution_count": 47,
   "id": "2295b6b5-c720-4a89-b47f-c975014f98da",
   "metadata": {},
   "outputs": [
    {
     "data": {
      "text/html": [
       "<div>\n",
       "<style scoped>\n",
       "    .dataframe tbody tr th:only-of-type {\n",
       "        vertical-align: middle;\n",
       "    }\n",
       "\n",
       "    .dataframe tbody tr th {\n",
       "        vertical-align: top;\n",
       "    }\n",
       "\n",
       "    .dataframe thead th {\n",
       "        text-align: right;\n",
       "    }\n",
       "</style>\n",
       "<table border=\"1\" class=\"dataframe\">\n",
       "  <thead>\n",
       "    <tr style=\"text-align: right;\">\n",
       "      <th></th>\n",
       "      <th>checkid</th>\n",
       "      <th>check_amount</th>\n",
       "      <th>check_signed</th>\n",
       "      <th>is_fraud</th>\n",
       "    </tr>\n",
       "  </thead>\n",
       "  <tbody>\n",
       "    <tr>\n",
       "      <th>22</th>\n",
       "      <td>22</td>\n",
       "      <td>8493.40</td>\n",
       "      <td>0</td>\n",
       "      <td>0</td>\n",
       "    </tr>\n",
       "    <tr>\n",
       "      <th>510</th>\n",
       "      <td>510</td>\n",
       "      <td>5000.00</td>\n",
       "      <td>0</td>\n",
       "      <td>1</td>\n",
       "    </tr>\n",
       "    <tr>\n",
       "      <th>778</th>\n",
       "      <td>778</td>\n",
       "      <td>1000.00</td>\n",
       "      <td>0</td>\n",
       "      <td>1</td>\n",
       "    </tr>\n",
       "    <tr>\n",
       "      <th>901</th>\n",
       "      <td>901</td>\n",
       "      <td>4615.59</td>\n",
       "      <td>0</td>\n",
       "      <td>1</td>\n",
       "    </tr>\n",
       "  </tbody>\n",
       "</table>\n",
       "</div>"
      ],
      "text/plain": [
       "     checkid  check_amount  check_signed  is_fraud\n",
       "22        22       8493.40             0         0\n",
       "510      510       5000.00             0         1\n",
       "778      778       1000.00             0         1\n",
       "901      901       4615.59             0         1"
      ]
     },
     "execution_count": 47,
     "metadata": {},
     "output_type": "execute_result"
    }
   ],
   "source": [
    "df[df.check_signed==0]"
   ]
  },
  {
   "cell_type": "markdown",
   "id": "4ba2a67b-4e57-4cfc-8b5e-632a480912d2",
   "metadata": {},
   "source": [
    "### Univariate Analysis"
   ]
  },
  {
   "cell_type": "markdown",
   "id": "facf8b25-b99f-4f08-a1b3-c83b2ee77ba4",
   "metadata": {},
   "source": [
    "Look at frequency distribution of **target variable**"
   ]
  },
  {
   "cell_type": "code",
   "execution_count": 29,
   "id": "6e2925b0-9e03-4549-a4a0-b31f37ec9ac1",
   "metadata": {},
   "outputs": [
    {
     "data": {
      "text/plain": [
       "0    1096\n",
       "1       4\n",
       "Name: is_fraud, dtype: int64"
      ]
     },
     "execution_count": 29,
     "metadata": {},
     "output_type": "execute_result"
    }
   ],
   "source": [
    "df.is_fraud.value_counts()"
   ]
  },
  {
   "cell_type": "code",
   "execution_count": 30,
   "id": "dd5fee7f-1d41-4c57-9c4e-e039eab66924",
   "metadata": {},
   "outputs": [
    {
     "data": {
      "text/plain": [
       "0    0.996364\n",
       "1    0.003636\n",
       "Name: is_fraud, dtype: float64"
      ]
     },
     "execution_count": 30,
     "metadata": {},
     "output_type": "execute_result"
    }
   ],
   "source": [
    "df.is_fraud.value_counts(normalize=True)"
   ]
  },
  {
   "cell_type": "markdown",
   "id": "972020fa-6c3f-4a28-a1ae-7715affd0570",
   "metadata": {},
   "source": [
    "Look at frequency distribution of **binary variable**"
   ]
  },
  {
   "cell_type": "code",
   "execution_count": 31,
   "id": "6cda8844-e170-4189-8dd1-b42b232f080b",
   "metadata": {},
   "outputs": [
    {
     "data": {
      "text/plain": [
       "1    1096\n",
       "0       4\n",
       "Name: check_signed, dtype: int64"
      ]
     },
     "execution_count": 31,
     "metadata": {},
     "output_type": "execute_result"
    }
   ],
   "source": [
    "df.check_signed.value_counts()"
   ]
  },
  {
   "cell_type": "code",
   "execution_count": 32,
   "id": "cae98ae6-92fd-48c8-8170-a4869b787fa9",
   "metadata": {},
   "outputs": [
    {
     "data": {
      "text/plain": [
       "1    0.996364\n",
       "0    0.003636\n",
       "Name: check_signed, dtype: float64"
      ]
     },
     "execution_count": 32,
     "metadata": {},
     "output_type": "execute_result"
    }
   ],
   "source": [
    "df.check_signed.value_counts(normalize=True)"
   ]
  },
  {
   "cell_type": "markdown",
   "id": "9d2e8385-c561-48e8-8dd2-b20829dbf80c",
   "metadata": {},
   "source": [
    "Looking at **check amount**"
   ]
  },
  {
   "cell_type": "code",
   "execution_count": 23,
   "id": "57dfa21c-0f5d-4129-8b95-7eabc18fcf90",
   "metadata": {},
   "outputs": [
    {
     "data": {
      "text/plain": [
       "count     1100.000000\n",
       "mean      5071.434100\n",
       "std       2934.500657\n",
       "min          2.710000\n",
       "25%       2484.380000\n",
       "50%       5077.185000\n",
       "75%       7662.152500\n",
       "max      10000.000000\n",
       "Name: check_amount, dtype: float64"
      ]
     },
     "execution_count": 23,
     "metadata": {},
     "output_type": "execute_result"
    }
   ],
   "source": [
    "df.check_amount.describe()"
   ]
  },
  {
   "cell_type": "code",
   "execution_count": 15,
   "id": "6c9d1661-5b74-4b0a-80f6-552e61b8f62b",
   "metadata": {},
   "outputs": [
    {
     "data": {
      "text/plain": [
       "<AxesSubplot:xlabel='check_amount', ylabel='Count'>"
      ]
     },
     "execution_count": 15,
     "metadata": {},
     "output_type": "execute_result"
    },
    {
     "data": {
      "image/png": "[encoded data removed]",
      "text/plain": [
       "<Figure size 432x288 with 1 Axes>"
      ]
     },
     "metadata": {
      "needs_background": "light"
     },
     "output_type": "display_data"
    }
   ],
   "source": [
    "sns.histplot(df.check_amount)"
   ]
  },
  {
   "cell_type": "markdown",
   "id": "bf7ebefd-fcf4-4d81-9fb6-b678c0d55d96",
   "metadata": {},
   "source": [
    "### Two-Way Analyses"
   ]
  },
  {
   "cell_type": "markdown",
   "id": "1e915203-75fb-4114-b93f-73c443b07d11",
   "metadata": {},
   "source": [
    "Crosstab of target versus check signed"
   ]
  },
  {
   "cell_type": "code",
   "execution_count": 43,
   "id": "e2594b30-3694-42ef-953f-d6f91c636671",
   "metadata": {},
   "outputs": [
    {
     "data": {
      "text/html": [
       "<div>\n",
       "<style scoped>\n",
       "    .dataframe tbody tr th:only-of-type {\n",
       "        vertical-align: middle;\n",
       "    }\n",
       "\n",
       "    .dataframe tbody tr th {\n",
       "        vertical-align: top;\n",
       "    }\n",
       "\n",
       "    .dataframe thead th {\n",
       "        text-align: right;\n",
       "    }\n",
       "</style>\n",
       "<table border=\"1\" class=\"dataframe\">\n",
       "  <thead>\n",
       "    <tr style=\"text-align: right;\">\n",
       "      <th>is_fraud</th>\n",
       "      <th>0</th>\n",
       "      <th>1</th>\n",
       "    </tr>\n",
       "    <tr>\n",
       "      <th>check_signed</th>\n",
       "      <th></th>\n",
       "      <th></th>\n",
       "    </tr>\n",
       "  </thead>\n",
       "  <tbody>\n",
       "    <tr>\n",
       "      <th>0</th>\n",
       "      <td>1</td>\n",
       "      <td>3</td>\n",
       "    </tr>\n",
       "    <tr>\n",
       "      <th>1</th>\n",
       "      <td>1095</td>\n",
       "      <td>1</td>\n",
       "    </tr>\n",
       "  </tbody>\n",
       "</table>\n",
       "</div>"
      ],
      "text/plain": [
       "is_fraud         0  1\n",
       "check_signed         \n",
       "0                1  3\n",
       "1             1095  1"
      ]
     },
     "execution_count": 43,
     "metadata": {},
     "output_type": "execute_result"
    }
   ],
   "source": [
    "pd.crosstab(index=df['check_signed'], columns=df['is_fraud'])"
   ]
  },
  {
   "cell_type": "markdown",
   "id": "66947a12-13ad-476c-a934-ece02d735791",
   "metadata": {},
   "source": [
    "when not signed, 3 were fraud and 1 not fraud  \n",
    "when signed, there was 1 fraud and 1095 not fraud  "
   ]
  },
  {
   "cell_type": "code",
   "execution_count": 45,
   "id": "98573e89-26ac-4ece-a29b-85a48587e0f3",
   "metadata": {},
   "outputs": [
    {
     "data": {
      "text/html": [
       "<div>\n",
       "<style scoped>\n",
       "    .dataframe tbody tr th:only-of-type {\n",
       "        vertical-align: middle;\n",
       "    }\n",
       "\n",
       "    .dataframe tbody tr th {\n",
       "        vertical-align: top;\n",
       "    }\n",
       "\n",
       "    .dataframe thead th {\n",
       "        text-align: right;\n",
       "    }\n",
       "</style>\n",
       "<table border=\"1\" class=\"dataframe\">\n",
       "  <thead>\n",
       "    <tr style=\"text-align: right;\">\n",
       "      <th>is_fraud</th>\n",
       "      <th>0</th>\n",
       "      <th>1</th>\n",
       "    </tr>\n",
       "    <tr>\n",
       "      <th>check_signed</th>\n",
       "      <th></th>\n",
       "      <th></th>\n",
       "    </tr>\n",
       "  </thead>\n",
       "  <tbody>\n",
       "    <tr>\n",
       "      <th>0</th>\n",
       "      <td>0.250000</td>\n",
       "      <td>0.750000</td>\n",
       "    </tr>\n",
       "    <tr>\n",
       "      <th>1</th>\n",
       "      <td>0.999088</td>\n",
       "      <td>0.000912</td>\n",
       "    </tr>\n",
       "  </tbody>\n",
       "</table>\n",
       "</div>"
      ],
      "text/plain": [
       "is_fraud             0         1\n",
       "check_signed                    \n",
       "0             0.250000  0.750000\n",
       "1             0.999088  0.000912"
      ]
     },
     "execution_count": 45,
     "metadata": {},
     "output_type": "execute_result"
    }
   ],
   "source": [
    "pd.crosstab(index=df['check_signed'], columns=df['is_fraud'], normalize='index')"
   ]
  },
  {
   "cell_type": "code",
   "execution_count": 38,
   "id": "13d5a69d-4c85-43f6-8dde-4387b5001081",
   "metadata": {},
   "outputs": [
    {
     "data": {
      "text/plain": [
       "822.3684210526316"
      ]
     },
     "execution_count": 38,
     "metadata": {},
     "output_type": "execute_result"
    }
   ],
   "source": [
    "0.75 / 0.000912"
   ]
  },
  {
   "cell_type": "markdown",
   "id": "6f8cbc37-270d-430c-864c-a2ae54c34da9",
   "metadata": {},
   "source": [
    "Suggests unsigned check has strong association with fraud"
   ]
  },
  {
   "cell_type": "markdown",
   "id": "b8eb6469-c210-4082-a479-fdd35d6c72de",
   "metadata": {},
   "source": [
    "**Check amount vs is_fraud**"
   ]
  },
  {
   "cell_type": "code",
   "execution_count": 22,
   "id": "f7f584ea-e5ee-430d-a067-3ed3611ea3e8",
   "metadata": {},
   "outputs": [
    {
     "data": {
      "image/png": "[encoded data removed]",
      "text/plain": [
       "<Figure size 432x288 with 1 Axes>"
      ]
     },
     "metadata": {
      "needs_background": "light"
     },
     "output_type": "display_data"
    }
   ],
   "source": [
    "sns.scatterplot(x='check_amount', y='is_fraud', data=df)\n",
    "plt.grid()"
   ]
  },
  {
   "cell_type": "markdown",
   "id": "ab2b8fc6-2946-4cae-9abe-01d28d0bcb3c",
   "metadata": {},
   "source": [
    "The fraudulent check amounts are easily seen, but is there a pattern?\n",
    "\n",
    "Again, looking at the amounts of the fraudulent checks, it becomes clear: they are multiples of 1000 (for 3 out of 4)"
   ]
  },
  {
   "cell_type": "code",
   "execution_count": 19,
   "id": "1d03eb69-6f13-4711-850e-af325a43bf5a",
   "metadata": {},
   "outputs": [
    {
     "data": {
      "text/html": [
       "<div>\n",
       "<style scoped>\n",
       "    .dataframe tbody tr th:only-of-type {\n",
       "        vertical-align: middle;\n",
       "    }\n",
       "\n",
       "    .dataframe tbody tr th {\n",
       "        vertical-align: top;\n",
       "    }\n",
       "\n",
       "    .dataframe thead th {\n",
       "        text-align: right;\n",
       "    }\n",
       "</style>\n",
       "<table border=\"1\" class=\"dataframe\">\n",
       "  <thead>\n",
       "    <tr style=\"text-align: right;\">\n",
       "      <th></th>\n",
       "      <th>checkid</th>\n",
       "      <th>check_amount</th>\n",
       "      <th>check_signed</th>\n",
       "      <th>is_fraud</th>\n",
       "    </tr>\n",
       "  </thead>\n",
       "  <tbody>\n",
       "    <tr>\n",
       "      <th>101</th>\n",
       "      <td>101</td>\n",
       "      <td>10000.00</td>\n",
       "      <td>1</td>\n",
       "      <td>1</td>\n",
       "    </tr>\n",
       "    <tr>\n",
       "      <th>510</th>\n",
       "      <td>510</td>\n",
       "      <td>5000.00</td>\n",
       "      <td>0</td>\n",
       "      <td>1</td>\n",
       "    </tr>\n",
       "    <tr>\n",
       "      <th>778</th>\n",
       "      <td>778</td>\n",
       "      <td>1000.00</td>\n",
       "      <td>0</td>\n",
       "      <td>1</td>\n",
       "    </tr>\n",
       "    <tr>\n",
       "      <th>901</th>\n",
       "      <td>901</td>\n",
       "      <td>4615.59</td>\n",
       "      <td>0</td>\n",
       "      <td>1</td>\n",
       "    </tr>\n",
       "  </tbody>\n",
       "</table>\n",
       "</div>"
      ],
      "text/plain": [
       "     checkid  check_amount  check_signed  is_fraud\n",
       "101      101      10000.00             1         1\n",
       "510      510       5000.00             0         1\n",
       "778      778       1000.00             0         1\n",
       "901      901       4615.59             0         1"
      ]
     },
     "execution_count": 19,
     "metadata": {},
     "output_type": "execute_result"
    }
   ],
   "source": [
    "df[df.is_fraud==1]"
   ]
  }
 ],
 "metadata": {
  "kernelspec": {
   "display_name": "Python 3 (ipykernel)",
   "language": "python",
   "name": "python3"
  },
  "language_info": {
   "codemirror_mode": {
    "name": "ipython",
    "version": 3
   },
   "file_extension": ".py",
   "mimetype": "text/x-python",
   "name": "python",
   "nbconvert_exporter": "python",
   "pygments_lexer": "ipython3",
   "version": "3.9.12"
  }
 },
 "nbformat": 4,
 "nbformat_minor": 5
}
