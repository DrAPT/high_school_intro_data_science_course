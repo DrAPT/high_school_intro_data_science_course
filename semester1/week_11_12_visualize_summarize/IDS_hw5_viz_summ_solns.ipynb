{
 "cells": [
  {
   "cell_type": "markdown",
   "id": "f64d4824",
   "metadata": {},
   "source": [
    "## Coding Assignment 5: Data Visualization and Summarization [SOLUTIONS]\n",
    "\n",
    "### Introduction to Data Science\n",
    "#### Last Updated: November 20, 2022"
   ]
  },
  {
   "cell_type": "markdown",
   "id": "4903c392",
   "metadata": {},
   "source": [
    "---  \n",
    "\n",
    "### Skills Assessed\n",
    "\n",
    "You will demonstrate these skills in the HW:\n",
    "- Selecting the graph type that best tells the data story\n",
    "- Understanding of correlation and its relationship to a scatterplot\n",
    "- Graphing with `seaborn` and `matplotlib`\n",
    "- Setting attributes on a graph\n",
    "- Understanding the effect of outliers on the mean and median\n",
    "\n",
    "---"
   ]
  },
  {
   "cell_type": "markdown",
   "id": "d407703e",
   "metadata": {},
   "source": [
    "### Instructions\n",
    "\n",
    "You will show off your visualization and summarization skills in this assignment.\n",
    "\n",
    "**TOTAL POINTS: 14**\n",
    "\n",
    "---"
   ]
  },
  {
   "cell_type": "markdown",
   "id": "40bb925c",
   "metadata": {},
   "source": [
    "Import `seaborn`, `pandas`, and `matplotlib.pyplot`"
   ]
  },
  {
   "cell_type": "code",
   "execution_count": 2,
   "id": "263d0cc5-8067-4826-b9ee-e211ae789594",
   "metadata": {},
   "outputs": [],
   "source": [
    "import matplotlib.pyplot as plt\n",
    "import seaborn as sns\n",
    "import pandas as pd"
   ]
  },
  {
   "cell_type": "markdown",
   "id": "fd30cf28-a48a-4ff9-accd-fff2137d56a2",
   "metadata": {},
   "source": [
    "Import the Country Happiness Dataset"
   ]
  },
  {
   "cell_type": "code",
   "execution_count": 3,
   "id": "28c2cd63",
   "metadata": {},
   "outputs": [],
   "source": [
    "Country = pd.read_csv('../datasets/Country_Happiness.csv')"
   ]
  },
  {
   "cell_type": "markdown",
   "id": "02d87d63",
   "metadata": {},
   "source": [
    "1) Let's understand the relationship between `Explained by: GDP per capita` and `Explained by: Healthy life expectancy`  \n",
    "Make a scatterplot with GDP on the x-axis and Life Expectancy on the y-axis.  **(1 point)**  \n",
    "Add gridlines to the plot. **(1 point)**  \n",
    "Add this title to the plot: GDP vs Life Expectancy **(1 point)**  "
   ]
  },
  {
   "cell_type": "code",
   "execution_count": 4,
   "id": "b9e0073c",
   "metadata": {},
   "outputs": [
    {
     "data": {
      "image/png": "[encoded data removed]",
      "text/plain": [
       "<Figure size 432x288 with 1 Axes>"
      ]
     },
     "metadata": {
      "needs_background": "light"
     },
     "output_type": "display_data"
    }
   ],
   "source": [
    "gdp = Country['Explained by: GDP per capita']\n",
    "life = Country['Explained by: Healthy life expectancy']\n",
    "\n",
    "sns.scatterplot(x='Explained by: GDP per capita', \n",
    "                y='Explained by: Healthy life expectancy',\n",
    "                data=Country).set(title='GDP vs Life Expectancy')\n",
    "plt.grid()"
   ]
  },
  {
   "cell_type": "markdown",
   "id": "e28350a1",
   "metadata": {},
   "source": [
    "2. What do you notice about the relationship between these variables? Write 1-2 sentences explaining your observations. **(1 point)**"
   ]
  },
  {
   "cell_type": "code",
   "execution_count": 11,
   "id": "39d7f409-4d96-4d3b-b9c8-cb81c74a25b9",
   "metadata": {},
   "outputs": [],
   "source": [
    "# There is a positive relationship: for higher GDP, there tends to be higher life expectancy."
   ]
  },
  {
   "cell_type": "markdown",
   "id": "19d330fd",
   "metadata": {},
   "source": [
    "---"
   ]
  },
  {
   "cell_type": "markdown",
   "id": "b58a6801-e80a-4af4-9760-55a7d807fd26",
   "metadata": {},
   "source": [
    "3. Choose two columns that you hypothesize will have a negative correlation.  In other words, as one feature increases, another decreases.  Test your hypothesis by creating a scatterplot visualization.  Briefly comment on the outcome.  You will not be penalized if you were incorrect in your hypothesis, and the plot proves you wrong. **(2 points)**"
   ]
  },
  {
   "cell_type": "code",
   "execution_count": null,
   "id": "529e70ff-69cc-4061-8159-9d57923d2440",
   "metadata": {},
   "outputs": [],
   "source": [
    "#Answers will vary"
   ]
  },
  {
   "cell_type": "markdown",
   "id": "6995db3a-4994-4bbe-be98-caa6a5e19b12",
   "metadata": {},
   "source": [
    "4. Using .corr() will show you the pairwise correlation for all columns in a dataframe.  \n",
    "A correlation close to -1 indicates a strong negative association.  \n",
    "A correlation close to +1 indicates a strong positive association.  \n",
    "\n",
    "4a) First, display the pairwise correlation. Then choose two features, not used previously, which are negatively correlated.  Create a Matplotlib scatterplot with these features and display it.  Write a sentence about the comparison between the plot and the pairwise correlation.  **(2 points)**"
   ]
  },
  {
   "cell_type": "code",
   "execution_count": 9,
   "id": "66e96a86-38c0-48e2-902f-7172c8a2051b",
   "metadata": {
    "tags": []
   },
   "outputs": [
    {
     "data": {
      "text/html": [
       "<div>\n",
       "<style scoped>\n",
       "    .dataframe tbody tr th:only-of-type {\n",
       "        vertical-align: middle;\n",
       "    }\n",
       "\n",
       "    .dataframe tbody tr th {\n",
       "        vertical-align: top;\n",
       "    }\n",
       "\n",
       "    .dataframe thead th {\n",
       "        text-align: right;\n",
       "    }\n",
       "</style>\n",
       "<table border=\"1\" class=\"dataframe\">\n",
       "  <thead>\n",
       "    <tr style=\"text-align: right;\">\n",
       "      <th></th>\n",
       "      <th>Happiness score</th>\n",
       "      <th>Whisker-high</th>\n",
       "      <th>Whisker-low</th>\n",
       "      <th>Dystopia (1.92) + residual</th>\n",
       "      <th>Explained by: GDP per capita</th>\n",
       "      <th>Explained by: Social support</th>\n",
       "      <th>Explained by: Healthy life expectancy</th>\n",
       "      <th>Explained by: Freedom to make life choices</th>\n",
       "      <th>Explained by: Generosity</th>\n",
       "      <th>Explained by: Perceptions of corruption</th>\n",
       "    </tr>\n",
       "  </thead>\n",
       "  <tbody>\n",
       "    <tr>\n",
       "      <th>Happiness score</th>\n",
       "      <td>1.000000</td>\n",
       "      <td>0.999553</td>\n",
       "      <td>0.999571</td>\n",
       "      <td>0.473606</td>\n",
       "      <td>0.807338</td>\n",
       "      <td>0.764656</td>\n",
       "      <td>0.777484</td>\n",
       "      <td>0.562290</td>\n",
       "      <td>0.142030</td>\n",
       "      <td>0.408650</td>\n",
       "    </tr>\n",
       "    <tr>\n",
       "      <th>Whisker-high</th>\n",
       "      <td>0.999553</td>\n",
       "      <td>1.000000</td>\n",
       "      <td>0.998249</td>\n",
       "      <td>0.476503</td>\n",
       "      <td>0.806583</td>\n",
       "      <td>0.764212</td>\n",
       "      <td>0.772431</td>\n",
       "      <td>0.562093</td>\n",
       "      <td>0.142399</td>\n",
       "      <td>0.405359</td>\n",
       "    </tr>\n",
       "    <tr>\n",
       "      <th>Whisker-low</th>\n",
       "      <td>0.999571</td>\n",
       "      <td>0.998249</td>\n",
       "      <td>1.000000</td>\n",
       "      <td>0.470315</td>\n",
       "      <td>0.807384</td>\n",
       "      <td>0.764452</td>\n",
       "      <td>0.781783</td>\n",
       "      <td>0.562026</td>\n",
       "      <td>0.141558</td>\n",
       "      <td>0.411531</td>\n",
       "    </tr>\n",
       "    <tr>\n",
       "      <th>Dystopia (1.92) + residual</th>\n",
       "      <td>0.473606</td>\n",
       "      <td>0.476503</td>\n",
       "      <td>0.470315</td>\n",
       "      <td>1.000000</td>\n",
       "      <td>0.000162</td>\n",
       "      <td>0.042849</td>\n",
       "      <td>-0.002683</td>\n",
       "      <td>0.083296</td>\n",
       "      <td>-0.066423</td>\n",
       "      <td>-0.028446</td>\n",
       "    </tr>\n",
       "    <tr>\n",
       "      <th>Explained by: GDP per capita</th>\n",
       "      <td>0.807338</td>\n",
       "      <td>0.806583</td>\n",
       "      <td>0.807384</td>\n",
       "      <td>0.000162</td>\n",
       "      <td>1.000000</td>\n",
       "      <td>0.725069</td>\n",
       "      <td>0.864767</td>\n",
       "      <td>0.363273</td>\n",
       "      <td>-0.005294</td>\n",
       "      <td>0.315332</td>\n",
       "    </tr>\n",
       "    <tr>\n",
       "      <th>Explained by: Social support</th>\n",
       "      <td>0.764656</td>\n",
       "      <td>0.764212</td>\n",
       "      <td>0.764452</td>\n",
       "      <td>0.042849</td>\n",
       "      <td>0.725069</td>\n",
       "      <td>1.000000</td>\n",
       "      <td>0.674567</td>\n",
       "      <td>0.405330</td>\n",
       "      <td>0.019725</td>\n",
       "      <td>0.219212</td>\n",
       "    </tr>\n",
       "    <tr>\n",
       "      <th>Explained by: Healthy life expectancy</th>\n",
       "      <td>0.777484</td>\n",
       "      <td>0.772431</td>\n",
       "      <td>0.781783</td>\n",
       "      <td>-0.002683</td>\n",
       "      <td>0.864767</td>\n",
       "      <td>0.674567</td>\n",
       "      <td>1.000000</td>\n",
       "      <td>0.356054</td>\n",
       "      <td>0.023329</td>\n",
       "      <td>0.312850</td>\n",
       "    </tr>\n",
       "    <tr>\n",
       "      <th>Explained by: Freedom to make life choices</th>\n",
       "      <td>0.562290</td>\n",
       "      <td>0.562093</td>\n",
       "      <td>0.562026</td>\n",
       "      <td>0.083296</td>\n",
       "      <td>0.363273</td>\n",
       "      <td>0.405330</td>\n",
       "      <td>0.356054</td>\n",
       "      <td>1.000000</td>\n",
       "      <td>0.304637</td>\n",
       "      <td>0.465481</td>\n",
       "    </tr>\n",
       "    <tr>\n",
       "      <th>Explained by: Generosity</th>\n",
       "      <td>0.142030</td>\n",
       "      <td>0.142399</td>\n",
       "      <td>0.141558</td>\n",
       "      <td>-0.066423</td>\n",
       "      <td>-0.005294</td>\n",
       "      <td>0.019725</td>\n",
       "      <td>0.023329</td>\n",
       "      <td>0.304637</td>\n",
       "      <td>1.000000</td>\n",
       "      <td>0.363570</td>\n",
       "    </tr>\n",
       "    <tr>\n",
       "      <th>Explained by: Perceptions of corruption</th>\n",
       "      <td>0.408650</td>\n",
       "      <td>0.405359</td>\n",
       "      <td>0.411531</td>\n",
       "      <td>-0.028446</td>\n",
       "      <td>0.315332</td>\n",
       "      <td>0.219212</td>\n",
       "      <td>0.312850</td>\n",
       "      <td>0.465481</td>\n",
       "      <td>0.363570</td>\n",
       "      <td>1.000000</td>\n",
       "    </tr>\n",
       "  </tbody>\n",
       "</table>\n",
       "</div>"
      ],
      "text/plain": [
       "                                            Happiness score  Whisker-high  \\\n",
       "Happiness score                                    1.000000      0.999553   \n",
       "Whisker-high                                       0.999553      1.000000   \n",
       "Whisker-low                                        0.999571      0.998249   \n",
       "Dystopia (1.92) + residual                         0.473606      0.476503   \n",
       "Explained by: GDP per capita                       0.807338      0.806583   \n",
       "Explained by: Social support                       0.764656      0.764212   \n",
       "Explained by: Healthy life expectancy              0.777484      0.772431   \n",
       "Explained by: Freedom to make life choices         0.562290      0.562093   \n",
       "Explained by: Generosity                           0.142030      0.142399   \n",
       "Explained by: Perceptions of corruption            0.408650      0.405359   \n",
       "\n",
       "                                            Whisker-low  \\\n",
       "Happiness score                                0.999571   \n",
       "Whisker-high                                   0.998249   \n",
       "Whisker-low                                    1.000000   \n",
       "Dystopia (1.92) + residual                     0.470315   \n",
       "Explained by: GDP per capita                   0.807384   \n",
       "Explained by: Social support                   0.764452   \n",
       "Explained by: Healthy life expectancy          0.781783   \n",
       "Explained by: Freedom to make life choices     0.562026   \n",
       "Explained by: Generosity                       0.141558   \n",
       "Explained by: Perceptions of corruption        0.411531   \n",
       "\n",
       "                                            Dystopia (1.92) + residual  \\\n",
       "Happiness score                                               0.473606   \n",
       "Whisker-high                                                  0.476503   \n",
       "Whisker-low                                                   0.470315   \n",
       "Dystopia (1.92) + residual                                    1.000000   \n",
       "Explained by: GDP per capita                                  0.000162   \n",
       "Explained by: Social support                                  0.042849   \n",
       "Explained by: Healthy life expectancy                        -0.002683   \n",
       "Explained by: Freedom to make life choices                    0.083296   \n",
       "Explained by: Generosity                                     -0.066423   \n",
       "Explained by: Perceptions of corruption                      -0.028446   \n",
       "\n",
       "                                            Explained by: GDP per capita  \\\n",
       "Happiness score                                                 0.807338   \n",
       "Whisker-high                                                    0.806583   \n",
       "Whisker-low                                                     0.807384   \n",
       "Dystopia (1.92) + residual                                      0.000162   \n",
       "Explained by: GDP per capita                                    1.000000   \n",
       "Explained by: Social support                                    0.725069   \n",
       "Explained by: Healthy life expectancy                           0.864767   \n",
       "Explained by: Freedom to make life choices                      0.363273   \n",
       "Explained by: Generosity                                       -0.005294   \n",
       "Explained by: Perceptions of corruption                         0.315332   \n",
       "\n",
       "                                            Explained by: Social support  \\\n",
       "Happiness score                                                 0.764656   \n",
       "Whisker-high                                                    0.764212   \n",
       "Whisker-low                                                     0.764452   \n",
       "Dystopia (1.92) + residual                                      0.042849   \n",
       "Explained by: GDP per capita                                    0.725069   \n",
       "Explained by: Social support                                    1.000000   \n",
       "Explained by: Healthy life expectancy                           0.674567   \n",
       "Explained by: Freedom to make life choices                      0.405330   \n",
       "Explained by: Generosity                                        0.019725   \n",
       "Explained by: Perceptions of corruption                         0.219212   \n",
       "\n",
       "                                            Explained by: Healthy life expectancy  \\\n",
       "Happiness score                                                          0.777484   \n",
       "Whisker-high                                                             0.772431   \n",
       "Whisker-low                                                              0.781783   \n",
       "Dystopia (1.92) + residual                                              -0.002683   \n",
       "Explained by: GDP per capita                                             0.864767   \n",
       "Explained by: Social support                                             0.674567   \n",
       "Explained by: Healthy life expectancy                                    1.000000   \n",
       "Explained by: Freedom to make life choices                               0.356054   \n",
       "Explained by: Generosity                                                 0.023329   \n",
       "Explained by: Perceptions of corruption                                  0.312850   \n",
       "\n",
       "                                            Explained by: Freedom to make life choices  \\\n",
       "Happiness score                                                               0.562290   \n",
       "Whisker-high                                                                  0.562093   \n",
       "Whisker-low                                                                   0.562026   \n",
       "Dystopia (1.92) + residual                                                    0.083296   \n",
       "Explained by: GDP per capita                                                  0.363273   \n",
       "Explained by: Social support                                                  0.405330   \n",
       "Explained by: Healthy life expectancy                                         0.356054   \n",
       "Explained by: Freedom to make life choices                                    1.000000   \n",
       "Explained by: Generosity                                                      0.304637   \n",
       "Explained by: Perceptions of corruption                                       0.465481   \n",
       "\n",
       "                                            Explained by: Generosity  \\\n",
       "Happiness score                                             0.142030   \n",
       "Whisker-high                                                0.142399   \n",
       "Whisker-low                                                 0.141558   \n",
       "Dystopia (1.92) + residual                                 -0.066423   \n",
       "Explained by: GDP per capita                               -0.005294   \n",
       "Explained by: Social support                                0.019725   \n",
       "Explained by: Healthy life expectancy                       0.023329   \n",
       "Explained by: Freedom to make life choices                  0.304637   \n",
       "Explained by: Generosity                                    1.000000   \n",
       "Explained by: Perceptions of corruption                     0.363570   \n",
       "\n",
       "                                            Explained by: Perceptions of corruption  \n",
       "Happiness score                                                            0.408650  \n",
       "Whisker-high                                                               0.405359  \n",
       "Whisker-low                                                                0.411531  \n",
       "Dystopia (1.92) + residual                                                -0.028446  \n",
       "Explained by: GDP per capita                                               0.315332  \n",
       "Explained by: Social support                                               0.219212  \n",
       "Explained by: Healthy life expectancy                                      0.312850  \n",
       "Explained by: Freedom to make life choices                                 0.465481  \n",
       "Explained by: Generosity                                                   0.363570  \n",
       "Explained by: Perceptions of corruption                                    1.000000  "
      ]
     },
     "execution_count": 9,
     "metadata": {},
     "output_type": "execute_result"
    }
   ],
   "source": [
    "Country.corr()"
   ]
  },
  {
   "cell_type": "code",
   "execution_count": 6,
   "id": "bd945465-53a1-43e7-8136-761e85693075",
   "metadata": {},
   "outputs": [],
   "source": [
    "#4a) Answers will vary. Two variables with negative correlation should be selected.   \n",
    "#   There should be a negative relationship shown in the graph  "
   ]
  },
  {
   "cell_type": "markdown",
   "id": "313144ad",
   "metadata": {},
   "source": [
    "---"
   ]
  },
  {
   "cell_type": "markdown",
   "id": "a62ba698-043a-4976-9c28-40a580486fc1",
   "metadata": {},
   "source": [
    "4b) Choose two features, not used previously, which are positively correlated.  Create a Matplotlib scatterplot with these features and display it.  Write a sentence about the comparison between the plot and the pairwise correlation.  **(2 points)**"
   ]
  },
  {
   "cell_type": "code",
   "execution_count": 10,
   "id": "288a4bcb-58bf-4cb5-8c72-8a7559e24427",
   "metadata": {},
   "outputs": [],
   "source": [
    "#4b) Answers will vary. Two variables with positive correlation should be selected.   \n",
    "#   There should be a positive relationship shown in the graph  "
   ]
  },
  {
   "cell_type": "markdown",
   "id": "271f5238-dea5-4fe3-987d-f775fe4546b8",
   "metadata": {},
   "source": [
    "5a) Make a line plot with GDP on the x-axis and Life Expectancy on the y-axis.  **(1 point)**"
   ]
  },
  {
   "cell_type": "code",
   "execution_count": 9,
   "id": "695fc5bd-bf66-4ffd-bb1d-f0e75212baf1",
   "metadata": {},
   "outputs": [
    {
     "data": {
      "text/plain": [
       "<AxesSubplot:xlabel='Explained by: GDP per capita', ylabel='Explained by: Healthy life expectancy'>"
      ]
     },
     "execution_count": 9,
     "metadata": {},
     "output_type": "execute_result"
    },
    {
     "data": {
      "image/png": "[encoded data removed]",
      "text/plain": [
       "<Figure size 432x288 with 1 Axes>"
      ]
     },
     "metadata": {
      "needs_background": "light"
     },
     "output_type": "display_data"
    }
   ],
   "source": [
    "sns.lineplot(x=gdp, y=life)"
   ]
  },
  {
   "cell_type": "markdown",
   "id": "46e48310-eaa1-4cb8-923b-59a450418662",
   "metadata": {},
   "source": [
    "5b) Which is a better graph: the line plot from (5a) or the scatterplot from (1)? Explain your answer. **(1 point)**"
   ]
  },
  {
   "cell_type": "markdown",
   "id": "119ba164-de1a-474c-92f6-c8ec74e73bc2",
   "metadata": {},
   "source": [
    "answer: The scatterplot is better, as it shows the relationship between the two variables.  \n",
    "It is hard to see the two series as a line plot, as there is a lot of overlap."
   ]
  },
  {
   "cell_type": "markdown",
   "id": "b22d6603-288f-490b-b4fb-aeca9d2a1690",
   "metadata": {},
   "source": [
    "6a) You are studying home sale price data for a neighborhood where most homes sold for less than 500K, but a small fraction of homes sold for over 10 million. You want to compute a statistic to measure the center of the data. Would it be better to compute the median or the mean? Explain your answer. **(1 point)**"
   ]
  },
  {
   "cell_type": "markdown",
   "id": "d3e7d064-e5f0-45f1-8f30-28b593d9131c",
   "metadata": {},
   "source": [
    "answer: the homes selling for over 10 million will skew the mean, so it will be better to compute the median."
   ]
  },
  {
   "cell_type": "markdown",
   "id": "2066838f-4f0c-432f-a3ec-2aaf76f23dce",
   "metadata": {},
   "source": [
    "6b) From problem described in (6a), would the mean be higher or lower than the median? **(1 point)**"
   ]
  },
  {
   "cell_type": "markdown",
   "id": "3307d63f-6f96-495e-9918-0a2df7c5805f",
   "metadata": {},
   "source": [
    "answer: The very expensive homes would act as outliers, pushing the mean above the median."
   ]
  },
  {
   "cell_type": "code",
   "execution_count": null,
   "id": "3ee59ca0-86ef-4589-a714-d9b806a251d2",
   "metadata": {},
   "outputs": [],
   "source": []
  }
 ],
 "metadata": {
  "kernelspec": {
   "display_name": "Python 3 (ipykernel)",
   "language": "python",
   "name": "python3"
  },
  "language_info": {
   "codemirror_mode": {
    "name": "ipython",
    "version": 3
   },
   "file_extension": ".py",
   "mimetype": "text/x-python",
   "name": "python",
   "nbconvert_exporter": "python",
   "pygments_lexer": "ipython3",
   "version": "3.9.12"
  }
 },
 "nbformat": 4,
 "nbformat_minor": 5
}
