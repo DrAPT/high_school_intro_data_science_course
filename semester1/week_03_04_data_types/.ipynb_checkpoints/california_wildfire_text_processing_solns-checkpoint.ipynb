{
 "cells": [
  {
   "cell_type": "markdown",
   "metadata": {
    "tags": []
   },
   "source": [
    "## Text Processing Exercise - California Wildfire [SOLUTIONS]\n",
    "\n",
    "\n",
    "### The Covenant School\n",
    "### Introduction to Data Science\n",
    "### Last Updated: September 22, 2022\n",
    "---  \n",
    "\n",
    "### PREREQUISITES\n",
    "- data loading\n",
    "- variables\n",
    "\n",
    "### SOURCES \n",
    "- ABC News: https://abcnews.go.com/US/wireStory/rain-helps-increase-containment-huge-california-wildfire-90155591\n",
    "\n",
    "### OBJECTIVES\n",
    "- Motivate the use and understanding of data types\n",
    "\n",
    "### CONCEPTS\n",
    "\n",
    "- lists\n",
    "- strings\n",
    "- dictionaries\n",
    "- sets\n",
    "\n",
    "---"
   ]
  },
  {
   "cell_type": "markdown",
   "metadata": {},
   "source": [
    "### INSTRUCTIONS\n",
    "\n",
    "In this exercise, you will import an article in text format. Next, you will do some operations and discover different forms and data types.\n",
    "\n",
    "To answer some of the questions, you can do a web search for information, or reference the notebook `data_types.ipynb`.\n",
    "\n",
    "---"
   ]
  },
  {
   "cell_type": "markdown",
   "metadata": {},
   "source": [
    "### I. Hands-On Practice Working with Data"
   ]
  },
  {
   "cell_type": "markdown",
   "metadata": {},
   "source": [
    "Read in the article"
   ]
  },
  {
   "cell_type": "code",
   "execution_count": 2,
   "metadata": {},
   "outputs": [],
   "source": [
    "# set path to datafile\n",
    "PATH_TO_DATA = '../datasets/california_wildfire.txt'\n",
    "\n",
    "# open file and read into variable\n",
    "f1 = open(PATH_TO_DATA,'r')\n",
    "data = f1.read()  "
   ]
  },
  {
   "cell_type": "markdown",
   "metadata": {},
   "source": [
    "1. Print the article"
   ]
  },
  {
   "cell_type": "code",
   "execution_count": 3,
   "metadata": {},
   "outputs": [
    {
     "name": "stdout",
     "output_type": "stream",
     "text": [
      "Rain helps increase containment of huge California wildfire.\n",
      "\n",
      "A major storm that battered western Alaska over the weekend has churned through Northern California after bringing early-season snow to mountains and dropping rain that helped firefighters increase containment of a huge wildfire.\n",
      "\n",
      "SAN FRANCISCO -- A major storm that battered western Alaska over the weekend churned through Northern California on Monday after bringing early-season snow to mountains and dropping rain that helped firefighters increase their containment of a huge wildfire.\n",
      "\n",
      "No growth was reported on the 119-square-mile (308-square-kilometer) Mosquito Fire in the Sierra Nevada foothills northeast of Sacramento. The blaze was 38% contained Monday after downpours allowed sheriff's officials in two counties to lift or downgrade some evacuation orders. It's the state's largest wildfire of the year so far.\n",
      "\n",
      "More rain was expected, which fire spokesman Scott McLean called a mixed blessing for firefighters.\n",
      "\n",
      "\"It did help a bit to stifle that aggressive fire,\" McLean said. \"But weâ€™re going to have new safety issues now with all the mud thatâ€™s out there. And the ground moisture could cause some of those damaged trees to fall over.\"\n",
      "\n",
      "Lingering showers over the Mosquito Fire will increase the risk of ash and mud flows, the National Weather Service said. To the northwest, localized flooding and mudslides were reported in parts of the Coast Range scarred from a massive wildfire two years ago.\n",
      "\n",
      "Snow and ice in the eastern Sierra Nevada on Sunday led officials to close State Route 108 high up over the Sonora Pass, the California Department of Transportation said. The pass reopened Monday.\n",
      "\n",
      "To the north, roads remained closed at Lassen Volcanic National Park \"due to expected snow accumulation,\" but the park's main entrances was open, officials said in a statement.\n",
      "\n",
      "Scattered rain was expected throughout the day from Sacramento north to Redding, forecasters said. The weather service cautioned drivers that roads could be slick and commutes could take longer.\n",
      "\n",
      "Heavy rain fell Sunday across Marin, Napa and Sonoma counties north of San Francisco, with more than an inch (2.5 centimeters) recorded over 24 hours in some mountain areas, the National Weather Service said. Flood advisories for the Bay Area expired early Monday.\n",
      "\n",
      "Bands of rain stretched south into Santa Cruz County and along the Central Coast, where Highway 1 was briefly closed because of flooding in Big Sur. Precipitation wasn't expected to reach Southern California.\n"
     ]
    }
   ],
   "source": [
    "print(data)"
   ]
  },
  {
   "cell_type": "markdown",
   "metadata": {},
   "source": [
    "2. Check the type of `data` by using `type()`"
   ]
  },
  {
   "cell_type": "code",
   "execution_count": 4,
   "metadata": {},
   "outputs": [
    {
     "data": {
      "text/plain": [
       "str"
      ]
     },
     "execution_count": 4,
     "metadata": {},
     "output_type": "execute_result"
    }
   ],
   "source": [
    "type(data)"
   ]
  },
  {
   "cell_type": "markdown",
   "metadata": {},
   "source": [
    "3. You would like to process the article to make it more useful. Split the data on periods using `split()` - which will approximately segment the sentences - saving the result into variable: `sent` and printing it."
   ]
  },
  {
   "cell_type": "code",
   "execution_count": 42,
   "metadata": {},
   "outputs": [
    {
     "name": "stdout",
     "output_type": "stream",
     "text": [
      "['Rain helps increase containment of huge California wildfire', '\\n\\nA major storm that battered western Alaska over the weekend has churned through Northern California after bringing early-season snow to mountains and dropping rain that helped firefighters increase containment of a huge wildfire', '\\n\\nSAN FRANCISCO -- A major storm that battered western Alaska over the weekend churned through Northern California on Monday after bringing early-season snow to mountains and dropping rain that helped firefighters increase their containment of a huge wildfire', '\\n\\nNo growth was reported on the 119-square-mile (308-square-kilometer) Mosquito Fire in the Sierra Nevada foothills northeast of Sacramento', \" The blaze was 38% contained Monday after downpours allowed sheriff's officials in two counties to lift or downgrade some evacuation orders\", \" It's the state's largest wildfire of the year so far\", '\\n\\nMore rain was expected, which fire spokesman Scott McLean called a mixed blessing for firefighters', '\\n\\n\"It did help a bit to stifle that aggressive fire,\" McLean said', ' \"But weâ€™re going to have new safety issues now with all the mud thatâ€™s out there', ' And the ground moisture could cause some of those damaged trees to fall over', '\"\\n\\nLingering showers over the Mosquito Fire will increase the risk of ash and mud flows, the National Weather Service said', ' To the northwest, localized flooding and mudslides were reported in parts of the Coast Range scarred from a massive wildfire two years ago', '\\n\\nSnow and ice in the eastern Sierra Nevada on Sunday led officials to close State Route 108 high up over the Sonora Pass, the California Department of Transportation said', ' The pass reopened Monday', '\\n\\nTo the north, roads remained closed at Lassen Volcanic National Park \"due to expected snow accumulation,\" but the park\\'s main entrances was open, officials said in a statement', '\\n\\nScattered rain was expected throughout the day from Sacramento north to Redding, forecasters said', ' The weather service cautioned drivers that roads could be slick and commutes could take longer', '\\n\\nHeavy rain fell Sunday across Marin, Napa and Sonoma counties north of San Francisco, with more than an inch (2', '5 centimeters) recorded over 24 hours in some mountain areas, the National Weather Service said', ' Flood advisories for the Bay Area expired early Monday', '\\n\\nBands of rain stretched south into Santa Cruz County and along the Central Coast, where Highway 1 was briefly closed because of flooding in Big Sur', \" Precipitation wasn't expected to reach Southern California\", '']\n"
     ]
    }
   ],
   "source": [
    "sent = data.split('.')\n",
    "print(sent)"
   ]
  },
  {
   "cell_type": "markdown",
   "metadata": {},
   "source": [
    "4. What are the '\\n' characters?"
   ]
  },
  {
   "cell_type": "markdown",
   "metadata": {},
   "source": [
    "These are newline characters. They end the lines."
   ]
  },
  {
   "cell_type": "markdown",
   "metadata": {},
   "source": [
    "5. What is the data type of `sent`? Do a web search to learn a bit more about this data type."
   ]
  },
  {
   "cell_type": "code",
   "execution_count": 43,
   "metadata": {},
   "outputs": [
    {
     "data": {
      "text/plain": [
       "list"
      ]
     },
     "execution_count": 43,
     "metadata": {},
     "output_type": "execute_result"
    }
   ],
   "source": [
    "type(sent)"
   ]
  },
  {
   "cell_type": "markdown",
   "metadata": {},
   "source": [
    "6. What is the length of `sent`? This is the number of \"sentences.\""
   ]
  },
  {
   "cell_type": "code",
   "execution_count": 44,
   "metadata": {},
   "outputs": [
    {
     "data": {
      "text/plain": [
       "23"
      ]
     },
     "execution_count": 44,
     "metadata": {},
     "output_type": "execute_result"
    }
   ],
   "source": [
    "len(sent)"
   ]
  },
  {
   "cell_type": "markdown",
   "metadata": {},
   "source": [
    "7. Can you think of any issues with segmenting sentences by splitting on periods?"
   ]
  },
  {
   "cell_type": "markdown",
   "metadata": {},
   "source": [
    "answer: It will split decimals, acronyms."
   ]
  },
  {
   "cell_type": "markdown",
   "metadata": {},
   "source": [
    "8. You would like to make the first sentence the article headline. Extract the first sentence from `sent`, saving it into variable `headline`. This requires subsetting, so you might want to read about that. Print the headline."
   ]
  },
  {
   "cell_type": "code",
   "execution_count": 45,
   "metadata": {},
   "outputs": [
    {
     "name": "stdout",
     "output_type": "stream",
     "text": [
      "Rain helps increase containment of huge California wildfire\n"
     ]
    }
   ],
   "source": [
    "headline = sent[0]\n",
    "print(headline)"
   ]
  },
  {
   "cell_type": "markdown",
   "metadata": {},
   "source": [
    "9. Next, you would like to tokenize the headline, which means producing a list of words. Split the headline on spaces to tokenize the headline. Save the result into variable: `tokens` and print it."
   ]
  },
  {
   "cell_type": "code",
   "execution_count": 24,
   "metadata": {},
   "outputs": [
    {
     "name": "stdout",
     "output_type": "stream",
     "text": [
      "['Rain', 'helps', 'increase', 'containment', 'of', 'huge', 'California', 'wildfire']\n"
     ]
    }
   ],
   "source": [
    "tokens = headline.split(' ')\n",
    "print(tokens)"
   ]
  },
  {
   "cell_type": "markdown",
   "metadata": {},
   "source": [
    "---"
   ]
  },
  {
   "cell_type": "markdown",
   "metadata": {},
   "source": [
    "10. Next, you would like to store each word of `tokens` with its position in the sentence.  \n",
    "It should look like this:\n",
    "\n",
    "```\n",
    "word_index = {'Rain': 0, 'helps': 1, 'increase': 2, 'containment': 3, 'of': 4, 'huge': 5, 'California': 6, 'wildfire': 7}\n",
    "```\n",
    "\n",
    "This object is called a `dictionary` and it stores key : value pairs.\n",
    "\n",
    "To solve this problem, fill in the BLANK placeholders below.\n",
    "\n",
    "You may need to search the web and refer to the notebook: `data_types.ipynb`"
   ]
  },
  {
   "cell_type": "code",
   "execution_count": null,
   "metadata": {},
   "outputs": [],
   "source": [
    "# create empty dictionary\n",
    "word_index = {}\n",
    "\n",
    "for ix, token in enumerate(BLANK):\n",
    "        word_index[token] = BLANK\n",
    "        \n",
    "print(word_index)"
   ]
  },
  {
   "cell_type": "code",
   "execution_count": 27,
   "metadata": {},
   "outputs": [
    {
     "name": "stdout",
     "output_type": "stream",
     "text": [
      "{'Rain': 0, 'helps': 1, 'increase': 2, 'containment': 3, 'of': 4, 'huge': 5, 'California': 6, 'wildfire': 7}\n"
     ]
    }
   ],
   "source": [
    "# answer\n",
    "\n",
    "# create empty dictionary\n",
    "word_index = {}\n",
    "\n",
    "for ix, token in enumerate(tokens):\n",
    "        word_index[token] = ix\n",
    "        \n",
    "print(word_index)"
   ]
  },
  {
   "cell_type": "markdown",
   "metadata": {},
   "source": [
    "11. Lastly, we select a sentence from the text. The task is to get the unique words using the `set` object which deduplicates elements. Print the result of deduped words."
   ]
  },
  {
   "cell_type": "code",
   "execution_count": 46,
   "metadata": {},
   "outputs": [
    {
     "data": {
      "text/plain": [
       "\" It's the state's largest wildfire of the year so far\""
      ]
     },
     "execution_count": 46,
     "metadata": {},
     "output_type": "execute_result"
    }
   ],
   "source": [
    "# sentence before splitting\n",
    "sent[5]"
   ]
  },
  {
   "cell_type": "code",
   "execution_count": 47,
   "metadata": {},
   "outputs": [
    {
     "data": {
      "text/plain": [
       "{'',\n",
       " \"It's\",\n",
       " 'far',\n",
       " 'largest',\n",
       " 'of',\n",
       " 'so',\n",
       " \"state's\",\n",
       " 'the',\n",
       " 'wildfire',\n",
       " 'year'}"
      ]
     },
     "execution_count": 47,
     "metadata": {},
     "output_type": "execute_result"
    }
   ],
   "source": [
    "# sentence after splitting\n",
    "set(sent[5].split(' '))"
   ]
  },
  {
   "cell_type": "markdown",
   "metadata": {},
   "source": [
    "---"
   ]
  },
  {
   "cell_type": "markdown",
   "metadata": {},
   "source": [
    "If you made it to here, nice work! You processed a news article and learned some Python data types and processing along the way:\n",
    "\n",
    "- lists\n",
    "- strings\n",
    "- dictionaries\n",
    "- sets"
   ]
  },
  {
   "cell_type": "markdown",
   "metadata": {},
   "source": [
    "---"
   ]
  }
 ],
 "metadata": {
  "anaconda-cloud": {},
  "kernelspec": {
   "display_name": "Python 3 (ipykernel)",
   "language": "python",
   "name": "python3"
  },
  "language_info": {
   "codemirror_mode": {
    "name": "ipython",
    "version": 3
   },
   "file_extension": ".py",
   "mimetype": "text/x-python",
   "name": "python",
   "nbconvert_exporter": "python",
   "pygments_lexer": "ipython3",
   "version": "3.9.12"
  }
 },
 "nbformat": 4,
 "nbformat_minor": 4
}
