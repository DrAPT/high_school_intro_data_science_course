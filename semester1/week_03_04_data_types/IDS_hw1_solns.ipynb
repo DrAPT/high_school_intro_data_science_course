{
 "cells": [
  {
   "cell_type": "markdown",
   "id": "dc09e7a3",
   "metadata": {},
   "source": [
    "## Coding Assignment 1 [SOLUTIONS]\n",
    "\n",
    "### Introduction to Data Science\n",
    "#### Last Updated: August 20, 2022"
   ]
  },
  {
   "cell_type": "markdown",
   "id": "e8d6a082",
   "metadata": {},
   "source": [
    "---  \n",
    "\n",
    "### Skills Assessed\n",
    "\n",
    "You will demonstrate these skills in the HW:\n",
    "- import csv\n",
    "- load a package\n",
    "- basic dataframe operations\n",
    "- computing statistics\n",
    "- working with data types: set, dict, list\n",
    "\n",
    "---"
   ]
  },
  {
   "cell_type": "markdown",
   "id": "6ac0024d",
   "metadata": {},
   "source": [
    "### Instructions\n",
    "\n",
    "Find the CSV data file associated with this assignment entitled `Country_Happiness.csv`.  \n",
    "It is saved in the `datasets` folder. Make sure you have this folder on your machine.\n",
    "\n",
    "Complete all questions thoroughly and be sure to show all work.\n",
    "\n",
    "For pandas help, you can also refer to the Pandas documentation: https://pandas.pydata.org/pandas-docs/stable/reference/api/pandas.DataFrame.html\n",
    "\n",
    "**TOTAL POINTS: 16**\n",
    "\n",
    "---"
   ]
  },
  {
   "cell_type": "markdown",
   "id": "011111ff",
   "metadata": {},
   "source": [
    "### Problem 1: Quick Discussion on Code cells and Markdown cells\n",
    "\n",
    "This block of code is a markdown block. Markdown can include special characters to display rich text, images and other useful information.\n",
    "\n",
    "The next block is a code cell. You can enter running code in code cells."
   ]
  },
  {
   "cell_type": "code",
   "execution_count": 2,
   "id": "c7b884b2",
   "metadata": {},
   "outputs": [
    {
     "data": {
      "text/plain": [
       "81"
      ]
     },
     "execution_count": 2,
     "metadata": {},
     "output_type": "execute_result"
    }
   ],
   "source": [
    "3**4"
   ]
  },
  {
   "cell_type": "markdown",
   "id": "19a4aa81-3f25-4ad6-9b6b-04ddeb5a4a1a",
   "metadata": {},
   "source": [
    "It is possible to change between markdown cells and code cells. You can use:\n",
    "\n",
    "- the dropdown in the Jupyter notebook ribbon up top\n",
    "- keyboard shortcuts\n",
    "\n",
    "Try it out with the code cell below, changing it to markdown. Clicking SHIFT + ENTER in this cell produces an error.  \n",
    "When you change it to markdown and rerun, the error goes away. Show this. **(1 point)**"
   ]
  },
  {
   "cell_type": "markdown",
   "id": "c6473131-b8e7-4e00-a107-9dcd59380d98",
   "metadata": {},
   "source": [
    "ANSWER: Can change dropdown from Code to Markdown\n",
    "\n",
    "This should be markdown but it's a code cell. Whoops!"
   ]
  },
  {
   "cell_type": "markdown",
   "id": "1a7be320",
   "metadata": {},
   "source": [
    "### Problem 2\n",
    "\n",
    "Import the Pandas library that you will need by typing:\n",
    "\n",
    "```\n",
    "import pandas as pd\n",
    "```\n",
    "\n",
    "into a code block. **(1 point)**"
   ]
  },
  {
   "cell_type": "code",
   "execution_count": 8,
   "id": "e35f4b0f",
   "metadata": {},
   "outputs": [],
   "source": [
    "# ANSWER\n",
    "\n",
    "import pandas as pd"
   ]
  },
  {
   "cell_type": "markdown",
   "id": "989f99fb",
   "metadata": {},
   "source": [
    "### Problem 3\n",
    "\n",
    "Read in the `Country_Happiness.csv` file using a Pandas function, and store it as `Country` **(1 point)**"
   ]
  },
  {
   "cell_type": "code",
   "execution_count": 9,
   "id": "9a575b4f",
   "metadata": {},
   "outputs": [],
   "source": [
    "# ANSWER\n",
    "\n",
    "Country = pd.read_csv('../datasets/Country_Happiness.csv')"
   ]
  },
  {
   "cell_type": "markdown",
   "id": "50cd8bb3",
   "metadata": {},
   "source": [
    "### Problem 4\n",
    "\n",
    "Display the output of the .info() method of Country, display the columns of country using .columns, and display the head and tail of the dataframe.  \n",
    "**(3 points)**"
   ]
  },
  {
   "cell_type": "code",
   "execution_count": 10,
   "id": "776ee163",
   "metadata": {},
   "outputs": [
    {
     "name": "stdout",
     "output_type": "stream",
     "text": [
      "<class 'pandas.core.frame.DataFrame'>\n",
      "RangeIndex: 156 entries, 0 to 155\n",
      "Data columns (total 11 columns):\n",
      " #   Column                                      Non-Null Count  Dtype  \n",
      "---  ------                                      --------------  -----  \n",
      " 0   Country                                     156 non-null    object \n",
      " 1   Happiness score                             156 non-null    float64\n",
      " 2   Whisker-high                                156 non-null    float64\n",
      " 3   Whisker-low                                 156 non-null    float64\n",
      " 4   Dystopia (1.92) + residual                  156 non-null    float64\n",
      " 5   Explained by: GDP per capita                156 non-null    float64\n",
      " 6   Explained by: Social support                156 non-null    float64\n",
      " 7   Explained by: Healthy life expectancy       156 non-null    float64\n",
      " 8   Explained by: Freedom to make life choices  156 non-null    float64\n",
      " 9   Explained by: Generosity                    156 non-null    float64\n",
      " 10  Explained by: Perceptions of corruption     156 non-null    float64\n",
      "dtypes: float64(10), object(1)\n",
      "memory usage: 13.5+ KB\n"
     ]
    }
   ],
   "source": [
    "Country.info()"
   ]
  },
  {
   "cell_type": "code",
   "execution_count": 11,
   "id": "dee81067",
   "metadata": {},
   "outputs": [
    {
     "data": {
      "text/plain": [
       "Index(['Country', 'Happiness score', 'Whisker-high', 'Whisker-low',\n",
       "       'Dystopia (1.92) + residual', 'Explained by: GDP per capita',\n",
       "       'Explained by: Social support', 'Explained by: Healthy life expectancy',\n",
       "       'Explained by: Freedom to make life choices',\n",
       "       'Explained by: Generosity', 'Explained by: Perceptions of corruption'],\n",
       "      dtype='object')"
      ]
     },
     "execution_count": 11,
     "metadata": {},
     "output_type": "execute_result"
    }
   ],
   "source": [
    "Country.columns"
   ]
  },
  {
   "cell_type": "code",
   "execution_count": 12,
   "id": "e6bb9526",
   "metadata": {},
   "outputs": [
    {
     "name": "stdout",
     "output_type": "stream",
     "text": [
      "       Country  Happiness score  Whisker-high  Whisker-low  \\\n",
      "0      Finland            7.632         7.695        7.569   \n",
      "1       Norway            7.594         7.657        7.530   \n",
      "2      Denmark            7.555         7.623        7.487   \n",
      "3      Iceland            7.495         7.593        7.398   \n",
      "4  Switzerland            7.487         7.570        7.405   \n",
      "\n",
      "   Dystopia (1.92) + residual  Explained by: GDP per capita  \\\n",
      "0                       2.595                         1.305   \n",
      "1                       2.383                         1.456   \n",
      "2                       2.370                         1.351   \n",
      "3                       2.426                         1.343   \n",
      "4                       2.320                         1.420   \n",
      "\n",
      "   Explained by: Social support  Explained by: Healthy life expectancy  \\\n",
      "0                         1.592                                  0.874   \n",
      "1                         1.582                                  0.861   \n",
      "2                         1.590                                  0.868   \n",
      "3                         1.644                                  0.914   \n",
      "4                         1.549                                  0.927   \n",
      "\n",
      "   Explained by: Freedom to make life choices  Explained by: Generosity  \\\n",
      "0                                       0.681                     0.192   \n",
      "1                                       0.686                     0.286   \n",
      "2                                       0.683                     0.284   \n",
      "3                                       0.677                     0.353   \n",
      "4                                       0.660                     0.256   \n",
      "\n",
      "   Explained by: Perceptions of corruption  \n",
      "0                                    0.393  \n",
      "1                                    0.340  \n",
      "2                                    0.408  \n",
      "3                                    0.138  \n",
      "4                                    0.357  \n",
      "                      Country  Happiness score  Whisker-high  Whisker-low  \\\n",
      "151                     Yemen            3.355         3.448        3.262   \n",
      "152                  Tanzania            3.303         3.414        3.193   \n",
      "153               South Sudan            3.254         3.385        3.123   \n",
      "154  Central African Republic            3.083         3.227        2.939   \n",
      "155                   Burundi            2.905         3.074        2.735   \n",
      "\n",
      "     Dystopia (1.92) + residual  Explained by: GDP per capita  \\\n",
      "151                       1.106                         0.442   \n",
      "152                       0.628                         0.455   \n",
      "153                       1.691                         0.337   \n",
      "154                       2.487                         0.024   \n",
      "155                       1.752                         0.091   \n",
      "\n",
      "     Explained by: Social support  Explained by: Healthy life expectancy  \\\n",
      "151                         1.073                                  0.343   \n",
      "152                         0.991                                  0.381   \n",
      "153                         0.608                                  0.177   \n",
      "154                         0.000                                  0.010   \n",
      "155                         0.627                                  0.145   \n",
      "\n",
      "     Explained by: Freedom to make life choices  Explained by: Generosity  \\\n",
      "151                                       0.244                     0.083   \n",
      "152                                       0.481                     0.270   \n",
      "153                                       0.112                     0.224   \n",
      "154                                       0.305                     0.218   \n",
      "155                                       0.065                     0.149   \n",
      "\n",
      "     Explained by: Perceptions of corruption  \n",
      "151                                    0.064  \n",
      "152                                    0.097  \n",
      "153                                    0.106  \n",
      "154                                    0.038  \n",
      "155                                    0.076  \n"
     ]
    }
   ],
   "source": [
    "print(Country.head())\n",
    "print(Country.tail())"
   ]
  },
  {
   "cell_type": "markdown",
   "id": "ae30a36a",
   "metadata": {},
   "source": [
    "### Problem 5\n",
    "\n",
    "Display the mean happiness score.  What is higher, the mean or median happiness score?  Show these scores in your output.  Are they close together?  What does that say about the shape of the happiness score distribution?  You may have to google this. **(3 points)**\n",
    "\n",
    "Extra point for using an `f-string` to display output with this format:\n",
    "\n",
    "\"The mean happiness score is (insert mean), and the median is (insert median).\"  \n",
    "\n",
    "where (insert mean), will be replaced by the mean, and (insert median), will be replaced by the median "
   ]
  },
  {
   "cell_type": "code",
   "execution_count": 26,
   "id": "7ec84a2e",
   "metadata": {},
   "outputs": [
    {
     "data": {
      "text/plain": [
       "5.375878205128205"
      ]
     },
     "execution_count": 26,
     "metadata": {},
     "output_type": "execute_result"
    }
   ],
   "source": [
    "Country['Happiness score'].mean()"
   ]
  },
  {
   "cell_type": "code",
   "execution_count": 27,
   "id": "f976a7c1",
   "metadata": {},
   "outputs": [
    {
     "name": "stdout",
     "output_type": "stream",
     "text": [
      "5.375878205128205\n",
      "5.378\n"
     ]
    }
   ],
   "source": [
    "print(Country['Happiness score'].mean())\n",
    "print(Country['Happiness score'].median())\n",
    "\n",
    "# ANS: median is higher. they are close together, which means the data are fairly symmetric."
   ]
  },
  {
   "cell_type": "code",
   "execution_count": 28,
   "id": "bdb6a3e6",
   "metadata": {},
   "outputs": [
    {
     "data": {
      "text/plain": [
       "'The mean happiness score is 5.375878205128205, and the median is 5.378'"
      ]
     },
     "execution_count": 28,
     "metadata": {},
     "output_type": "execute_result"
    }
   ],
   "source": [
    "data_mean = Country['Happiness score'].mean()\n",
    "data_median = Country['Happiness score'].median()\n",
    "\n",
    "f\"The mean happiness score is {data_mean}, and the median is {data_median}\""
   ]
  },
  {
   "cell_type": "markdown",
   "id": "ea41d121",
   "metadata": {},
   "source": [
    "### Problem 6\n",
    "\n",
    "Consider the columns 'Explained by: GDP per capita' and 'Explained by: Healthy life expectancy'.  Use .mean() and .std() to compute the column means and standard deviations. Print them. **(2 points)**"
   ]
  },
  {
   "cell_type": "markdown",
   "id": "83be9fd2-ed0f-4058-b6a6-e9d258b1108c",
   "metadata": {},
   "source": [
    "---  \n",
    "\n",
    "STATISTICAL BACKGROUND:  \n",
    "The *mean* measures the central tendency of the data.  \n",
    "It is computed as the sum of the values divided by the number of values.\n",
    "\n",
    "The *standard deviation* measures the average deviation of a set of data points from the mean.  \n",
    "If all values are identical, the standard deviation will be zero. \n",
    "\n",
    "For more details, see [here](https://en.wikipedia.org/wiki/Standard_deviation)  \n",
    "\n",
    "---"
   ]
  },
  {
   "cell_type": "code",
   "execution_count": 31,
   "id": "7876118e",
   "metadata": {},
   "outputs": [],
   "source": [
    "gdp = Country['Explained by: GDP per capita']\n",
    "life = Country['Explained by: Healthy life expectancy']"
   ]
  },
  {
   "cell_type": "code",
   "execution_count": 37,
   "id": "13197deb",
   "metadata": {},
   "outputs": [
    {
     "name": "stdout",
     "output_type": "stream",
     "text": [
      "0.8874166666666665\n",
      "0.5980256410256408\n"
     ]
    }
   ],
   "source": [
    "# column means\n",
    "print(gdp.mean())\n",
    "print(life.mean())"
   ]
  },
  {
   "cell_type": "code",
   "execution_count": 38,
   "id": "598bdaf1",
   "metadata": {},
   "outputs": [
    {
     "name": "stdout",
     "output_type": "stream",
     "text": [
      "0.38257273326330926\n",
      "0.2479246750518924\n"
     ]
    }
   ],
   "source": [
    "# column stdevs\n",
    "print(gdp.std())\n",
    "print(life.std())"
   ]
  },
  {
   "cell_type": "markdown",
   "id": "6a51f3bd",
   "metadata": {},
   "source": [
    "### Problem 7\n",
    "\n",
    "Which country is the happiest? You may want to start by finding what the highest (max) happiness score is, then finding which country has that score.  Show your code that led to your answer. **(1 point)**\n",
    "\n",
    "If you need help, Google \"pandas find a row that matches a column value\""
   ]
  },
  {
   "cell_type": "markdown",
   "id": "e364de0b-ab9d-4051-89df-0d1645bbb1d5",
   "metadata": {},
   "source": [
    "ANSWER: Showing the country which has happiness score that matches maximum happiness score"
   ]
  },
  {
   "cell_type": "code",
   "execution_count": 41,
   "id": "37a6b1bd",
   "metadata": {},
   "outputs": [
    {
     "data": {
      "text/plain": [
       "0    Finland\n",
       "Name: Country, dtype: object"
      ]
     },
     "execution_count": 41,
     "metadata": {},
     "output_type": "execute_result"
    }
   ],
   "source": [
    "Country['Country'][Country['Happiness score'] == Country['Happiness score'].max()]"
   ]
  },
  {
   "cell_type": "markdown",
   "id": "988f114a-1524-441e-91f6-87b7a61233c8",
   "metadata": {},
   "source": [
    "## Working with Data Types"
   ]
  },
  {
   "cell_type": "markdown",
   "id": "2fe1a2a7-ff19-449f-9b52-dff07c80a9c6",
   "metadata": {},
   "source": [
    "### Problem 8\n",
    "\n",
    "Consider the list below. Using what you know about data types (list, set, dictionary, tuple),  \n",
    "write one line of code to show the unique list of subjects. Do NOT use a loop. **(1 point)**"
   ]
  },
  {
   "cell_type": "code",
   "execution_count": 2,
   "id": "e2c09094-3d1b-4d7f-bff0-45504248131e",
   "metadata": {},
   "outputs": [],
   "source": [
    "subjects = ['math','math','statistics','data science','data science','music','art']"
   ]
  },
  {
   "cell_type": "code",
   "execution_count": 4,
   "id": "88e6b0e1-69e0-4f95-82ed-431155188c42",
   "metadata": {},
   "outputs": [
    {
     "data": {
      "text/plain": [
       "{'art', 'data science', 'math', 'music', 'statistics'}"
      ]
     },
     "execution_count": 4,
     "metadata": {},
     "output_type": "execute_result"
    }
   ],
   "source": [
    "# ANSWER\n",
    "\n",
    "set(subjects)"
   ]
  },
  {
   "cell_type": "markdown",
   "id": "d1e63324-19dc-4b1d-8e98-03c0a72826dc",
   "metadata": {},
   "source": [
    "### Problem 9\n",
    "\n",
    "You would like to store some names with associated birthdays.  \n",
    "Given a name, you would like to easily \"look up\" the birthday in the structure.\n",
    "\n",
    "9a) Which structure (list, set, dictionary, tuple) would be a good candidate and why? **(1 point)**"
   ]
  },
  {
   "cell_type": "markdown",
   "id": "dcbb5dbe-7b78-49c9-b081-0fe924e46500",
   "metadata": {},
   "source": [
    "ANSWER  \n",
    "\n",
    "*A dictionary as it associates data pairs: keys, values*"
   ]
  },
  {
   "cell_type": "markdown",
   "id": "3ae31dc0-d314-43cd-9ea9-80b175eab438",
   "metadata": {},
   "source": [
    "**Data**\n",
    "\n",
    "\"Callie\", \"Jan 10\"  \n",
    "\"Jack\", \"Apr 9\"  \n",
    "\"Eli\", \"June 8\"  \n",
    "\"James\", \"Sep 6\""
   ]
  },
  {
   "cell_type": "markdown",
   "id": "aa72d293-2afc-49f7-bb5e-a04611754a14",
   "metadata": {},
   "source": [
    "9b) Create the structure and print it. **(1 point)**"
   ]
  },
  {
   "cell_type": "code",
   "execution_count": 6,
   "id": "c11fc4d2-c907-4d96-a263-4cfc1976daad",
   "metadata": {},
   "outputs": [
    {
     "name": "stdout",
     "output_type": "stream",
     "text": [
      "{'Callie': 'Jan 10', 'Jack': 'Apr 9', 'Eli': 'June 8', 'James': 'Sep 6'}\n"
     ]
    }
   ],
   "source": [
    "# ANSWER\n",
    "\n",
    "name_bday = {\"Callie\":\"Jan 10\", \n",
    "             \"Jack\":\"Apr 9\", \n",
    "             \"Eli\":\"June 8\", \n",
    "             \"James\":\"Sep 6\"}\n",
    "\n",
    "print(name_bday)"
   ]
  },
  {
   "cell_type": "markdown",
   "id": "39012210-74be-4818-9e5f-262d8a6667cb",
   "metadata": {},
   "source": [
    "9c) Show how you can easily look up Jack's birthday, printing the result. **(1 point)**"
   ]
  },
  {
   "cell_type": "code",
   "execution_count": 7,
   "id": "4b8a3f0d-1221-4d88-b68c-10855701d68d",
   "metadata": {},
   "outputs": [
    {
     "data": {
      "text/plain": [
       "'Apr 9'"
      ]
     },
     "execution_count": 7,
     "metadata": {},
     "output_type": "execute_result"
    }
   ],
   "source": [
    "# ANSWER\n",
    "\n",
    "name_bday['Jack']"
   ]
  },
  {
   "cell_type": "markdown",
   "id": "5039ea22-37fe-4598-855a-9c7ab976c97a",
   "metadata": {},
   "source": [
    "---"
   ]
  }
 ],
 "metadata": {
  "kernelspec": {
   "display_name": "Python 3 (ipykernel)",
   "language": "python",
   "name": "python3"
  },
  "language_info": {
   "codemirror_mode": {
    "name": "ipython",
    "version": 3
   },
   "file_extension": ".py",
   "mimetype": "text/x-python",
   "name": "python",
   "nbconvert_exporter": "python",
   "pygments_lexer": "ipython3",
   "version": "3.9.12"
  }
 },
 "nbformat": 4,
 "nbformat_minor": 5
}
