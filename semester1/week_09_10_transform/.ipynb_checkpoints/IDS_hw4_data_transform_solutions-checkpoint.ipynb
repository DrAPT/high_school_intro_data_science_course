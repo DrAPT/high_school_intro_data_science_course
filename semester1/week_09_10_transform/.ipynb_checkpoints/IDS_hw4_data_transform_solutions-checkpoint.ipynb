{
 "cells": [
  {
   "cell_type": "markdown",
   "id": "03156d81-f72f-424a-9c6e-cb86cf079025",
   "metadata": {},
   "source": [
    "## Coding Assignment 4: Data Transformations [SOLUTIONS]\n",
    "\n",
    "### Introduction to Data Science\n",
    "#### Last Updated: August 21, 2022\n",
    "\n",
    "---"
   ]
  },
  {
   "cell_type": "markdown",
   "id": "61dda6ed-4b29-4e8c-b8b9-35a273cf37e6",
   "metadata": {},
   "source": [
    "### Skills Assessed\n",
    "\n",
    "You will demonstrate these skills in the HW:\n",
    "- subsetting a pandas dataframe\n",
    "- working with lists\n",
    "- scaling data\n",
    "- binarizing data\n",
    "- merging data\n",
    "\n",
    "---"
   ]
  },
  {
   "cell_type": "markdown",
   "id": "1acd0a12-72d9-4ac0-9754-87ced6b5c9dd",
   "metadata": {},
   "source": [
    "### Instructions\n",
    "\n",
    "You will show off your data transformation skills in this assignment.\n",
    "\n",
    "**About the Data**\n",
    "\n",
    "The dataset is the [2017 Workplace Health in America survey](https://www.cdc.gov/workplacehealthpromotion/survey/data.html) which was conducted by the Centers for Disease Control and Prevention.  \n",
    "For details, refer to this [guidance document](https://www.cdc.gov/workplacehealthpromotion/data-surveillance/docs/2017-WHA-Guidance-Document-for-Use-of-Public-Data-files-508.pdf).\n",
    "\n",
    "The data contains over 300 features including:\n",
    "- industry of employment\n",
    "- company type\n",
    "- type of health insurance programs offered\n",
    "- whether remote work was allowed\n",
    "- gender\n",
    "- age\n",
    "\n",
    "Follow the framed-out code below, filling in the missing pieces.\n",
    "\n",
    "**TOTAL POINTS: 10**\n",
    "\n",
    "---"
   ]
  },
  {
   "cell_type": "code",
   "execution_count": 1,
   "id": "b183cac0-7e07-4671-9d3f-4ca28076b85c",
   "metadata": {},
   "outputs": [],
   "source": [
    "import warnings\n",
    "warnings.filterwarnings(\"ignore\")"
   ]
  },
  {
   "cell_type": "markdown",
   "id": "4d38a4a1-e452-4512-b062-7cf3b0f644eb",
   "metadata": {},
   "source": [
    "Review the instructions below to figure out which modules are required. Import them all here."
   ]
  },
  {
   "cell_type": "code",
   "execution_count": 2,
   "id": "283e19dc-8039-479b-b442-6c9f811cabf0",
   "metadata": {},
   "outputs": [],
   "source": [
    "import numpy as np\n",
    "import pandas as pd\n",
    "from sklearn.preprocessing import StandardScaler"
   ]
  },
  {
   "cell_type": "markdown",
   "id": "4a11f6a0-6206-4986-9b06-6ef08407f402",
   "metadata": {},
   "source": [
    "## 1. Data Loading and Prep"
   ]
  },
  {
   "cell_type": "markdown",
   "id": "62988aec-87b1-4bda-b62d-b65da88f0a1c",
   "metadata": {},
   "source": [
    "The data is stored in a csv file here: https://www.cdc.gov/workplacehealthpromotion/survey/data.html\n",
    "\n",
    "1) **(1 PT)** Load the data directly into Python without manually downloading the data onto your hard drive. Show the first five rows of data.\n",
    "\n",
    "Note: The columns are separated by '~', so you'll want to pass a parameter to your function to handle this."
   ]
  },
  {
   "cell_type": "code",
   "execution_count": 3,
   "id": "6160d45f-6785-41c4-b299-3fa93d1fef1c",
   "metadata": {},
   "outputs": [
    {
     "data": {
      "text/html": [
       "<div>\n",
       "<style scoped>\n",
       "    .dataframe tbody tr th:only-of-type {\n",
       "        vertical-align: middle;\n",
       "    }\n",
       "\n",
       "    .dataframe tbody tr th {\n",
       "        vertical-align: top;\n",
       "    }\n",
       "\n",
       "    .dataframe thead th {\n",
       "        text-align: right;\n",
       "    }\n",
       "</style>\n",
       "<table border=\"1\" class=\"dataframe\">\n",
       "  <thead>\n",
       "    <tr style=\"text-align: right;\">\n",
       "      <th></th>\n",
       "      <th>OC1</th>\n",
       "      <th>OC3</th>\n",
       "      <th>HI1</th>\n",
       "      <th>HI2</th>\n",
       "      <th>HI3</th>\n",
       "      <th>HI4</th>\n",
       "      <th>HRA1</th>\n",
       "      <th>HRA1A</th>\n",
       "      <th>HRA1B</th>\n",
       "      <th>HRA1E</th>\n",
       "      <th>...</th>\n",
       "      <th>WL3_05</th>\n",
       "      <th>E1_09</th>\n",
       "      <th>Suppquex</th>\n",
       "      <th>Id</th>\n",
       "      <th>Region</th>\n",
       "      <th>CDC_Region</th>\n",
       "      <th>Industry</th>\n",
       "      <th>Size</th>\n",
       "      <th>Varstrata</th>\n",
       "      <th>Finalwt_worksite,,,,</th>\n",
       "    </tr>\n",
       "  </thead>\n",
       "  <tbody>\n",
       "    <tr>\n",
       "      <th>0</th>\n",
       "      <td>7</td>\n",
       "      <td>3.0</td>\n",
       "      <td>2.0</td>\n",
       "      <td>1.0</td>\n",
       "      <td>2.0</td>\n",
       "      <td>1.0</td>\n",
       "      <td>1.0</td>\n",
       "      <td>3.0</td>\n",
       "      <td>4.0</td>\n",
       "      <td>2.0</td>\n",
       "      <td>...</td>\n",
       "      <td>PTO</td>\n",
       "      <td>NaN</td>\n",
       "      <td>2.0</td>\n",
       "      <td>217.0</td>\n",
       "      <td>1.0</td>\n",
       "      <td>2.0</td>\n",
       "      <td>7.0</td>\n",
       "      <td>7.0</td>\n",
       "      <td>0.0</td>\n",
       "      <td>47.793940929,,,,</td>\n",
       "    </tr>\n",
       "    <tr>\n",
       "      <th>1</th>\n",
       "      <td>2</td>\n",
       "      <td>3.0</td>\n",
       "      <td>2.0</td>\n",
       "      <td>3.0</td>\n",
       "      <td>1.0</td>\n",
       "      <td>1.0</td>\n",
       "      <td>1.0</td>\n",
       "      <td>3.0</td>\n",
       "      <td>3.0</td>\n",
       "      <td>1.0</td>\n",
       "      <td>...</td>\n",
       "      <td>NaN</td>\n",
       "      <td>NaN</td>\n",
       "      <td>1.0</td>\n",
       "      <td>326.0</td>\n",
       "      <td>3.0</td>\n",
       "      <td>7.0</td>\n",
       "      <td>7.0</td>\n",
       "      <td>6.0</td>\n",
       "      <td>0.0</td>\n",
       "      <td>47.793940929,,,,</td>\n",
       "    </tr>\n",
       "    <tr>\n",
       "      <th>2</th>\n",
       "      <td>7</td>\n",
       "      <td>3.0</td>\n",
       "      <td>1.0</td>\n",
       "      <td>3.0</td>\n",
       "      <td>1.0</td>\n",
       "      <td>1.0</td>\n",
       "      <td>1.0</td>\n",
       "      <td>3.0</td>\n",
       "      <td>97.0</td>\n",
       "      <td>2.0</td>\n",
       "      <td>...</td>\n",
       "      <td>NaN</td>\n",
       "      <td>NaN</td>\n",
       "      <td>1.0</td>\n",
       "      <td>399.0</td>\n",
       "      <td>4.0</td>\n",
       "      <td>8.0</td>\n",
       "      <td>7.0</td>\n",
       "      <td>8.0</td>\n",
       "      <td>0.0</td>\n",
       "      <td>47.793940929,,,,</td>\n",
       "    </tr>\n",
       "    <tr>\n",
       "      <th>3</th>\n",
       "      <td>1</td>\n",
       "      <td>2.0</td>\n",
       "      <td>1.0</td>\n",
       "      <td>2.0</td>\n",
       "      <td>1.0</td>\n",
       "      <td>1.0</td>\n",
       "      <td>97.0</td>\n",
       "      <td>96.0</td>\n",
       "      <td>96.0</td>\n",
       "      <td>96.0</td>\n",
       "      <td>...</td>\n",
       "      <td>NaN</td>\n",
       "      <td>NaN</td>\n",
       "      <td>1.0</td>\n",
       "      <td>475.0</td>\n",
       "      <td>5.0</td>\n",
       "      <td>9.0</td>\n",
       "      <td>7.0</td>\n",
       "      <td>4.0</td>\n",
       "      <td>0.0</td>\n",
       "      <td>47.793940929,,,,</td>\n",
       "    </tr>\n",
       "    <tr>\n",
       "      <th>4</th>\n",
       "      <td>2</td>\n",
       "      <td>3.0</td>\n",
       "      <td>1.0</td>\n",
       "      <td>3.0</td>\n",
       "      <td>1.0</td>\n",
       "      <td>1.0</td>\n",
       "      <td>1.0</td>\n",
       "      <td>3.0</td>\n",
       "      <td>3.0</td>\n",
       "      <td>2.0</td>\n",
       "      <td>...</td>\n",
       "      <td>NaN</td>\n",
       "      <td>NaN</td>\n",
       "      <td>1.0</td>\n",
       "      <td>489.0</td>\n",
       "      <td>2.0</td>\n",
       "      <td>4.0</td>\n",
       "      <td>7.0</td>\n",
       "      <td>4.0</td>\n",
       "      <td>0.0</td>\n",
       "      <td>47.793940929,,,,</td>\n",
       "    </tr>\n",
       "  </tbody>\n",
       "</table>\n",
       "<p>5 rows × 301 columns</p>\n",
       "</div>"
      ],
      "text/plain": [
       "  OC1  OC3  HI1  HI2  HI3  HI4  HRA1  HRA1A  HRA1B  HRA1E  ...  WL3_05  E1_09  \\\n",
       "0   7  3.0  2.0  1.0  2.0  1.0   1.0    3.0    4.0    2.0  ...     PTO    NaN   \n",
       "1   2  3.0  2.0  3.0  1.0  1.0   1.0    3.0    3.0    1.0  ...     NaN    NaN   \n",
       "2   7  3.0  1.0  3.0  1.0  1.0   1.0    3.0   97.0    2.0  ...     NaN    NaN   \n",
       "3   1  2.0  1.0  2.0  1.0  1.0  97.0   96.0   96.0   96.0  ...     NaN    NaN   \n",
       "4   2  3.0  1.0  3.0  1.0  1.0   1.0    3.0    3.0    2.0  ...     NaN    NaN   \n",
       "\n",
       "   Suppquex     Id  Region  CDC_Region  Industry  Size  Varstrata  \\\n",
       "0       2.0  217.0     1.0         2.0       7.0   7.0        0.0   \n",
       "1       1.0  326.0     3.0         7.0       7.0   6.0        0.0   \n",
       "2       1.0  399.0     4.0         8.0       7.0   8.0        0.0   \n",
       "3       1.0  475.0     5.0         9.0       7.0   4.0        0.0   \n",
       "4       1.0  489.0     2.0         4.0       7.0   4.0        0.0   \n",
       "\n",
       "   Finalwt_worksite,,,,  \n",
       "0      47.793940929,,,,  \n",
       "1      47.793940929,,,,  \n",
       "2      47.793940929,,,,  \n",
       "3      47.793940929,,,,  \n",
       "4      47.793940929,,,,  \n",
       "\n",
       "[5 rows x 301 columns]"
      ]
     },
     "execution_count": 3,
     "metadata": {},
     "output_type": "execute_result"
    }
   ],
   "source": [
    "url = \"https://www.cdc.gov/workplacehealthpromotion/data-surveillance/docs/whpps_120717.csv\"\n",
    "delimiter = '~'\n",
    "\n",
    "df = pd.read_csv(url, sep = delimiter)\n",
    "df.head()"
   ]
  },
  {
   "cell_type": "markdown",
   "id": "21a4b356-d130-40fe-be1f-f08857930201",
   "metadata": {},
   "source": [
    "It's always a good idea to check the data types of the columns. Let's do this:"
   ]
  },
  {
   "cell_type": "code",
   "execution_count": 4,
   "id": "194e79e0-3d7d-466b-8891-1524bb096a19",
   "metadata": {},
   "outputs": [
    {
     "data": {
      "text/plain": [
       "OC1                      object\n",
       "OC3                     float64\n",
       "HI1                     float64\n",
       "HI2                     float64\n",
       "HI3                     float64\n",
       "                         ...   \n",
       "CDC_Region              float64\n",
       "Industry                float64\n",
       "Size                    float64\n",
       "Varstrata               float64\n",
       "Finalwt_worksite,,,,     object\n",
       "Length: 301, dtype: object"
      ]
     },
     "execution_count": 4,
     "metadata": {},
     "output_type": "execute_result"
    }
   ],
   "source": [
    "df.dtypes"
   ]
  },
  {
   "cell_type": "markdown",
   "id": "2cb4454e-5716-4414-8ec0-d05ef8180bf8",
   "metadata": {},
   "source": [
    "Hmm. `OC1` seems like an integer, but it's considered an object. Something strange is going on.  \n",
    "It turns out there is a bad row of data! It's the row with index 1662. Let's look at the data:"
   ]
  },
  {
   "cell_type": "code",
   "execution_count": 5,
   "id": "a9e93192-fbc1-4879-9a8e-ab8711d998fc",
   "metadata": {},
   "outputs": [
    {
     "data": {
      "text/plain": [
       "OC1                     1~4~2~1~2~1~2~96~96~96~1~1~1~1~1~1~5~3~1~5~96~...\n",
       "OC3                                                                   NaN\n",
       "HI1                                                                   NaN\n",
       "HI2                                                                   NaN\n",
       "HI3                                                                   NaN\n",
       "                                              ...                        \n",
       "CDC_Region                                                            NaN\n",
       "Industry                                                              NaN\n",
       "Size                                                                  NaN\n",
       "Varstrata                                                             NaN\n",
       "Finalwt_worksite,,,,                                                  NaN\n",
       "Name: 1662, Length: 301, dtype: object"
      ]
     },
     "execution_count": 5,
     "metadata": {},
     "output_type": "execute_result"
    }
   ],
   "source": [
    "df.iloc[1662,:]"
   ]
  },
  {
   "cell_type": "markdown",
   "id": "531e501f-d1e8-4df9-9222-b3b9296f5319",
   "metadata": {},
   "source": [
    "Let's remove this row"
   ]
  },
  {
   "cell_type": "code",
   "execution_count": 6,
   "id": "dd158cdb-bfe3-4083-9e0e-85b6ab3e324a",
   "metadata": {},
   "outputs": [],
   "source": [
    "df.drop(1662, inplace=True)"
   ]
  },
  {
   "cell_type": "markdown",
   "id": "9132bc93-fbcf-49f3-91e0-a9959bf43e77",
   "metadata": {},
   "source": [
    "2) **(2 PTS)** The data contains 301 columns and you don't need most of them. Create a new dataframe called `work` containing only the columns listed below. Show the first five rows in `work`.\n",
    "\n",
    "* `Industry`: 7 Industry Categories with NAICS codes\n",
    "\n",
    "* `Size`: 8 Employee Size Categories\n",
    "\n",
    "* `OC3` Is your organization for profit, non-profit, government?\n",
    "\n",
    "* `HI1` In general, do you offer full, partial or no payment of premiums for personal health insurance for full-time employees?\n",
    "\n",
    "* `HI2` Over the past 12 months, were full-time employees asked to pay a larger proportion, smaller proportion or the same proportion of personal health insurance premiums?\n",
    "\n",
    "* `HI3`: Does your organization offer personal health insurance for your part-time employees?\n",
    "\n",
    "* `CP1`: Are there health education programs, which focus on skill development and lifestyle behavior change along with information dissemination and awareness building?\n",
    "\n",
    "* `WL6`: Allow employees to work from home?\n",
    "\n",
    "* Every column that begins `WD`, expressing the percentage of employees that have certain characteristics at the firm.  \n",
    "  **Hint: see if you can find a function that helps with this.**"
   ]
  },
  {
   "cell_type": "code",
   "execution_count": 7,
   "id": "c33c15e0-280b-44c3-a81d-be3a3200849f",
   "metadata": {},
   "outputs": [
    {
     "data": {
      "text/html": [
       "<div>\n",
       "<style scoped>\n",
       "    .dataframe tbody tr th:only-of-type {\n",
       "        vertical-align: middle;\n",
       "    }\n",
       "\n",
       "    .dataframe tbody tr th {\n",
       "        vertical-align: top;\n",
       "    }\n",
       "\n",
       "    .dataframe thead th {\n",
       "        text-align: right;\n",
       "    }\n",
       "</style>\n",
       "<table border=\"1\" class=\"dataframe\">\n",
       "  <thead>\n",
       "    <tr style=\"text-align: right;\">\n",
       "      <th></th>\n",
       "      <th>Industry</th>\n",
       "      <th>Size</th>\n",
       "      <th>OC3</th>\n",
       "      <th>HI1</th>\n",
       "      <th>HI2</th>\n",
       "      <th>HI3</th>\n",
       "      <th>CP1</th>\n",
       "      <th>WL6</th>\n",
       "      <th>WD1_1</th>\n",
       "      <th>WD1_2</th>\n",
       "      <th>WD2</th>\n",
       "      <th>WD3</th>\n",
       "      <th>WD4</th>\n",
       "      <th>WD5</th>\n",
       "      <th>WD6</th>\n",
       "      <th>WD7</th>\n",
       "    </tr>\n",
       "  </thead>\n",
       "  <tbody>\n",
       "    <tr>\n",
       "      <th>0</th>\n",
       "      <td>7.0</td>\n",
       "      <td>7.0</td>\n",
       "      <td>3.0</td>\n",
       "      <td>2.0</td>\n",
       "      <td>1.0</td>\n",
       "      <td>2.0</td>\n",
       "      <td>1.0</td>\n",
       "      <td>1.0</td>\n",
       "      <td>25.0</td>\n",
       "      <td>20.0</td>\n",
       "      <td>85.0</td>\n",
       "      <td>60.0</td>\n",
       "      <td>40.0</td>\n",
       "      <td>15.0</td>\n",
       "      <td>0.0</td>\n",
       "      <td>22.0</td>\n",
       "    </tr>\n",
       "    <tr>\n",
       "      <th>1</th>\n",
       "      <td>7.0</td>\n",
       "      <td>6.0</td>\n",
       "      <td>3.0</td>\n",
       "      <td>2.0</td>\n",
       "      <td>3.0</td>\n",
       "      <td>1.0</td>\n",
       "      <td>1.0</td>\n",
       "      <td>1.0</td>\n",
       "      <td>997.0</td>\n",
       "      <td>997.0</td>\n",
       "      <td>90.0</td>\n",
       "      <td>90.0</td>\n",
       "      <td>997.0</td>\n",
       "      <td>997.0</td>\n",
       "      <td>0.0</td>\n",
       "      <td>997.0</td>\n",
       "    </tr>\n",
       "    <tr>\n",
       "      <th>2</th>\n",
       "      <td>7.0</td>\n",
       "      <td>8.0</td>\n",
       "      <td>3.0</td>\n",
       "      <td>1.0</td>\n",
       "      <td>3.0</td>\n",
       "      <td>1.0</td>\n",
       "      <td>1.0</td>\n",
       "      <td>1.0</td>\n",
       "      <td>35.0</td>\n",
       "      <td>4.0</td>\n",
       "      <td>997.0</td>\n",
       "      <td>997.0</td>\n",
       "      <td>40.0</td>\n",
       "      <td>15.0</td>\n",
       "      <td>997.0</td>\n",
       "      <td>997.0</td>\n",
       "    </tr>\n",
       "    <tr>\n",
       "      <th>3</th>\n",
       "      <td>7.0</td>\n",
       "      <td>4.0</td>\n",
       "      <td>2.0</td>\n",
       "      <td>1.0</td>\n",
       "      <td>2.0</td>\n",
       "      <td>1.0</td>\n",
       "      <td>2.0</td>\n",
       "      <td>2.0</td>\n",
       "      <td>50.0</td>\n",
       "      <td>15.0</td>\n",
       "      <td>50.0</td>\n",
       "      <td>85.0</td>\n",
       "      <td>75.0</td>\n",
       "      <td>0.0</td>\n",
       "      <td>0.0</td>\n",
       "      <td>997.0</td>\n",
       "    </tr>\n",
       "    <tr>\n",
       "      <th>4</th>\n",
       "      <td>7.0</td>\n",
       "      <td>4.0</td>\n",
       "      <td>3.0</td>\n",
       "      <td>1.0</td>\n",
       "      <td>3.0</td>\n",
       "      <td>1.0</td>\n",
       "      <td>1.0</td>\n",
       "      <td>1.0</td>\n",
       "      <td>50.0</td>\n",
       "      <td>40.0</td>\n",
       "      <td>60.0</td>\n",
       "      <td>60.0</td>\n",
       "      <td>40.0</td>\n",
       "      <td>30.0</td>\n",
       "      <td>0.0</td>\n",
       "      <td>28.0</td>\n",
       "    </tr>\n",
       "  </tbody>\n",
       "</table>\n",
       "</div>"
      ],
      "text/plain": [
       "   Industry  Size  OC3  HI1  HI2  HI3  CP1  WL6  WD1_1  WD1_2    WD2    WD3  \\\n",
       "0       7.0   7.0  3.0  2.0  1.0  2.0  1.0  1.0   25.0   20.0   85.0   60.0   \n",
       "1       7.0   6.0  3.0  2.0  3.0  1.0  1.0  1.0  997.0  997.0   90.0   90.0   \n",
       "2       7.0   8.0  3.0  1.0  3.0  1.0  1.0  1.0   35.0    4.0  997.0  997.0   \n",
       "3       7.0   4.0  2.0  1.0  2.0  1.0  2.0  2.0   50.0   15.0   50.0   85.0   \n",
       "4       7.0   4.0  3.0  1.0  3.0  1.0  1.0  1.0   50.0   40.0   60.0   60.0   \n",
       "\n",
       "     WD4    WD5    WD6    WD7  \n",
       "0   40.0   15.0    0.0   22.0  \n",
       "1  997.0  997.0    0.0  997.0  \n",
       "2   40.0   15.0  997.0  997.0  \n",
       "3   75.0    0.0    0.0  997.0  \n",
       "4   40.0   30.0    0.0   28.0  "
      ]
     },
     "execution_count": 7,
     "metadata": {},
     "output_type": "execute_result"
    }
   ],
   "source": [
    "mycols = ['Industry','Size','OC3','HI1','HI2','HI3','CP1','WL6'] + [col for col in df.columns if col.startswith('WD')]\n",
    "work = df[mycols]\n",
    "work.head()"
   ]
  },
  {
   "cell_type": "markdown",
   "id": "02094573-991c-4190-812f-a7f812ffff8b",
   "metadata": {},
   "source": [
    "3) **(1 PT)** Next, let's understand if the variables are on different scales. Compute their minimum, maximum, standard deviation and mean.  \n",
    "It is fine to print additional statistics as well."
   ]
  },
  {
   "cell_type": "code",
   "execution_count": 8,
   "id": "8c8b4b98-4021-4bf1-ae27-5c5383d31e76",
   "metadata": {},
   "outputs": [
    {
     "data": {
      "text/html": [
       "<div>\n",
       "<style scoped>\n",
       "    .dataframe tbody tr th:only-of-type {\n",
       "        vertical-align: middle;\n",
       "    }\n",
       "\n",
       "    .dataframe tbody tr th {\n",
       "        vertical-align: top;\n",
       "    }\n",
       "\n",
       "    .dataframe thead th {\n",
       "        text-align: right;\n",
       "    }\n",
       "</style>\n",
       "<table border=\"1\" class=\"dataframe\">\n",
       "  <thead>\n",
       "    <tr style=\"text-align: right;\">\n",
       "      <th></th>\n",
       "      <th>Industry</th>\n",
       "      <th>Size</th>\n",
       "      <th>OC3</th>\n",
       "      <th>HI1</th>\n",
       "      <th>HI2</th>\n",
       "      <th>HI3</th>\n",
       "      <th>CP1</th>\n",
       "      <th>WL6</th>\n",
       "      <th>WD1_1</th>\n",
       "      <th>WD1_2</th>\n",
       "      <th>WD2</th>\n",
       "      <th>WD3</th>\n",
       "      <th>WD4</th>\n",
       "      <th>WD5</th>\n",
       "      <th>WD6</th>\n",
       "      <th>WD7</th>\n",
       "    </tr>\n",
       "  </thead>\n",
       "  <tbody>\n",
       "    <tr>\n",
       "      <th>count</th>\n",
       "      <td>2842.000000</td>\n",
       "      <td>2842.000000</td>\n",
       "      <td>2842.000000</td>\n",
       "      <td>2842.000000</td>\n",
       "      <td>2842.000000</td>\n",
       "      <td>2842.000000</td>\n",
       "      <td>2842.000000</td>\n",
       "      <td>2842.000000</td>\n",
       "      <td>2842.000000</td>\n",
       "      <td>2842.000000</td>\n",
       "      <td>2842.000000</td>\n",
       "      <td>2842.000000</td>\n",
       "      <td>2842.000000</td>\n",
       "      <td>2842.000000</td>\n",
       "      <td>2842.000000</td>\n",
       "      <td>2842.000000</td>\n",
       "    </tr>\n",
       "    <tr>\n",
       "      <th>mean</th>\n",
       "      <td>3.804715</td>\n",
       "      <td>2.517241</td>\n",
       "      <td>10.147783</td>\n",
       "      <td>4.364532</td>\n",
       "      <td>21.969740</td>\n",
       "      <td>7.087966</td>\n",
       "      <td>7.438424</td>\n",
       "      <td>11.604152</td>\n",
       "      <td>357.593596</td>\n",
       "      <td>338.501407</td>\n",
       "      <td>315.016538</td>\n",
       "      <td>369.975721</td>\n",
       "      <td>318.500000</td>\n",
       "      <td>285.117171</td>\n",
       "      <td>249.799789</td>\n",
       "      <td>459.985222</td>\n",
       "    </tr>\n",
       "    <tr>\n",
       "      <th>std</th>\n",
       "      <td>1.959338</td>\n",
       "      <td>1.924083</td>\n",
       "      <td>25.759221</td>\n",
       "      <td>15.712978</td>\n",
       "      <td>38.190732</td>\n",
       "      <td>21.995120</td>\n",
       "      <td>22.888307</td>\n",
       "      <td>29.471645</td>\n",
       "      <td>460.426003</td>\n",
       "      <td>463.950873</td>\n",
       "      <td>426.375000</td>\n",
       "      <td>440.389811</td>\n",
       "      <td>446.790166</td>\n",
       "      <td>440.495305</td>\n",
       "      <td>424.601940</td>\n",
       "      <td>488.613253</td>\n",
       "    </tr>\n",
       "    <tr>\n",
       "      <th>min</th>\n",
       "      <td>1.000000</td>\n",
       "      <td>1.000000</td>\n",
       "      <td>1.000000</td>\n",
       "      <td>1.000000</td>\n",
       "      <td>1.000000</td>\n",
       "      <td>1.000000</td>\n",
       "      <td>1.000000</td>\n",
       "      <td>1.000000</td>\n",
       "      <td>0.000000</td>\n",
       "      <td>0.000000</td>\n",
       "      <td>0.000000</td>\n",
       "      <td>0.000000</td>\n",
       "      <td>0.000000</td>\n",
       "      <td>0.000000</td>\n",
       "      <td>0.000000</td>\n",
       "      <td>0.000000</td>\n",
       "    </tr>\n",
       "    <tr>\n",
       "      <th>25%</th>\n",
       "      <td>2.000000</td>\n",
       "      <td>1.000000</td>\n",
       "      <td>2.000000</td>\n",
       "      <td>1.000000</td>\n",
       "      <td>2.000000</td>\n",
       "      <td>1.000000</td>\n",
       "      <td>1.000000</td>\n",
       "      <td>1.000000</td>\n",
       "      <td>15.000000</td>\n",
       "      <td>5.000000</td>\n",
       "      <td>33.000000</td>\n",
       "      <td>60.000000</td>\n",
       "      <td>0.000000</td>\n",
       "      <td>0.000000</td>\n",
       "      <td>0.000000</td>\n",
       "      <td>9.250000</td>\n",
       "    </tr>\n",
       "    <tr>\n",
       "      <th>50%</th>\n",
       "      <td>4.000000</td>\n",
       "      <td>2.000000</td>\n",
       "      <td>2.000000</td>\n",
       "      <td>2.000000</td>\n",
       "      <td>3.000000</td>\n",
       "      <td>2.000000</td>\n",
       "      <td>2.000000</td>\n",
       "      <td>2.000000</td>\n",
       "      <td>40.000000</td>\n",
       "      <td>16.500000</td>\n",
       "      <td>75.000000</td>\n",
       "      <td>90.000000</td>\n",
       "      <td>40.000000</td>\n",
       "      <td>5.000000</td>\n",
       "      <td>0.000000</td>\n",
       "      <td>50.000000</td>\n",
       "    </tr>\n",
       "    <tr>\n",
       "      <th>75%</th>\n",
       "      <td>5.000000</td>\n",
       "      <td>3.000000</td>\n",
       "      <td>3.000000</td>\n",
       "      <td>2.000000</td>\n",
       "      <td>3.000000</td>\n",
       "      <td>2.000000</td>\n",
       "      <td>2.000000</td>\n",
       "      <td>2.000000</td>\n",
       "      <td>997.000000</td>\n",
       "      <td>997.000000</td>\n",
       "      <td>997.000000</td>\n",
       "      <td>997.000000</td>\n",
       "      <td>997.000000</td>\n",
       "      <td>997.000000</td>\n",
       "      <td>99.000000</td>\n",
       "      <td>997.000000</td>\n",
       "    </tr>\n",
       "    <tr>\n",
       "      <th>max</th>\n",
       "      <td>7.000000</td>\n",
       "      <td>8.000000</td>\n",
       "      <td>99.000000</td>\n",
       "      <td>99.000000</td>\n",
       "      <td>99.000000</td>\n",
       "      <td>99.000000</td>\n",
       "      <td>98.000000</td>\n",
       "      <td>99.000000</td>\n",
       "      <td>999.000000</td>\n",
       "      <td>999.000000</td>\n",
       "      <td>999.000000</td>\n",
       "      <td>999.000000</td>\n",
       "      <td>999.000000</td>\n",
       "      <td>999.000000</td>\n",
       "      <td>999.000000</td>\n",
       "      <td>999.000000</td>\n",
       "    </tr>\n",
       "  </tbody>\n",
       "</table>\n",
       "</div>"
      ],
      "text/plain": [
       "          Industry         Size          OC3          HI1          HI2  \\\n",
       "count  2842.000000  2842.000000  2842.000000  2842.000000  2842.000000   \n",
       "mean      3.804715     2.517241    10.147783     4.364532    21.969740   \n",
       "std       1.959338     1.924083    25.759221    15.712978    38.190732   \n",
       "min       1.000000     1.000000     1.000000     1.000000     1.000000   \n",
       "25%       2.000000     1.000000     2.000000     1.000000     2.000000   \n",
       "50%       4.000000     2.000000     2.000000     2.000000     3.000000   \n",
       "75%       5.000000     3.000000     3.000000     2.000000     3.000000   \n",
       "max       7.000000     8.000000    99.000000    99.000000    99.000000   \n",
       "\n",
       "               HI3          CP1          WL6        WD1_1        WD1_2  \\\n",
       "count  2842.000000  2842.000000  2842.000000  2842.000000  2842.000000   \n",
       "mean      7.087966     7.438424    11.604152   357.593596   338.501407   \n",
       "std      21.995120    22.888307    29.471645   460.426003   463.950873   \n",
       "min       1.000000     1.000000     1.000000     0.000000     0.000000   \n",
       "25%       1.000000     1.000000     1.000000    15.000000     5.000000   \n",
       "50%       2.000000     2.000000     2.000000    40.000000    16.500000   \n",
       "75%       2.000000     2.000000     2.000000   997.000000   997.000000   \n",
       "max      99.000000    98.000000    99.000000   999.000000   999.000000   \n",
       "\n",
       "               WD2          WD3          WD4          WD5          WD6  \\\n",
       "count  2842.000000  2842.000000  2842.000000  2842.000000  2842.000000   \n",
       "mean    315.016538   369.975721   318.500000   285.117171   249.799789   \n",
       "std     426.375000   440.389811   446.790166   440.495305   424.601940   \n",
       "min       0.000000     0.000000     0.000000     0.000000     0.000000   \n",
       "25%      33.000000    60.000000     0.000000     0.000000     0.000000   \n",
       "50%      75.000000    90.000000    40.000000     5.000000     0.000000   \n",
       "75%     997.000000   997.000000   997.000000   997.000000    99.000000   \n",
       "max     999.000000   999.000000   999.000000   999.000000   999.000000   \n",
       "\n",
       "               WD7  \n",
       "count  2842.000000  \n",
       "mean    459.985222  \n",
       "std     488.613253  \n",
       "min       0.000000  \n",
       "25%       9.250000  \n",
       "50%      50.000000  \n",
       "75%     997.000000  \n",
       "max     999.000000  "
      ]
     },
     "execution_count": 8,
     "metadata": {},
     "output_type": "execute_result"
    }
   ],
   "source": [
    "work.describe()"
   ]
  },
  {
   "cell_type": "markdown",
   "id": "95dc93c8-630f-4890-9cca-f4c906b5c298",
   "metadata": {},
   "source": [
    "4) **(1 PT)** Briefly explain a benefit of scaling data."
   ]
  },
  {
   "cell_type": "markdown",
   "id": "31635c61-7fcc-4c23-a7c7-2294c7ead980",
   "metadata": {},
   "source": [
    "One important reason for scaling the data is to put variables of different orders of magnitude on the same scale.  \n",
    "This is beneficial for models like linear regression."
   ]
  },
  {
   "cell_type": "markdown",
   "id": "95950130-b493-4651-a5e2-d77c9e87ae73",
   "metadata": {},
   "source": [
    "5) **(1 PT)** It appears that the ranges of some of the variables are very different. Let's standardize the data.  \n",
    "Save the scaled data in `work_scaled` and print it."
   ]
  },
  {
   "cell_type": "code",
   "execution_count": 10,
   "id": "7b936303-bc2b-42db-be2c-6120ced7dfaa",
   "metadata": {},
   "outputs": [
    {
     "data": {
      "text/plain": [
       "array([[ 1.63108507,  2.33022537, -0.27753328, ..., -0.61332028,\n",
       "        -0.58841876, -0.89654199],\n",
       "       [ 1.63108507,  1.81040587, -0.27753328, ...,  1.61638069,\n",
       "        -0.58841876,  1.09925238],\n",
       "       [ 1.63108507,  2.85004488, -0.27753328, ..., -0.61332028,\n",
       "         1.76007604,  1.09925238],\n",
       "       ...,\n",
       "       [ 1.12061884,  2.85004488, -0.2387054 , ...,  1.61638069,\n",
       "         1.76007604,  1.09925238],\n",
       "       [ 1.12061884,  2.85004488, -0.2387054 , ...,  1.62092183,\n",
       "         1.76478717,  1.10334632],\n",
       "       [ 1.12061884,  2.85004488, -0.2387054 , ..., -0.51114458,\n",
       "        -0.39997384,  1.09925238]])"
      ]
     },
     "execution_count": 10,
     "metadata": {},
     "output_type": "execute_result"
    }
   ],
   "source": [
    "scaler = StandardScaler()\n",
    "work_scaled = scaler.fit_transform(work)\n",
    "work_scaled"
   ]
  },
  {
   "cell_type": "markdown",
   "id": "8e58f45e-d42c-4801-9c1b-ad24cbbd2bcf",
   "metadata": {},
   "source": [
    "Notice that `work` is a dataframe, but `work_scaled` is an array. This might be surprising!  \n",
    "Recall that dataframes store data as numpy arrays as well.  \n",
    "**Changing data types can be a source of confusion and bugs. It's good practice to check the data type and dimension of objects.**"
   ]
  },
  {
   "cell_type": "code",
   "execution_count": 11,
   "id": "9563b642-2cd3-48bb-be16-b01a70385958",
   "metadata": {},
   "outputs": [
    {
     "data": {
      "text/plain": [
       "numpy.ndarray"
      ]
     },
     "execution_count": 11,
     "metadata": {},
     "output_type": "execute_result"
    }
   ],
   "source": [
    "type(work_scaled)"
   ]
  },
  {
   "cell_type": "markdown",
   "id": "df9950d1-0668-4f38-928d-756cdcf8f78d",
   "metadata": {},
   "source": [
    "This confirms `work_scaled` is a numpy array"
   ]
  },
  {
   "cell_type": "markdown",
   "id": "49b12773-b776-49b1-8a59-d34398ad04be",
   "metadata": {},
   "source": [
    "6) **(1 PT)** Let's make sure the shape of `work_scaled` matches the shape of `work`. Print the dimensions (rows, columns) of each object."
   ]
  },
  {
   "cell_type": "code",
   "execution_count": 12,
   "id": "94b77e9d-00b5-411c-a7c8-f3931eb77d87",
   "metadata": {},
   "outputs": [
    {
     "name": "stdout",
     "output_type": "stream",
     "text": [
      "(2842, 16)\n",
      "(2842, 16)\n"
     ]
    }
   ],
   "source": [
    "print(work.shape)\n",
    "print(work_scaled.shape)"
   ]
  },
  {
   "cell_type": "markdown",
   "id": "e3c8ca3d-0654-448b-8990-05455bd72aa3",
   "metadata": {},
   "source": [
    "7. **(1 PT)** Let's make sure the scaled variables have standard deviation close to one. Print their standard deviations.  \n",
    "Hint: since `work_scaled` is a numpy array, you'll want to import a package to do the computation.  \n",
    "Also, there are 16 variables, so you should see 16 standard deviations in an array."
   ]
  },
  {
   "cell_type": "code",
   "execution_count": 13,
   "id": "8b538996-fc1e-429c-b0c0-114bc37fc54d",
   "metadata": {},
   "outputs": [
    {
     "data": {
      "text/plain": [
       "array([1., 1., 1., 1., 1., 1., 1., 1., 1., 1., 1., 1., 1., 1., 1., 1.])"
      ]
     },
     "execution_count": 13,
     "metadata": {},
     "output_type": "execute_result"
    }
   ],
   "source": [
    "np.std(work_scaled, axis=0)"
   ]
  },
  {
   "cell_type": "markdown",
   "id": "8fd7faa1-98bc-4954-8fb4-368f8c1114fc",
   "metadata": {},
   "source": [
    "8. **(1 PT)** Next, you would like to binarize the variable `CP1` in dataframe *work*.  \n",
    "Specifically, create a new variable in the *work* dataframe named `CP1_bin`, where:  \n",
    "\n",
    "```\n",
    "CP1_bin = 1 if CP1 >= 2\n",
    "CP1_bin = 0 if CP1 < 2\n",
    "```\n",
    "\n",
    "Print the first five rows of the dataframe to show the new column."
   ]
  },
  {
   "cell_type": "code",
   "execution_count": 14,
   "id": "70f11cc3-d6d1-4895-8c16-48e6f564a264",
   "metadata": {},
   "outputs": [
    {
     "data": {
      "text/html": [
       "<div>\n",
       "<style scoped>\n",
       "    .dataframe tbody tr th:only-of-type {\n",
       "        vertical-align: middle;\n",
       "    }\n",
       "\n",
       "    .dataframe tbody tr th {\n",
       "        vertical-align: top;\n",
       "    }\n",
       "\n",
       "    .dataframe thead th {\n",
       "        text-align: right;\n",
       "    }\n",
       "</style>\n",
       "<table border=\"1\" class=\"dataframe\">\n",
       "  <thead>\n",
       "    <tr style=\"text-align: right;\">\n",
       "      <th></th>\n",
       "      <th>Industry</th>\n",
       "      <th>Size</th>\n",
       "      <th>OC3</th>\n",
       "      <th>HI1</th>\n",
       "      <th>HI2</th>\n",
       "      <th>HI3</th>\n",
       "      <th>CP1</th>\n",
       "      <th>WL6</th>\n",
       "      <th>WD1_1</th>\n",
       "      <th>WD1_2</th>\n",
       "      <th>WD2</th>\n",
       "      <th>WD3</th>\n",
       "      <th>WD4</th>\n",
       "      <th>WD5</th>\n",
       "      <th>WD6</th>\n",
       "      <th>WD7</th>\n",
       "      <th>CP1_bin</th>\n",
       "    </tr>\n",
       "  </thead>\n",
       "  <tbody>\n",
       "    <tr>\n",
       "      <th>0</th>\n",
       "      <td>7.0</td>\n",
       "      <td>7.0</td>\n",
       "      <td>3.0</td>\n",
       "      <td>2.0</td>\n",
       "      <td>1.0</td>\n",
       "      <td>2.0</td>\n",
       "      <td>1.0</td>\n",
       "      <td>1.0</td>\n",
       "      <td>25.0</td>\n",
       "      <td>20.0</td>\n",
       "      <td>85.0</td>\n",
       "      <td>60.0</td>\n",
       "      <td>40.0</td>\n",
       "      <td>15.0</td>\n",
       "      <td>0.0</td>\n",
       "      <td>22.0</td>\n",
       "      <td>0</td>\n",
       "    </tr>\n",
       "    <tr>\n",
       "      <th>1</th>\n",
       "      <td>7.0</td>\n",
       "      <td>6.0</td>\n",
       "      <td>3.0</td>\n",
       "      <td>2.0</td>\n",
       "      <td>3.0</td>\n",
       "      <td>1.0</td>\n",
       "      <td>1.0</td>\n",
       "      <td>1.0</td>\n",
       "      <td>997.0</td>\n",
       "      <td>997.0</td>\n",
       "      <td>90.0</td>\n",
       "      <td>90.0</td>\n",
       "      <td>997.0</td>\n",
       "      <td>997.0</td>\n",
       "      <td>0.0</td>\n",
       "      <td>997.0</td>\n",
       "      <td>0</td>\n",
       "    </tr>\n",
       "    <tr>\n",
       "      <th>2</th>\n",
       "      <td>7.0</td>\n",
       "      <td>8.0</td>\n",
       "      <td>3.0</td>\n",
       "      <td>1.0</td>\n",
       "      <td>3.0</td>\n",
       "      <td>1.0</td>\n",
       "      <td>1.0</td>\n",
       "      <td>1.0</td>\n",
       "      <td>35.0</td>\n",
       "      <td>4.0</td>\n",
       "      <td>997.0</td>\n",
       "      <td>997.0</td>\n",
       "      <td>40.0</td>\n",
       "      <td>15.0</td>\n",
       "      <td>997.0</td>\n",
       "      <td>997.0</td>\n",
       "      <td>0</td>\n",
       "    </tr>\n",
       "    <tr>\n",
       "      <th>3</th>\n",
       "      <td>7.0</td>\n",
       "      <td>4.0</td>\n",
       "      <td>2.0</td>\n",
       "      <td>1.0</td>\n",
       "      <td>2.0</td>\n",
       "      <td>1.0</td>\n",
       "      <td>2.0</td>\n",
       "      <td>2.0</td>\n",
       "      <td>50.0</td>\n",
       "      <td>15.0</td>\n",
       "      <td>50.0</td>\n",
       "      <td>85.0</td>\n",
       "      <td>75.0</td>\n",
       "      <td>0.0</td>\n",
       "      <td>0.0</td>\n",
       "      <td>997.0</td>\n",
       "      <td>1</td>\n",
       "    </tr>\n",
       "    <tr>\n",
       "      <th>4</th>\n",
       "      <td>7.0</td>\n",
       "      <td>4.0</td>\n",
       "      <td>3.0</td>\n",
       "      <td>1.0</td>\n",
       "      <td>3.0</td>\n",
       "      <td>1.0</td>\n",
       "      <td>1.0</td>\n",
       "      <td>1.0</td>\n",
       "      <td>50.0</td>\n",
       "      <td>40.0</td>\n",
       "      <td>60.0</td>\n",
       "      <td>60.0</td>\n",
       "      <td>40.0</td>\n",
       "      <td>30.0</td>\n",
       "      <td>0.0</td>\n",
       "      <td>28.0</td>\n",
       "      <td>0</td>\n",
       "    </tr>\n",
       "  </tbody>\n",
       "</table>\n",
       "</div>"
      ],
      "text/plain": [
       "   Industry  Size  OC3  HI1  HI2  HI3  CP1  WL6  WD1_1  WD1_2    WD2    WD3  \\\n",
       "0       7.0   7.0  3.0  2.0  1.0  2.0  1.0  1.0   25.0   20.0   85.0   60.0   \n",
       "1       7.0   6.0  3.0  2.0  3.0  1.0  1.0  1.0  997.0  997.0   90.0   90.0   \n",
       "2       7.0   8.0  3.0  1.0  3.0  1.0  1.0  1.0   35.0    4.0  997.0  997.0   \n",
       "3       7.0   4.0  2.0  1.0  2.0  1.0  2.0  2.0   50.0   15.0   50.0   85.0   \n",
       "4       7.0   4.0  3.0  1.0  3.0  1.0  1.0  1.0   50.0   40.0   60.0   60.0   \n",
       "\n",
       "     WD4    WD5    WD6    WD7  CP1_bin  \n",
       "0   40.0   15.0    0.0   22.0        0  \n",
       "1  997.0  997.0    0.0  997.0        0  \n",
       "2   40.0   15.0  997.0  997.0        0  \n",
       "3   75.0    0.0    0.0  997.0        1  \n",
       "4   40.0   30.0    0.0   28.0        0  "
      ]
     },
     "execution_count": 14,
     "metadata": {},
     "output_type": "execute_result"
    }
   ],
   "source": [
    "work['CP1_bin'] = work.CP1.apply(lambda x: 1 if x >= 2 else 0)\n",
    "work.head(5)"
   ]
  },
  {
   "cell_type": "markdown",
   "id": "eec84db2-4e8c-46a8-9e99-ce5a862c2007",
   "metadata": {},
   "source": [
    "Next, `CP1_bin` is converted to an array (specifically, a column vector):"
   ]
  },
  {
   "cell_type": "code",
   "execution_count": 15,
   "id": "e703c46a-f44f-4526-ac36-218690d0a914",
   "metadata": {},
   "outputs": [
    {
     "data": {
      "text/plain": [
       "array([[0],\n",
       "       [0],\n",
       "       [0],\n",
       "       ...,\n",
       "       [0],\n",
       "       [1],\n",
       "       [0]], dtype=int64)"
      ]
     },
     "execution_count": 15,
     "metadata": {},
     "output_type": "execute_result"
    }
   ],
   "source": [
    "cpi_bin = work.CP1_bin.values.reshape(-1,1)\n",
    "cpi_bin"
   ]
  },
  {
   "cell_type": "markdown",
   "id": "a43a3d1b-bef7-4166-8c71-f0915ca80caf",
   "metadata": {},
   "source": [
    "9. **(1 PT)** As a final step, you'd like to merge the two numpy arrays `work_scaled` and `cpi_bin` into a new array called `final`.  \n",
    "This will make it easier to do machine learning on the data later. Merge these arrays together and print out the result.  \n",
    "Hint: consider the function `hstack()`"
   ]
  },
  {
   "cell_type": "code",
   "execution_count": 16,
   "id": "d5018ef8-b176-4c49-a0a9-9b5988a32d17",
   "metadata": {},
   "outputs": [
    {
     "name": "stdout",
     "output_type": "stream",
     "text": [
      "[[ 1.63108507  2.33022537 -0.27753328 ... -0.58841876 -0.89654199\n",
      "   0.        ]\n",
      " [ 1.63108507  1.81040587 -0.27753328 ... -0.58841876  1.09925238\n",
      "   0.        ]\n",
      " [ 1.63108507  2.85004488 -0.27753328 ...  1.76007604  1.09925238\n",
      "   0.        ]\n",
      " ...\n",
      " [ 1.12061884  2.85004488 -0.2387054  ...  1.76007604  1.09925238\n",
      "   0.        ]\n",
      " [ 1.12061884  2.85004488 -0.2387054  ...  1.76478717  1.10334632\n",
      "   1.        ]\n",
      " [ 1.12061884  2.85004488 -0.2387054  ... -0.39997384  1.09925238\n",
      "   0.        ]]\n"
     ]
    }
   ],
   "source": [
    "final = np.hstack((work_scaled, cpi_bin))\n",
    "print(final)"
   ]
  },
  {
   "cell_type": "markdown",
   "id": "378108c5-097f-45ed-b365-48d81be7698a",
   "metadata": {},
   "source": [
    "---\n",
    "\n",
    "Print the shapes of: `work_scaled`, `cpi_bin`, `final`\n",
    "\n",
    "`work_scaled` should have 16 columns  \n",
    "`cpi_bin` should have 1 column  \n",
    "`final` should have 16 + 1 columns."
   ]
  },
  {
   "cell_type": "code",
   "execution_count": 18,
   "id": "723dab26-a5e7-4e19-8043-9977e838ba49",
   "metadata": {},
   "outputs": [
    {
     "name": "stdout",
     "output_type": "stream",
     "text": [
      "(2842, 16)\n",
      "(2842, 1)\n",
      "(2842, 17)\n"
     ]
    }
   ],
   "source": [
    "print(work_scaled.shape)\n",
    "print(cpi_bin.shape)\n",
    "print(final.shape)"
   ]
  },
  {
   "cell_type": "markdown",
   "id": "c517d35f-bbb6-49ef-998e-6619660b65c6",
   "metadata": {},
   "source": [
    "If you completed this notebook, you have made substantial progress in the course. Congrats!  \n",
    "You demonstrated that you can load, prepare, scale, binarize and merge data.  \n",
    "This gets you very close to training a model on data."
   ]
  },
  {
   "cell_type": "markdown",
   "id": "34c848cb-079c-4ebe-a4ba-ec9e495fd643",
   "metadata": {},
   "source": [
    "---"
   ]
  }
 ],
 "metadata": {
  "kernelspec": {
   "display_name": "Python 3 (ipykernel)",
   "language": "python",
   "name": "python3"
  },
  "language_info": {
   "codemirror_mode": {
    "name": "ipython",
    "version": 3
   },
   "file_extension": ".py",
   "mimetype": "text/x-python",
   "name": "python",
   "nbconvert_exporter": "python",
   "pygments_lexer": "ipython3",
   "version": "3.9.12"
  }
 },
 "nbformat": 4,
 "nbformat_minor": 5
}
