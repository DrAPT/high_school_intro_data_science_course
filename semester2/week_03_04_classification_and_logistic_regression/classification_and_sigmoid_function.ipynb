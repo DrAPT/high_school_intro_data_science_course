{
 "cells": [
  {
   "cell_type": "markdown",
   "metadata": {
    "tags": []
   },
   "source": [
    "## Classification and the Sigmoid Function\n",
    "\n",
    "\n",
    "### Introduction to Data Science\n",
    "#### Last Updated: November 28, 2022\n",
    "---  \n",
    "\n",
    "### OBJECTIVES\n",
    "- Understand why a sigmoid function can be used to model a binary classification problem\n",
    "- Use functions that apply vectorization\n",
    "- Apply thresholding to probabilities to return predicted labels\n",
    "- Understand how the sigmoid function changes when the parameters change\n",
    "\n",
    "### CONCEPTS\n",
    "- binary classification\n",
    "- sigmoid function\n",
    "- thresholding\n",
    "- vectorization\n",
    "- the sigmoid function changes shape in response to parameter changes\n",
    "\n",
    "---\n"
   ]
  },
  {
   "cell_type": "markdown",
   "metadata": {
    "tags": []
   },
   "source": [
    "## Binary Classification\n",
    "\n",
    "### A. Sigmoid Function"
   ]
  },
  {
   "cell_type": "markdown",
   "metadata": {
    "tags": []
   },
   "source": [
    "We continue with the binary classification problem: an event can take one of two values:  \n",
    "- label 1 (positive)\n",
    "- label 0 (negative)\n",
    "\n",
    "Note: positive label may not be a \"good outcome.\" It is simply the value of interest.\n",
    "\n",
    "Examples might be:\n",
    "- patient recovery\n",
    "- a shopper purchases a product\n",
    "- a stock increases in value over a trading day\n",
    "- a student loves a data science course\n",
    "\n",
    "We use a model to predict the value. A popular model is the *standard logistic function* or *sigmoid function*. \n",
    "\n",
    "The sigmoid function has domain $(-\\infty, \\infty)$ and range $(0,1)$.\n",
    "\n",
    "This works well as the range (or output) can be treated as a probability.\n",
    "\n",
    "Let's define the sigmoid and produce a graph:"
   ]
  },
  {
   "cell_type": "code",
   "execution_count": 2,
   "metadata": {},
   "outputs": [],
   "source": [
    "import seaborn as sns\n",
    "import numpy as np"
   ]
  },
  {
   "cell_type": "markdown",
   "metadata": {},
   "source": [
    "A building block of sigmoid is the exponential function with $e = 2.71828...$ as base.  \n",
    "The numpy function $exp()$ will compute the exponential of each passed value, returning an array.  \n",
    "This application of the function on an array of values is called *vectorization*.\n",
    "\n",
    "Example:"
   ]
  },
  {
   "cell_type": "code",
   "execution_count": 5,
   "metadata": {},
   "outputs": [
    {
     "data": {
      "text/plain": [
       "array([2.71828183, 7.3890561 ])"
      ]
     },
     "execution_count": 5,
     "metadata": {},
     "output_type": "execute_result"
    }
   ],
   "source": [
    "# create a list with two values\n",
    "xtest = [1, 2]\n",
    "\n",
    "# compute e raised to power 1, power 2\n",
    "np.exp(xtest)"
   ]
  },
  {
   "cell_type": "markdown",
   "metadata": {},
   "source": [
    "Next we define the sigmoid function:"
   ]
  },
  {
   "cell_type": "code",
   "execution_count": 6,
   "metadata": {},
   "outputs": [],
   "source": [
    "def sigmoid(x):\n",
    "    return 1 / ( 1 + np.exp(-x) )"
   ]
  },
  {
   "cell_type": "markdown",
   "metadata": {},
   "source": [
    "**ASIDE ON FUNCTIONS**  \n",
    "- Function definitions start with *def*\n",
    "- The function takes one or more parameters\n",
    "- The function body must be properly indented\n",
    "- Outputs are returned with *return* statement"
   ]
  },
  {
   "cell_type": "code",
   "execution_count": 13,
   "metadata": {},
   "outputs": [
    {
     "data": {
      "text/plain": [
       "<AxesSubplot:>"
      ]
     },
     "execution_count": 13,
     "metadata": {},
     "output_type": "execute_result"
    },
    {
     "data": {
      "image/png": "[encoded data removed]",
      "text/plain": [
       "<Figure size 432x288 with 1 Axes>"
      ]
     },
     "metadata": {
      "needs_background": "light"
     },
     "output_type": "display_data"
    }
   ],
   "source": [
    " # build a list of inputs from -10 to 9 incrementing by 1 (right endpoint is excluded)\n",
    "xs = np.arange(-10, 10)\n",
    "\n",
    "# call the sigmoid function on each x value\n",
    "ys=sigmoid(xs)\n",
    "\n",
    "# plot xs vs ys\n",
    "sns.lineplot(x=xs, y=ys)"
   ]
  },
  {
   "cell_type": "markdown",
   "metadata": {},
   "source": [
    "Notice from the graph:\n",
    "\n",
    "- As $x$ tends to negative infinity, the output (which is a probability) tends to zero.\n",
    "- As $x$ tends to positive infinity, the output (which is a probability) tends to one.\n",
    "- For $x$ = 0, the probability is 0.5\n",
    "\n",
    "If we use sigmoid to represent the probability of a positive label, then as x increases, the probability of a positive label increases to one."
   ]
  },
  {
   "cell_type": "markdown",
   "metadata": {},
   "source": [
    "### B. Sigmoid Input"
   ]
  },
  {
   "cell_type": "markdown",
   "metadata": {},
   "source": [
    "We now have a function that takes an input and outputs the probability of a positive label.  \n",
    "\n",
    "**But what is the input?**\n",
    "\n",
    "Recall the mathematical form for linear regression:\n",
    "\n",
    "$E(Y) = \\beta_0 + \\beta_1 X_1 + ... + \\beta_n X_n$\n",
    "\n",
    "where \n",
    "\n",
    "- $E(Y)$ is the target\n",
    "- $\\beta_0$ is an intercept parameter\n",
    "- $\\beta_1$, ..., $\\beta_n$ are slope parameters or *weights*\n",
    "- $X_1$, ..., $X_n$ are predictors\n",
    "- $n$ is the number of predictors, which is one in the simplest case\n",
    "\n",
    "We will use the right hand side of the equation as the input: \n",
    "\n",
    "$INPUT = \\beta_0 + \\beta_1 X_1 + ... + \\beta_n X_n$\n",
    "\n",
    "We feed this into the sigmoid function, and it outputs a probability.\n",
    "\n",
    "For different parameter values and different predictor values, the probability will be different."
   ]
  },
  {
   "cell_type": "markdown",
   "metadata": {},
   "source": [
    "### C. Thresholding"
   ]
  },
  {
   "cell_type": "markdown",
   "metadata": {},
   "source": [
    "Okay, so we feed input to a sigmoid function, and it outputs the probability of a positive label.\n",
    "\n",
    "The output will be a number in $(0, 1)$.\n",
    "\n",
    "**But how do we make a decision?**\n",
    "\n",
    "We do this by thresholding: \n",
    "\n",
    "- set a threshold like 0.5\n",
    "- compare the probability to the threshold\n",
    "- if probability > threshold, then predicted label = 1, otherwise predicted label = 0.\n",
    "\n",
    "In practice, performance metrics such as recall and precision are measured for the threshold.\n",
    "\n",
    "Using different thresholds will generally give different recall and precision values.\n",
    "\n",
    "The threshold with optimal metrics can be selected."
   ]
  },
  {
   "cell_type": "markdown",
   "metadata": {},
   "source": [
    "---\n",
    "\n",
    "**TRY FOR YOURSELF**\n",
    "\n"
   ]
  },
  {
   "cell_type": "markdown",
   "metadata": {},
   "source": [
    "1) Define a list of integer values from 0 to 20.  Compute the exponential of each of these values, using the `np.exp()` function. This should be done using vectorization, and not a loop."
   ]
  },
  {
   "cell_type": "code",
   "execution_count": null,
   "metadata": {},
   "outputs": [],
   "source": []
  },
  {
   "cell_type": "code",
   "execution_count": 7,
   "metadata": {
    "collapsed": true,
    "jupyter": {
     "outputs_hidden": true,
     "source_hidden": true
    },
    "tags": []
   },
   "outputs": [
    {
     "data": {
      "text/plain": [
       "array([1.00000000e+00, 2.71828183e+00, 7.38905610e+00, 2.00855369e+01,\n",
       "       5.45981500e+01, 1.48413159e+02, 4.03428793e+02, 1.09663316e+03,\n",
       "       2.98095799e+03, 8.10308393e+03, 2.20264658e+04, 5.98741417e+04,\n",
       "       1.62754791e+05, 4.42413392e+05, 1.20260428e+06, 3.26901737e+06,\n",
       "       8.88611052e+06, 2.41549528e+07, 6.56599691e+07, 1.78482301e+08,\n",
       "       4.85165195e+08])"
      ]
     },
     "execution_count": 7,
     "metadata": {},
     "output_type": "execute_result"
    }
   ],
   "source": [
    "# answer\n",
    "lst = np.arange(0, 21)\n",
    "np.exp(lst)"
   ]
  },
  {
   "cell_type": "markdown",
   "metadata": {},
   "source": [
    "2) For the resulting array from (1), compare it to 1000. Each element should be True if greater than 1000 and False otherwise.  \n",
    "Again, this should be done using vectorization."
   ]
  },
  {
   "cell_type": "code",
   "execution_count": null,
   "metadata": {},
   "outputs": [],
   "source": []
  },
  {
   "cell_type": "code",
   "execution_count": 8,
   "metadata": {
    "collapsed": true,
    "jupyter": {
     "outputs_hidden": true,
     "source_hidden": true
    },
    "tags": []
   },
   "outputs": [
    {
     "data": {
      "text/plain": [
       "array([False, False, False, False, False, False, False,  True,  True,\n",
       "        True,  True,  True,  True,  True,  True,  True,  True,  True,\n",
       "        True,  True,  True])"
      ]
     },
     "execution_count": 8,
     "metadata": {},
     "output_type": "execute_result"
    }
   ],
   "source": [
    "# answer\n",
    "np.exp(lst) > 1000"
   ]
  },
  {
   "cell_type": "markdown",
   "metadata": {},
   "source": [
    "3a) Redefine the sigmoid function from above, calling it `sig2`. Rather than taking only `x`, it will take three inputs:\n",
    "\n",
    "- x1\n",
    "- b0 (this represents $\\beta_0$)\n",
    "- b1 (this represents $\\beta_1$)\n",
    "\n",
    "The term $np.exp(-x)$ should be replaced with $np.exp(- (b0 + b1 * x1))$"
   ]
  },
  {
   "cell_type": "code",
   "execution_count": null,
   "metadata": {},
   "outputs": [],
   "source": []
  },
  {
   "cell_type": "code",
   "execution_count": 45,
   "metadata": {
    "jupyter": {
     "source_hidden": true
    },
    "tags": []
   },
   "outputs": [],
   "source": [
    "# answer\n",
    "def sig2(b0, b1, x1):\n",
    "    return 1 / ( 1 + np.exp(-(b0 + b1 * x1) ))"
   ]
  },
  {
   "cell_type": "markdown",
   "metadata": {},
   "source": [
    "3b) Use `sig2` with the parameter values below to produce a graph. \n",
    "\n",
    "b0 = 0.1  \n",
    "b1 = 0.5\n",
    "\n",
    "Let X1 range from -10 to 10, inclusive.  "
   ]
  },
  {
   "cell_type": "code",
   "execution_count": null,
   "metadata": {},
   "outputs": [],
   "source": []
  },
  {
   "cell_type": "code",
   "execution_count": 46,
   "metadata": {
    "collapsed": true,
    "jupyter": {
     "outputs_hidden": true,
     "source_hidden": true
    },
    "tags": []
   },
   "outputs": [
    {
     "data": {
      "text/plain": [
       "<AxesSubplot:>"
      ]
     },
     "execution_count": 46,
     "metadata": {},
     "output_type": "execute_result"
    },
    {
     "data": {
      "image/png": "[encoded data removed]",
      "text/plain": [
       "<Figure size 432x288 with 1 Axes>"
      ]
     },
     "metadata": {
      "needs_background": "light"
     },
     "output_type": "display_data"
    }
   ],
   "source": [
    "# answer\n",
    "\n",
    "x1 = np.arange(-10, 11)\n",
    "b0 = 0.1\n",
    "b1 = 0.5\n",
    "ys=sig2(b0, b1, x1)\n",
    "\n",
    "sns.lineplot(x=x1, y=ys)"
   ]
  },
  {
   "cell_type": "markdown",
   "metadata": {},
   "source": [
    "3c) What is the value of `sig2` when x1 = 0? Recall the original `sigmoid` outputs probability 0.5 when x=0. Explain why it is different."
   ]
  },
  {
   "cell_type": "code",
   "execution_count": null,
   "metadata": {},
   "outputs": [],
   "source": []
  },
  {
   "cell_type": "code",
   "execution_count": 28,
   "metadata": {
    "collapsed": true,
    "jupyter": {
     "outputs_hidden": true,
     "source_hidden": true
    },
    "tags": []
   },
   "outputs": [
    {
     "data": {
      "text/plain": [
       "0.52497918747894"
      ]
     },
     "execution_count": 28,
     "metadata": {},
     "output_type": "execute_result"
    }
   ],
   "source": [
    "# answer\n",
    "sig2(b0, b1, 0)"
   ]
  },
  {
   "cell_type": "markdown",
   "metadata": {},
   "source": [
    "3d) Use `sig2` with the parameter values below to produce a graph.\n",
    "\n",
    "b0 = 0.1  \n",
    "b1 = 20 # this was previously 0.5\n",
    "\n",
    "Let X1 range from -10 to 10, inclusive.\n",
    "\n",
    "How is this graph different from the graph in 3b?"
   ]
  },
  {
   "cell_type": "code",
   "execution_count": null,
   "metadata": {},
   "outputs": [],
   "source": []
  },
  {
   "cell_type": "code",
   "execution_count": 48,
   "metadata": {
    "collapsed": true,
    "jupyter": {
     "outputs_hidden": true,
     "source_hidden": true
    },
    "tags": []
   },
   "outputs": [
    {
     "data": {
      "text/plain": [
       "<AxesSubplot:>"
      ]
     },
     "execution_count": 48,
     "metadata": {},
     "output_type": "execute_result"
    },
    {
     "data": {
      "image/png": "[encoded data removed]",
      "text/plain": [
       "<Figure size 432x288 with 1 Axes>"
      ]
     },
     "metadata": {
      "needs_background": "light"
     },
     "output_type": "display_data"
    }
   ],
   "source": [
    "#answer\n",
    "\n",
    "b0 = 0.1\n",
    "b1 = 20\n",
    "ys=sig2(b0, b1, x1)\n",
    "\n",
    "sns.lineplot(x=x1, y=ys)\n",
    "\n",
    "# The values more rapidly move to 0 and 1. For example, for x=2.5, the sig2 is 1. This is because b1 is so much larger."
   ]
  },
  {
   "cell_type": "markdown",
   "metadata": {},
   "source": [
    "---"
   ]
  },
  {
   "cell_type": "markdown",
   "metadata": {},
   "source": [
    "### D. Model Fitting\n",
    "\n",
    "Given a training dataset, the parameters in the sigmoid function can be determined such that the model best fits the data.  \n",
    "This is the process of training the model.\n",
    "\n",
    "The training dataset consists of a pair: (predictor values, label) for each observed measurement.  \n",
    "For example, if $X1 = 2.5$ and $Y=1$, the pair would be (2.5, 1).\n",
    "\n",
    "To determine \"best fit,\" an objective function is used. The specific fitting process is beyond the scope of this course.\n",
    "\n",
    "Software such as `sklearn` can do this fitting efficiently."
   ]
  },
  {
   "cell_type": "markdown",
   "metadata": {},
   "source": [
    "---"
   ]
  }
 ],
 "metadata": {
  "anaconda-cloud": {},
  "kernelspec": {
   "display_name": "Python 3 (ipykernel)",
   "language": "python",
   "name": "python3"
  },
  "language_info": {
   "codemirror_mode": {
    "name": "ipython",
    "version": 3
   },
   "file_extension": ".py",
   "mimetype": "text/x-python",
   "name": "python",
   "nbconvert_exporter": "python",
   "pygments_lexer": "ipython3",
   "version": "3.9.12"
  }
 },
 "nbformat": 4,
 "nbformat_minor": 4
}
