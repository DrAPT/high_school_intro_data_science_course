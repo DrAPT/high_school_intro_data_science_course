{
 "cells": [
  {
   "cell_type": "markdown",
   "metadata": {
    "tags": []
   },
   "source": [
    "## Coding Assignment 1: Error Measurement [SOLUTIONS]\n",
    "\n",
    "### Introduction to Data Science\n",
    "#### Last Updated: November 28, 2022\n",
    "\n",
    "---"
   ]
  },
  {
   "cell_type": "markdown",
   "metadata": {},
   "source": [
    "### Skills Assessed\n",
    "\n",
    "You will demonstrate these skills in the HW:\n",
    "- Compute accuracy, recall, and precision for a binary classifier\n",
    "- How to fit a linear regression model\n",
    "- How to compute rmse\n",
    "\n",
    "---"
   ]
  },
  {
   "cell_type": "markdown",
   "metadata": {},
   "source": [
    "### Instructions\n",
    "\n",
    "Show all work and solutions for each question below. \n",
    "\n",
    "**TOTAL POINTS: 10**\n",
    "\n",
    "---"
   ]
  },
  {
   "cell_type": "markdown",
   "metadata": {},
   "source": [
    "### 1) Binary Classification\n",
    "\n",
    "1a. A binary classifier is used to detect a disease in a group of subjects.  \n",
    "The prediction and actual status are shown below for five subjects.  \n",
    "Showing all work, compute:\n",
    "- accuracy **(1 PT)**\n",
    "- recall **(1 PT)**\n",
    "- precision **(1 PT)**"
   ]
  },
  {
   "cell_type": "markdown",
   "metadata": {},
   "source": [
    "| Subject |Prediction| Actual |\n",
    "| ----------- | ----------- |  ----------- |\n",
    "| 1 | Positive | Positive |\n",
    "| 2 | Negative      |  Negative   |\n",
    "| 3 | Negative      |  Positive   |\n",
    "| 4 | Negative      |  Positive   |\n",
    "| 5 | Positive      |  Negative   |"
   ]
  },
  {
   "cell_type": "code",
   "execution_count": null,
   "metadata": {},
   "outputs": [],
   "source": []
  },
  {
   "cell_type": "markdown",
   "metadata": {},
   "source": [
    "Answer\n",
    "\n",
    "accuracy = 2 correct / 5 total = 0.4  \n",
    "recall = 1 true positive / 3 positive = 0.33  \n",
    "precision = 1 true positive / 2 predicted positive = 0.5"
   ]
  },
  {
   "cell_type": "markdown",
   "metadata": {},
   "source": [
    "1b. **(1 PT)** How can a binary classifier get perfect recall? Can you think of any problem with this method?"
   ]
  },
  {
   "cell_type": "code",
   "execution_count": null,
   "metadata": {},
   "outputs": [],
   "source": []
  },
  {
   "cell_type": "markdown",
   "metadata": {},
   "source": [
    "Answer\n",
    "\n",
    "A binary classifier can guess positive for all cases and get perfect recall. The problem is that the precision might be low (unless all cases truly are positive). This is why it is important to measure recall and precision."
   ]
  },
  {
   "cell_type": "markdown",
   "metadata": {},
   "source": [
    "### 2) Regression\n"
   ]
  },
  {
   "cell_type": "markdown",
   "metadata": {},
   "source": [
    "Continue the example with the Ames housing dataset"
   ]
  },
  {
   "cell_type": "markdown",
   "metadata": {
    "tags": []
   },
   "source": [
    "Read in the dataset"
   ]
  },
  {
   "cell_type": "code",
   "execution_count": 5,
   "metadata": {},
   "outputs": [],
   "source": [
    "import pandas as pd"
   ]
  },
  {
   "cell_type": "code",
   "execution_count": 6,
   "metadata": {},
   "outputs": [],
   "source": [
    "housing_datafile = '../datasets/ames_housing.csv'\n",
    "housing = pd.read_csv(housing_datafile)"
   ]
  },
  {
   "cell_type": "markdown",
   "metadata": {},
   "source": [
    "2a. **(2 PTS)** Use both `1stFlrSF` and `2ndFlrSF` as predictors in a linear regression model, where `SalePrice` is the target. Compute rmse."
   ]
  },
  {
   "cell_type": "markdown",
   "metadata": {},
   "source": []
  },
  {
   "cell_type": "code",
   "execution_count": 7,
   "metadata": {},
   "outputs": [
    {
     "name": "stdout",
     "output_type": "stream",
     "text": [
      "52022.39908574877\n"
     ]
    }
   ],
   "source": [
    "# ans\n",
    "\n",
    "from sklearn.linear_model import LinearRegression\n",
    "from sklearn.metrics import mean_squared_error\n",
    "import math\n",
    "import seaborn as sns\n",
    "\n",
    "target = 'SalePrice'\n",
    "\n",
    "X = housing[['1stFlrSF','2ndFlrSF']].values\n",
    "y = housing[target].values\n",
    "\n",
    "reg = LinearRegression().fit(X, y)\n",
    "preds = reg.predict(X)\n",
    "mse = mean_squared_error(y, preds)\n",
    "rmse = math.sqrt(mse)\n",
    "print(rmse)"
   ]
  },
  {
   "cell_type": "markdown",
   "metadata": {},
   "source": [
    "2b. **(1 PT)** Compute and print the largest error, where error is defined as:\n",
    "\n",
    "error = actual SalePrice - predicted SalePrice"
   ]
  },
  {
   "cell_type": "code",
   "execution_count": null,
   "metadata": {},
   "outputs": [],
   "source": []
  },
  {
   "cell_type": "code",
   "execution_count": 8,
   "metadata": {},
   "outputs": [
    {
     "data": {
      "text/plain": [
       "287212.5558268457"
      ]
     },
     "execution_count": 8,
     "metadata": {},
     "output_type": "execute_result"
    }
   ],
   "source": [
    "# ans\n",
    "\n",
    "errors = y - preds\n",
    "max(errors)"
   ]
  },
  {
   "cell_type": "markdown",
   "metadata": {},
   "source": [
    "2c. **(1 PT)** Compute and print the largest absolute error (either positive or negative)"
   ]
  },
  {
   "cell_type": "code",
   "execution_count": null,
   "metadata": {},
   "outputs": [],
   "source": []
  },
  {
   "cell_type": "code",
   "execution_count": 9,
   "metadata": {},
   "outputs": [
    {
     "data": {
      "text/plain": [
       "578685.6986997225"
      ]
     },
     "execution_count": 9,
     "metadata": {},
     "output_type": "execute_result"
    }
   ],
   "source": [
    "# ans\n",
    "\n",
    "errors = y - preds\n",
    "max(abs(errors))"
   ]
  },
  {
   "cell_type": "markdown",
   "metadata": {},
   "source": [
    "2d. **(2 PTS)** How does this model compare to the models using 1stFlrSF and 2ndFlrSF separately (from the lecture notes)?  \n",
    "Does this make sense? Explain your answer."
   ]
  },
  {
   "cell_type": "code",
   "execution_count": null,
   "metadata": {},
   "outputs": [],
   "source": []
  },
  {
   "cell_type": "markdown",
   "metadata": {},
   "source": [
    "ans: The rmse is lower than the model using 1stFlrSF and 2ndFlrSF separately. This makes sense as both variables are important in explaining SalePrice."
   ]
  },
  {
   "cell_type": "markdown",
   "metadata": {},
   "source": [
    "2e. Use `1stFlrSF` and `2ndFlrSF` as predictors, where `SalePrice` is the target.  \n",
    "See if you can include a third predictor that lowers the rmse below the value from question 2a.  Show all work."
   ]
  },
  {
   "cell_type": "code",
   "execution_count": null,
   "metadata": {},
   "outputs": [],
   "source": []
  },
  {
   "cell_type": "code",
   "execution_count": 10,
   "metadata": {},
   "outputs": [
    {
     "name": "stdout",
     "output_type": "stream",
     "text": [
      "rmse2: 51957.77450966451\n",
      "LotArea is a useful predictor\n"
     ]
    }
   ],
   "source": [
    "# ans\n",
    "\n",
    "X2 = housing[['1stFlrSF','2ndFlrSF','LotArea']].values\n",
    "y = housing[target].values.reshape(-1,1)\n",
    "\n",
    "reg = LinearRegression().fit(X2, y)\n",
    "preds2 = reg.predict(X2)\n",
    "mse2 = mean_squared_error(y, preds2)\n",
    "rmse2 = math.sqrt(mse2)\n",
    "print('rmse2:', rmse2)\n",
    "print('LotArea is a useful predictor')"
   ]
  },
  {
   "cell_type": "markdown",
   "metadata": {},
   "source": [
    "---"
   ]
  }
 ],
 "metadata": {
  "anaconda-cloud": {},
  "kernelspec": {
   "display_name": "Python 3 (ipykernel)",
   "language": "python",
   "name": "python3"
  },
  "language_info": {
   "codemirror_mode": {
    "name": "ipython",
    "version": 3
   },
   "file_extension": ".py",
   "mimetype": "text/x-python",
   "name": "python",
   "nbconvert_exporter": "python",
   "pygments_lexer": "ipython3",
   "version": "3.9.12"
  }
 },
 "nbformat": 4,
 "nbformat_minor": 4
}
