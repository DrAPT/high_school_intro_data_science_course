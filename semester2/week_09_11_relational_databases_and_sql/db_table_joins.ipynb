{
 "cells": [
  {
   "cell_type": "markdown",
   "id": "b05f03d1-3af1-4233-9eb9-2b7636fe6550",
   "metadata": {},
   "source": [
    "## Table Joins in a Relational Database\n",
    "\n",
    "### Introduction to Data Science\n",
    "### Last Updated: October 15, 2022\n",
    "---  \n",
    "\n",
    "### OBJECTIVES\n",
    "- Understand how to join tables in a relational database\n",
    "- Differentiate between different types of joins\n",
    "\n",
    "### CONCEPTS\n",
    "- left join\n",
    "- inner join\n",
    "\n",
    "---\n"
   ]
  },
  {
   "cell_type": "markdown",
   "id": "b01a7a0c-ba59-47b3-8055-e4165b4288e3",
   "metadata": {
    "tags": []
   },
   "source": [
    "### I. Table Joins\n",
    "\n",
    "Joining tables allows you to use data from multiples tables that is common to records.\n",
    "\n",
    "Run the cells below and fill in the missing code to accomplish the tasks.\n",
    "\n",
    "You might want to use the sqlite lecture notes as a reference."
   ]
  },
  {
   "cell_type": "code",
   "execution_count": 1,
   "id": "c9181b94-5812-4218-94ca-450cd03f6784",
   "metadata": {},
   "outputs": [],
   "source": [
    "# import the SQLite API\n",
    "import sqlite3"
   ]
  },
  {
   "cell_type": "code",
   "execution_count": 2,
   "id": "12d4c34b-7e5d-4977-ba4d-0529b4b6e7b4",
   "metadata": {},
   "outputs": [],
   "source": [
    "# create some data\n",
    "company_hq = [\n",
    "        ('AMZN','Seattle'),\n",
    "        ('AAPL','Cupertino'),\n",
    "        ('GOOG','Mountain View')]\n",
    "\n",
    "company_ceos = [\n",
    "        ('AMZN','Andy Jassy'),\n",
    "        ('AAPL','Tim Cook')]"
   ]
  },
  {
   "cell_type": "code",
   "execution_count": 3,
   "id": "55d5b838-60fa-455f-93a7-cbca5693f1ca",
   "metadata": {},
   "outputs": [],
   "source": [
    "# set path to the database; modify to match your path; use forward slashes '/' in Python\n",
    "PATH_TO_DB = \"C:/Users/apt4c/Documents/database/sqlite/stocks.db\"    "
   ]
  },
  {
   "cell_type": "code",
   "execution_count": 4,
   "id": "98e1940f-346a-479c-9e79-432e69680abc",
   "metadata": {},
   "outputs": [],
   "source": [
    "# create db connection\n",
    "conn = sqlite3.connect(PATH_TO_DB)\n",
    "\n",
    "# create cursor\n",
    "cur = conn.cursor()"
   ]
  },
  {
   "cell_type": "markdown",
   "id": "62802e3b-fa6c-4ebe-9959-d3a3143b8897",
   "metadata": {},
   "source": [
    "Create a table in the db called `hq` and pass schema (ticker text, location text).  \n",
    "End the transaction with a commit."
   ]
  },
  {
   "cell_type": "code",
   "execution_count": null,
   "id": "7c9a7969-7052-4cbe-b9e9-49baf3568bc0",
   "metadata": {},
   "outputs": [],
   "source": []
  },
  {
   "cell_type": "markdown",
   "id": "d44213f8-7fd7-4b3e-a4ac-97b8c7a4df95",
   "metadata": {},
   "source": [
    "Create a table in the db called `ceo` and pass schema (ticker text, ceo text).  \n",
    "End the transaction with a commit."
   ]
  },
  {
   "cell_type": "code",
   "execution_count": null,
   "id": "117c678c-9ee7-42a4-8611-727fc1388de3",
   "metadata": {},
   "outputs": [],
   "source": []
  },
  {
   "cell_type": "markdown",
   "id": "33f773ef-a7f4-4d2a-8378-b15217953893",
   "metadata": {},
   "source": [
    "Insert the records into the `hq` table"
   ]
  },
  {
   "cell_type": "code",
   "execution_count": null,
   "id": "069bb6ff-a148-475a-8c1a-a3a94b899c33",
   "metadata": {},
   "outputs": [],
   "source": []
  },
  {
   "cell_type": "markdown",
   "id": "53dd4a7e-1cc1-4a3d-a883-06f21e44f612",
   "metadata": {},
   "source": [
    "Insert the records into the `ceo` table"
   ]
  },
  {
   "cell_type": "code",
   "execution_count": null,
   "id": "a482da9f-f1d6-4d58-ae3e-da52be7c63da",
   "metadata": {},
   "outputs": [],
   "source": []
  },
  {
   "cell_type": "markdown",
   "id": "89be7efe-6abf-42e6-bfad-90fc08e3e713",
   "metadata": {},
   "source": [
    "Query each table to make sure all the data has been loaded"
   ]
  },
  {
   "cell_type": "code",
   "execution_count": null,
   "id": "e7c720c3-a327-4f5c-8961-680dcfd5d9dc",
   "metadata": {},
   "outputs": [],
   "source": []
  },
  {
   "cell_type": "code",
   "execution_count": null,
   "id": "baed675d-48e0-4081-9a38-0bd2f0b7a2a3",
   "metadata": {},
   "outputs": [],
   "source": []
  },
  {
   "cell_type": "markdown",
   "id": "d88913ad-11ea-499f-bc10-055e2941e49f",
   "metadata": {},
   "source": [
    "**TABLE JOIN**  \n",
    "Join the two tables together, printing records with columns: ticker, location, ceo"
   ]
  },
  {
   "cell_type": "code",
   "execution_count": 22,
   "id": "80d78262-cf3d-4552-8a17-c3b9c02bd140",
   "metadata": {},
   "outputs": [
    {
     "name": "stdout",
     "output_type": "stream",
     "text": [
      "('AMZN', 'Seattle', 'Andy Jassy')\n",
      "('AAPL', 'Cupertino', 'Tim Cook')\n"
     ]
    }
   ],
   "source": [
    "for row in conn.execute('SELECT hq.ticker, hq.location, ceo.ceo_name \\\n",
    "                        FROM ceo INNER JOIN hq \\\n",
    "                        ON hq.ticker = ceo.ticker'):\n",
    "    print(row)"
   ]
  },
  {
   "cell_type": "markdown",
   "id": "363f7397-e4a8-4a86-9a85-872b96c6d096",
   "metadata": {},
   "source": [
    "Things to notice:\n",
    "- `hq.ticker` means select field `ticker` from table `hq`. this makes the selection clear.\n",
    "- an `INNER JOIN` only returns records appearing in both tables\n",
    "- `ON` specifies how records are matched across tables\n",
    "\n",
    "---"
   ]
  },
  {
   "cell_type": "markdown",
   "id": "060b1df2-5c6c-47ea-abc6-408bdc2443a0",
   "metadata": {},
   "source": [
    "**TRY AND DISCUSS**\n",
    "\n",
    "Change INNER JOIN to LEFT JOIN, run the query, and notice the result. Explain the difference and why it happens."
   ]
  },
  {
   "cell_type": "code",
   "execution_count": null,
   "id": "c70dd1c6-c2f0-46ee-aa16-dcc5ee9663c4",
   "metadata": {},
   "outputs": [],
   "source": []
  },
  {
   "cell_type": "markdown",
   "id": "03ec96b7-2e3e-4de0-9631-20746f96ce5d",
   "metadata": {},
   "source": [
    "---\n"
   ]
  },
  {
   "cell_type": "markdown",
   "id": "23d8a371-7e88-41f5-906d-8a6f2f584c87",
   "metadata": {},
   "source": [
    "### Summary\n",
    "\n",
    "Now that you know how to join tables, you can build larger, more informative data sets.\n",
    "\n",
    "This will expand what you can do as a data scientist!"
   ]
  },
  {
   "cell_type": "markdown",
   "id": "6159464a-c357-49fe-9c0b-530741efe8e5",
   "metadata": {},
   "source": [
    "---"
   ]
  }
 ],
 "metadata": {
  "kernelspec": {
   "display_name": "Python 3 (ipykernel)",
   "language": "python",
   "name": "python3"
  },
  "language_info": {
   "codemirror_mode": {
    "name": "ipython",
    "version": 3
   },
   "file_extension": ".py",
   "mimetype": "text/x-python",
   "name": "python",
   "nbconvert_exporter": "python",
   "pygments_lexer": "ipython3",
   "version": "3.9.12"
  }
 },
 "nbformat": 4,
 "nbformat_minor": 5
}
