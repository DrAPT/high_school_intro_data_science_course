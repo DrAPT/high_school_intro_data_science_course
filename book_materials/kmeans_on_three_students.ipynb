{
 "cells": [
  {
   "cell_type": "markdown",
   "id": "23595ad1-2d3a-4e98-a50f-255aae3fe493",
   "metadata": {},
   "source": [
    "### K-Means Example with Three Students\n",
    "#### Last updated: March 22, 2023"
   ]
  },
  {
   "cell_type": "code",
   "execution_count": 1,
   "id": "e9041036-3cb5-4195-b409-9eb719206882",
   "metadata": {},
   "outputs": [],
   "source": [
    "import numpy as np\n",
    "import matplotlib.pyplot as plt\n",
    "import pandas as pd\n",
    "import re\n",
    "import seaborn as sns \n",
    "from sklearn.preprocessing import StandardScaler\n",
    "from sklearn.cluster import KMeans\n",
    "from sklearn.metrics import silhouette_score"
   ]
  },
  {
   "cell_type": "markdown",
   "id": "623a8952-0378-4b18-82cf-3fc062238529",
   "metadata": {},
   "source": [
    "### Set up Data"
   ]
  },
  {
   "cell_type": "code",
   "execution_count": 45,
   "id": "9632ca13-0104-44b6-a1b3-93e49254f294",
   "metadata": {},
   "outputs": [],
   "source": [
    "# rows are students, columns are grades\n",
    "data = np.array([[70, 82],\n",
    "                 [75, 80],\n",
    "                 [95, 90]])\n",
    "\n",
    "# number of students\n",
    "nobs = data.shape[0]"
   ]
  },
  {
   "cell_type": "markdown",
   "id": "7b2a84cd-60b2-4285-9f48-2119772e7ac5",
   "metadata": {},
   "source": [
    "### Fit k-means"
   ]
  },
  {
   "cell_type": "code",
   "execution_count": 51,
   "id": "676ac6ba-3a79-4f73-9689-a8f6aa2bfab4",
   "metadata": {},
   "outputs": [],
   "source": [
    "rand = 314\n",
    "num_clusters = 2\n",
    "num_inits = 1000\n",
    "\n",
    "kmeans = KMeans(n_clusters=num_clusters,\n",
    "                random_state=rand,\n",
    "                n_init=num_inits).fit(data)"
   ]
  },
  {
   "cell_type": "markdown",
   "id": "6a124ade-db57-43b5-9769-26392dcaf845",
   "metadata": {},
   "source": [
    "#### Extract centroids"
   ]
  },
  {
   "cell_type": "code",
   "execution_count": 52,
   "id": "d71431e6-de18-47b0-9e11-3ec55f360e4c",
   "metadata": {},
   "outputs": [
    {
     "data": {
      "text/plain": [
       "array([[72.5, 81. ],\n",
       "       [95. , 90. ]])"
      ]
     },
     "execution_count": 52,
     "metadata": {},
     "output_type": "execute_result"
    }
   ],
   "source": [
    "centroids = kmeans.cluster_centers_\n",
    "centroids"
   ]
  },
  {
   "cell_type": "markdown",
   "id": "b0b5fd9b-1f43-4411-b736-b0ce36cc1e56",
   "metadata": {},
   "source": [
    "#### Plot the points and centroids"
   ]
  },
  {
   "cell_type": "code",
   "execution_count": 58,
   "id": "bc40d9b3-7ab9-49af-9811-275ac0650532",
   "metadata": {},
   "outputs": [
    {
     "data": {
      "image/png": "[encoded data removed]",
      "text/plain": [
       "<Figure size 432x288 with 1 Axes>"
      ]
     },
     "metadata": {
      "needs_background": "light"
     },
     "output_type": "display_data"
    }
   ],
   "source": [
    "for i in range(nobs):\n",
    "    plt.plot(data[i][0],data[i][1],marker=\"o\", markersize=10)\n",
    "for c in range(num_clusters):\n",
    "    plt.plot(centroids[c][0],centroids[c][1],marker=\"x\", markersize=10)\n",
    "plt.xlim(65, 100)\n",
    "plt.ylim(70, 100)\n",
    "plt.xlabel('exam1')\n",
    "plt.ylabel('exam2')\n",
    "plt.grid()"
   ]
  },
  {
   "cell_type": "markdown",
   "id": "58589559-55c4-49d3-8cf4-24dcc96ece75",
   "metadata": {},
   "source": [
    "Within Sum of Squares Error"
   ]
  },
  {
   "cell_type": "code",
   "execution_count": 60,
   "id": "52e5eb42-a952-4e5f-bd3e-31995f64d618",
   "metadata": {},
   "outputs": [
    {
     "data": {
      "text/plain": [
       "14.5"
      ]
     },
     "execution_count": 60,
     "metadata": {},
     "output_type": "execute_result"
    }
   ],
   "source": [
    "kmeans.inertia_"
   ]
  }
 ],
 "metadata": {
  "kernelspec": {
   "display_name": "Python 3 (ipykernel)",
   "language": "python",
   "name": "python3"
  },
  "language_info": {
   "codemirror_mode": {
    "name": "ipython",
    "version": 3
   },
   "file_extension": ".py",
   "mimetype": "text/x-python",
   "name": "python",
   "nbconvert_exporter": "python",
   "pygments_lexer": "ipython3",
   "version": "3.9.12"
  }
 },
 "nbformat": 4,
 "nbformat_minor": 5
}
