{
 "cells": [
  {
   "cell_type": "markdown",
   "id": "bb27dd0a-627e-44fa-8176-2fe670c38712",
   "metadata": {},
   "source": [
    "<img src=\"../../predictioNN_Logo_JPG(72).jpg\" width=200>"
   ]
  },
  {
   "cell_type": "markdown",
   "id": "c4181d56-668d-4793-984d-f4f0666e2a93",
   "metadata": {},
   "source": [
    "## Book Solutions\n",
    "### Chapter 16: Model Risk\n",
    "\n",
    "Last updated: May 6, 2023\n",
    "\n",
    "---"
   ]
  },
  {
   "cell_type": "markdown",
   "id": "8dffd3c2-41f6-442f-8bf6-5f6c85b3b932",
   "metadata": {},
   "source": []
  },
  {
   "cell_type": "markdown",
   "id": "6e28c2dd-5eb9-444f-b85d-8b65cc929163",
   "metadata": {},
   "source": [
    "1."
   ]
  },
  {
   "cell_type": "markdown",
   "id": "839a418a-48d3-48d7-a813-47634f95a59d",
   "metadata": {},
   "source": [
    "Answer: \n",
    "\n",
    "\n",
    "---"
   ]
  },
  {
   "cell_type": "markdown",
   "id": "24aa5c8a-0a6c-4323-afa4-157912d1e12c",
   "metadata": {},
   "source": []
  },
  {
   "cell_type": "markdown",
   "id": "088e76cb-4598-4a24-9472-83160aa173b4",
   "metadata": {},
   "source": [
    "Answer: \n",
    "\n",
    "---"
   ]
  },
  {
   "cell_type": "markdown",
   "id": "260a182c-923a-442a-9a60-a1d32be72b5e",
   "metadata": {},
   "source": []
  },
  {
   "cell_type": "markdown",
   "id": "78c8d8b8-4b83-48c3-9b73-952aaae80453",
   "metadata": {},
   "source": [
    "Answer: \n",
    "\n",
    "\n",
    "---"
   ]
  },
  {
   "cell_type": "markdown",
   "id": "773fa7e6-8b52-41f6-8691-ecd495889db7",
   "metadata": {},
   "source": []
  },
  {
   "cell_type": "markdown",
   "id": "a36302bf-2931-4371-97b2-f2d8fc939d2b",
   "metadata": {},
   "source": [
    "Answer:\n",
    "\n",
    "\n",
    "---"
   ]
  },
  {
   "cell_type": "markdown",
   "id": "6162c004-2344-4d46-8354-8ec90ce92bd5",
   "metadata": {},
   "source": []
  },
  {
   "cell_type": "markdown",
   "id": "2a4f7dd3-3536-414f-bf91-71458587dc8b",
   "metadata": {},
   "source": [
    "Answer:\n",
    "\n",
    "\n",
    "\n",
    "---"
   ]
  },
  {
   "cell_type": "markdown",
   "id": "732d6e1f-0165-460a-8bb9-1ab4198dc28c",
   "metadata": {},
   "source": []
  },
  {
   "cell_type": "markdown",
   "id": "dcebdeb1-8e89-46c1-82e6-27ceefc2661a",
   "metadata": {},
   "source": [
    "Answer: \n",
    "\n",
    "\n",
    "---"
   ]
  },
  {
   "cell_type": "markdown",
   "id": "133ce299-58fb-459b-a51a-7c6151f50e9c",
   "metadata": {},
   "source": []
  },
  {
   "cell_type": "markdown",
   "id": "f9ff0403-e07c-4d90-9ca2-4cb43a81e582",
   "metadata": {},
   "source": [
    "Answer:\n",
    "\n",
    "\n",
    "---"
   ]
  },
  {
   "cell_type": "markdown",
   "id": "25c0b990-4201-49b4-aa4f-f63367f914ea",
   "metadata": {},
   "source": []
  },
  {
   "cell_type": "markdown",
   "id": "9880fc56-3e1c-4b91-8e78-79114d55e149",
   "metadata": {},
   "source": [
    "Answer:\n",
    "\n",
    "The `predict_proba()` function will produce a predicted probability.  \n",
    "This probability can be thresholded at cutoff 0.5 to produce predicted labels.  \n",
    "This function is useful, for example, if a different threshold might be applied to determine the predicted label.\n",
    "\n",
    "The `predict()` function will produce a predicted label.  \n",
    "This can be useful for producing a confusion matrix, for example,\n",
    "where the probability cutoff is 0.5.\n",
    "\n",
    "\n",
    "---"
   ]
  },
  {
   "cell_type": "markdown",
   "id": "5bfd957d-1d63-40bd-8324-6db7f5fca6f1",
   "metadata": {},
   "source": [
    "18. A logistic regression model was applied to a live dataset. The  resulting precision was deemed too low by product leadership. What can be done to the probability threshold to produce a higher precision?"
   ]
  },
  {
   "cell_type": "markdown",
   "id": "dcce7471-1332-4fb3-bd29-b58a3e873084",
   "metadata": {},
   "source": [
    "Answer:\n",
    "\n",
    "Setting a higher probability threshold may increase the precision, as the hurdle to predict a positive label will be higher.  \n",
    "This may reduce the number of false positives.\n",
    "\n",
    "---"
   ]
  }
 ],
 "metadata": {
  "kernelspec": {
   "display_name": "Python 3 (ipykernel)",
   "language": "python",
   "name": "python3"
  },
  "language_info": {
   "codemirror_mode": {
    "name": "ipython",
    "version": 3
   },
   "file_extension": ".py",
   "mimetype": "text/x-python",
   "name": "python",
   "nbconvert_exporter": "python",
   "pygments_lexer": "ipython3",
   "version": "3.9.12"
  }
 },
 "nbformat": 4,
 "nbformat_minor": 5
}
